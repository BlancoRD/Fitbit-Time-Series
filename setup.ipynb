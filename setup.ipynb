{
 "cells": [
  {
   "cell_type": "markdown",
   "metadata": {},
   "source": [
    "# Predicting Missing Fitbit Data"
   ]
  },
  {
   "cell_type": "markdown",
   "metadata": {},
   "source": [
    "## Summary of Findings"
   ]
  },
  {
   "cell_type": "markdown",
   "metadata": {},
   "source": [
    "---\n",
    "## Project Plan\n",
    "\n",
    "### Goals\n",
    " - Predict missing values from the data set using clustering\n",
    " - Derive insights on \"Armstrong\", the person from whom the fitness data was generated\n",
    "\n",
    "### Hypotheses\n",
    " - There are patterns on Armstrong's daily activities.\n",
    " - Armstrong's fitness activity is affected by the month/season of the year.\n",
    "\n",
    "### Data Science Skills Used\n",
    " - Data prep and cleaning\n",
    " - Time Series Analysis\n",
    " - Visualization\n",
    " - Modeling using Parametric Methods\n",
    " - Modeling using the Prophet algorithm\n",
    " - Evaluation of Models"
   ]
  },
  {
   "cell_type": "markdown",
   "metadata": {},
   "source": [
    "---\n",
    "## Data Dictionary"
   ]
  },
  {
   "cell_type": "markdown",
   "metadata": {},
   "source": [
    "---\n",
    "## Notes on the Fitbit Data:\n",
    "\n",
    "We are given eight .csv files that hold monthly data of an individual, whom we elect to call \"Armstrong\". Before we begin wrangling the data, we peruse all the files and made initial notes as follows:\n",
    "\n",
    "1. The \"missing\" data is from 6/27/2018 - 7/6/2018 on the following variables:\n",
    "  - Steps\n",
    "  - Distance\n",
    "  - Floors\n",
    "  - Lightly Active in Minutes\n",
    "  - Fairly Active in Minutes\n",
    "  - Very Active in Minutes\n",
    "2. Food/ Food log data is almost empty. There are only 1 record available in May-June data, and 7 records in the October-November data.\n",
    "3. The data range covers April 26, 2018 to December 6, 2018."
   ]
  },
  {
   "cell_type": "markdown",
   "metadata": {},
   "source": [
    "### Packages"
   ]
  },
  {
   "cell_type": "code",
   "execution_count": 53,
   "metadata": {},
   "outputs": [
    {
     "ename": "IndentationError",
     "evalue": "unindent does not match any outer indentation level (model.py, line 43)",
     "output_type": "error",
     "traceback": [
      "Traceback \u001b[0;36m(most recent call last)\u001b[0m:\n",
      "  File \u001b[1;32m\"/usr/local/anaconda3/lib/python3.7/site-packages/IPython/core/interactiveshell.py\"\u001b[0m, line \u001b[1;32m3325\u001b[0m, in \u001b[1;35mrun_code\u001b[0m\n    exec(code_obj, self.user_global_ns, self.user_ns)\n",
      "\u001b[0;36m  File \u001b[0;32m\"<ipython-input-53-193775f34753>\"\u001b[0;36m, line \u001b[0;32m26\u001b[0;36m, in \u001b[0;35m<module>\u001b[0;36m\u001b[0m\n\u001b[0;31m    import model\u001b[0m\n",
      "\u001b[0;36m  File \u001b[0;32m\"/Users/cris/codeup-data-science/Fitbit-Time-Series/model.py\"\u001b[0;36m, line \u001b[0;32m43\u001b[0m\n\u001b[0;31m    temp_eval_df = pd.concat([pd.DataFrame([[model_type, i, 'mse', evaluate(target_var = i,\u001b[0m\n\u001b[0m                                                                                            ^\u001b[0m\n\u001b[0;31mIndentationError\u001b[0m\u001b[0;31m:\u001b[0m unindent does not match any outer indentation level\n"
     ]
    }
   ],
   "source": [
    "# data manipulation \n",
    "import numpy as np\n",
    "import pandas as pd\n",
    "\n",
    "from statsmodels.tsa.api import ExponentialSmoothing, SimpleExpSmoothing, Holt\n",
    "import statsmodels.api as sm\n",
    "from statsmodels.tsa.ar_model import AR\n",
    "\n",
    "from sklearn.model_selection import TimeSeriesSplit\n",
    "from sklearn import metrics\n",
    "\n",
    "import math\n",
    "\n",
    "# data visualization \n",
    "import matplotlib\n",
    "import matplotlib.pyplot as plt\n",
    "import seaborn as sns\n",
    "%matplotlib inline\n",
    "\n",
    "# ignore warning\n",
    "import warnings\n",
    "warnings.filterwarnings(\"ignore\")\n",
    "\n",
    "# project_specific modules\n",
    "import acquire\n",
    "import model"
   ]
  },
  {
   "cell_type": "markdown",
   "metadata": {},
   "source": [
    "## I. Acquire and Preprocess"
   ]
  },
  {
   "cell_type": "markdown",
   "metadata": {},
   "source": [
    "We manipulated the individual csv files from Excel, and decided to create a single .csv file as the size of the data is manageable. We only wanted the activity data, and not the food/food log data which barely contain any data.\n",
    "\n",
    "`act.csv` is the csv file that integrates all relevant activitiy data from the eight .csv files provided.\n",
    "\n",
    "`get_activity` function from the acquire.py module produces a data frame out of `act.csv` and renames the columns for efficiency."
   ]
  },
  {
   "cell_type": "code",
   "execution_count": 28,
   "metadata": {},
   "outputs": [],
   "source": [
    "df = acquire.get_activity()"
   ]
  },
  {
   "cell_type": "markdown",
   "metadata": {},
   "source": [
    "Look at data and see if there are nulls and inappropriate data types."
   ]
  },
  {
   "cell_type": "code",
   "execution_count": 29,
   "metadata": {},
   "outputs": [
    {
     "name": "stdout",
     "output_type": "stream",
     "text": [
      "<class 'pandas.core.frame.DataFrame'>\n",
      "RangeIndex: 225 entries, 0 to 224\n",
      "Data columns (total 10 columns):\n",
      "date                 225 non-null object\n",
      "cal_burn             225 non-null object\n",
      "steps                225 non-null object\n",
      "distance             225 non-null float64\n",
      "floors               225 non-null int64\n",
      "min_sed              225 non-null object\n",
      "min_active_light     225 non-null int64\n",
      "min_active_fairly    225 non-null int64\n",
      "min_active_very      225 non-null int64\n",
      "cal_activity         225 non-null object\n",
      "dtypes: float64(1), int64(4), object(5)\n",
      "memory usage: 17.7+ KB\n"
     ]
    }
   ],
   "source": [
    "df.info()"
   ]
  },
  {
   "cell_type": "markdown",
   "metadata": {},
   "source": [
    "- There are no nulls in the data set.\n",
    "- Apart from `date` which will be handled later, there are four columns that are object type, namely.\n",
    "  - cal_burn\n",
    "  - steps\n",
    "  - min_sed\n",
    "  - cal_activity"
   ]
  },
  {
   "cell_type": "code",
   "execution_count": 30,
   "metadata": {},
   "outputs": [
    {
     "data": {
      "text/html": [
       "<div>\n",
       "<style scoped>\n",
       "    .dataframe tbody tr th:only-of-type {\n",
       "        vertical-align: middle;\n",
       "    }\n",
       "\n",
       "    .dataframe tbody tr th {\n",
       "        vertical-align: top;\n",
       "    }\n",
       "\n",
       "    .dataframe thead th {\n",
       "        text-align: right;\n",
       "    }\n",
       "</style>\n",
       "<table border=\"1\" class=\"dataframe\">\n",
       "  <thead>\n",
       "    <tr style=\"text-align: right;\">\n",
       "      <th></th>\n",
       "      <th>date</th>\n",
       "      <th>cal_burn</th>\n",
       "      <th>steps</th>\n",
       "      <th>distance</th>\n",
       "      <th>floors</th>\n",
       "      <th>min_sed</th>\n",
       "      <th>min_active_light</th>\n",
       "      <th>min_active_fairly</th>\n",
       "      <th>min_active_very</th>\n",
       "      <th>cal_activity</th>\n",
       "    </tr>\n",
       "  </thead>\n",
       "  <tbody>\n",
       "    <tr>\n",
       "      <th>138</th>\n",
       "      <td>9/11/18</td>\n",
       "      <td>2,824</td>\n",
       "      <td>4,446</td>\n",
       "      <td>2.10</td>\n",
       "      <td>1</td>\n",
       "      <td>781</td>\n",
       "      <td>154</td>\n",
       "      <td>6</td>\n",
       "      <td>4</td>\n",
       "      <td>829</td>\n",
       "    </tr>\n",
       "    <tr>\n",
       "      <th>64</th>\n",
       "      <td>6/29/18</td>\n",
       "      <td>2,180</td>\n",
       "      <td>0</td>\n",
       "      <td>0.00</td>\n",
       "      <td>0</td>\n",
       "      <td>1,437</td>\n",
       "      <td>3</td>\n",
       "      <td>0</td>\n",
       "      <td>0</td>\n",
       "      <td>39</td>\n",
       "    </tr>\n",
       "    <tr>\n",
       "      <th>208</th>\n",
       "      <td>11/20/18</td>\n",
       "      <td>3,966</td>\n",
       "      <td>15,527</td>\n",
       "      <td>7.27</td>\n",
       "      <td>13</td>\n",
       "      <td>810</td>\n",
       "      <td>196</td>\n",
       "      <td>11</td>\n",
       "      <td>96</td>\n",
       "      <td>2,260</td>\n",
       "    </tr>\n",
       "    <tr>\n",
       "      <th>63</th>\n",
       "      <td>6/28/18</td>\n",
       "      <td>2,145</td>\n",
       "      <td>0</td>\n",
       "      <td>0.00</td>\n",
       "      <td>0</td>\n",
       "      <td>1,440</td>\n",
       "      <td>0</td>\n",
       "      <td>0</td>\n",
       "      <td>0</td>\n",
       "      <td>0</td>\n",
       "    </tr>\n",
       "    <tr>\n",
       "      <th>149</th>\n",
       "      <td>9/22/18</td>\n",
       "      <td>5,199</td>\n",
       "      <td>16,219</td>\n",
       "      <td>7.65</td>\n",
       "      <td>10</td>\n",
       "      <td>581</td>\n",
       "      <td>319</td>\n",
       "      <td>78</td>\n",
       "      <td>98</td>\n",
       "      <td>3,596</td>\n",
       "    </tr>\n",
       "  </tbody>\n",
       "</table>\n",
       "</div>"
      ],
      "text/plain": [
       "         date cal_burn   steps  distance  floors min_sed  min_active_light  \\\n",
       "138   9/11/18    2,824   4,446      2.10       1     781               154   \n",
       "64    6/29/18    2,180       0      0.00       0   1,437                 3   \n",
       "208  11/20/18    3,966  15,527      7.27      13     810               196   \n",
       "63    6/28/18    2,145       0      0.00       0   1,440                 0   \n",
       "149   9/22/18    5,199  16,219      7.65      10     581               319   \n",
       "\n",
       "     min_active_fairly  min_active_very cal_activity  \n",
       "138                  6                4          829  \n",
       "64                   0                0           39  \n",
       "208                 11               96        2,260  \n",
       "63                   0                0            0  \n",
       "149                 78               98        3,596  "
      ]
     },
     "execution_count": 30,
     "metadata": {},
     "output_type": "execute_result"
    }
   ],
   "source": [
    "df.sample(5) #inspect the object-type attributes, why are they being read as string/object?"
   ]
  },
  {
   "cell_type": "markdown",
   "metadata": {},
   "source": [
    "It seems that commas are making these numeric attributes as object types. To remove commas and cast these columns from object into integer types, call the `handle_obj_type` function from the acquire.py module."
   ]
  },
  {
   "cell_type": "code",
   "execution_count": 31,
   "metadata": {},
   "outputs": [],
   "source": [
    "df = acquire.handle_obj_type(df)"
   ]
  },
  {
   "cell_type": "markdown",
   "metadata": {},
   "source": [
    "### Split Data"
   ]
  },
  {
   "cell_type": "markdown",
   "metadata": {},
   "source": [
    "Split the data into train and test using the `split_activity` from the acquire module.\n",
    "  \n",
    "Train = 70%  (Beginning to September 29,2018)  \n",
    "Test = 30% (September 30,2018 to End)"
   ]
  },
  {
   "cell_type": "code",
   "execution_count": 32,
   "metadata": {},
   "outputs": [],
   "source": [
    "train, test = acquire.split_activity(df, train_prop=.7)"
   ]
  },
  {
   "cell_type": "markdown",
   "metadata": {},
   "source": [
    "### Set Date as Index "
   ]
  },
  {
   "cell_type": "markdown",
   "metadata": {},
   "source": [
    "To facilitate our analysis, cast `date` column into datetime data type, and set it as the index of our data frame. Call `set_date_as_index` function to execute these."
   ]
  },
  {
   "cell_type": "code",
   "execution_count": 33,
   "metadata": {},
   "outputs": [],
   "source": [
    "train = acquire.set_date_as_index(train)\n",
    "test = acquire.set_date_as_index(test)"
   ]
  },
  {
   "cell_type": "code",
   "execution_count": 120,
   "metadata": {},
   "outputs": [
    {
     "data": {
      "image/png": "[encoded data removed]",
      "text/plain": [
       "<Figure size 432x288 with 4 Axes>"
      ]
     },
     "metadata": {
      "needs_background": "light"
     },
     "output_type": "display_data"
    }
   ],
   "source": [
    "decomposition = sm.tsa.seasonal_decompose(train.cal_burn.resample(\"B\").mean(), model='additive')\n",
    "\n",
    "fig = decomposition.plot()\n",
    "plt.show()"
   ]
  },
  {
   "cell_type": "markdown",
   "metadata": {},
   "source": [
    "Calories Burn and Activity Calories are related.\n",
    "Confirms Hypothesis that we can use the BMR calculation to impute missing values on Activity Calories.\n",
    "-formula"
   ]
  },
  {
   "cell_type": "code",
   "execution_count": 35,
   "metadata": {},
   "outputs": [
    {
     "data": {
      "text/plain": [
       "<seaborn.axisgrid.FacetGrid at 0x1c1d2e7160>"
      ]
     },
     "execution_count": 35,
     "metadata": {},
     "output_type": "execute_result"
    },
    {
     "data": {
      "image/png": "[encoded data removed]",
      "text/plain": [
       "<Figure size 360x360 with 1 Axes>"
      ]
     },
     "metadata": {
      "needs_background": "light"
     },
     "output_type": "display_data"
    }
   ],
   "source": [
    "sns.lmplot(data=train,x=\"cal_burn\",y=\"cal_activity\")"
   ]
  },
  {
   "cell_type": "markdown",
   "metadata": {},
   "source": [
    "#### Imputation"
   ]
  },
  {
   "cell_type": "markdown",
   "metadata": {},
   "source": [
    "Impute `cal_activity` using BMR formula.\n",
    "\n",
    "Process:\n",
    "1. Get median_bmr\n",
    "2. Subset the week with missing values.\n",
    "3. If the cal_activity = 0, impute calculated cal_activity using the formula. Otherwise, use the actual cal_activity value."
   ]
  },
  {
   "cell_type": "code",
   "execution_count": 36,
   "metadata": {},
   "outputs": [
    {
     "data": {
      "text/plain": [
       "1986.0"
      ]
     },
     "execution_count": 36,
     "metadata": {},
     "output_type": "execute_result"
    }
   ],
   "source": [
    "median_bmr = (train.cal_burn - train.cal_activity).median()\n",
    "median_bmr"
   ]
  },
  {
   "cell_type": "code",
   "execution_count": 37,
   "metadata": {},
   "outputs": [],
   "source": [
    "#add a column in train with a computed cal_activity based on formula\n",
    "train[\"calculated_cal_activity\"] = train.cal_burn - median_bmr\n",
    "\n",
    "#subset the days with missing values\n",
    "missing_subset = train[\"2018-06-26\":\"2018-07-06\"]\n",
    "\n",
    "#use np.where to replace 0 with calculated cal_activity, and retain actual values if not 0.\n",
    "missing_subset[\"cal_activity\"] = np.where(missing_subset.cal_activity == 0, missing_subset.calculated_cal_activity, missing_subset.cal_activity)"
   ]
  },
  {
   "cell_type": "code",
   "execution_count": 38,
   "metadata": {},
   "outputs": [],
   "source": [
    "#attach the subset back to train\n",
    "train.loc[\"2018-06-26\":\"2018-07-06\",\"cal_activity\"] = missing_subset.cal_activity"
   ]
  },
  {
   "cell_type": "code",
   "execution_count": 39,
   "metadata": {},
   "outputs": [
    {
     "data": {
      "text/html": [
       "<div>\n",
       "<style scoped>\n",
       "    .dataframe tbody tr th:only-of-type {\n",
       "        vertical-align: middle;\n",
       "    }\n",
       "\n",
       "    .dataframe tbody tr th {\n",
       "        vertical-align: top;\n",
       "    }\n",
       "\n",
       "    .dataframe thead th {\n",
       "        text-align: right;\n",
       "    }\n",
       "</style>\n",
       "<table border=\"1\" class=\"dataframe\">\n",
       "  <thead>\n",
       "    <tr style=\"text-align: right;\">\n",
       "      <th></th>\n",
       "      <th>index</th>\n",
       "      <th>cal_burn</th>\n",
       "      <th>steps</th>\n",
       "      <th>distance</th>\n",
       "      <th>floors</th>\n",
       "      <th>min_sed</th>\n",
       "      <th>min_active_light</th>\n",
       "      <th>min_active_fairly</th>\n",
       "      <th>min_active_very</th>\n",
       "      <th>cal_activity</th>\n",
       "      <th>calculated_cal_activity</th>\n",
       "    </tr>\n",
       "    <tr>\n",
       "      <th>date</th>\n",
       "      <th></th>\n",
       "      <th></th>\n",
       "      <th></th>\n",
       "      <th></th>\n",
       "      <th></th>\n",
       "      <th></th>\n",
       "      <th></th>\n",
       "      <th></th>\n",
       "      <th></th>\n",
       "      <th></th>\n",
       "      <th></th>\n",
       "    </tr>\n",
       "  </thead>\n",
       "  <tbody>\n",
       "    <tr>\n",
       "      <th>2018-06-26</th>\n",
       "      <td>61</td>\n",
       "      <td>2144</td>\n",
       "      <td>0</td>\n",
       "      <td>0.00</td>\n",
       "      <td>0</td>\n",
       "      <td>1440</td>\n",
       "      <td>0</td>\n",
       "      <td>0</td>\n",
       "      <td>0</td>\n",
       "      <td>158.0</td>\n",
       "      <td>158.0</td>\n",
       "    </tr>\n",
       "    <tr>\n",
       "      <th>2018-06-27</th>\n",
       "      <td>62</td>\n",
       "      <td>2145</td>\n",
       "      <td>0</td>\n",
       "      <td>0.00</td>\n",
       "      <td>0</td>\n",
       "      <td>1440</td>\n",
       "      <td>0</td>\n",
       "      <td>0</td>\n",
       "      <td>0</td>\n",
       "      <td>159.0</td>\n",
       "      <td>159.0</td>\n",
       "    </tr>\n",
       "    <tr>\n",
       "      <th>2018-06-28</th>\n",
       "      <td>63</td>\n",
       "      <td>2145</td>\n",
       "      <td>0</td>\n",
       "      <td>0.00</td>\n",
       "      <td>0</td>\n",
       "      <td>1440</td>\n",
       "      <td>0</td>\n",
       "      <td>0</td>\n",
       "      <td>0</td>\n",
       "      <td>159.0</td>\n",
       "      <td>159.0</td>\n",
       "    </tr>\n",
       "    <tr>\n",
       "      <th>2018-06-29</th>\n",
       "      <td>64</td>\n",
       "      <td>2180</td>\n",
       "      <td>0</td>\n",
       "      <td>0.00</td>\n",
       "      <td>0</td>\n",
       "      <td>1437</td>\n",
       "      <td>3</td>\n",
       "      <td>0</td>\n",
       "      <td>0</td>\n",
       "      <td>39.0</td>\n",
       "      <td>194.0</td>\n",
       "    </tr>\n",
       "    <tr>\n",
       "      <th>2018-06-30</th>\n",
       "      <td>65</td>\n",
       "      <td>2145</td>\n",
       "      <td>0</td>\n",
       "      <td>0.00</td>\n",
       "      <td>0</td>\n",
       "      <td>1440</td>\n",
       "      <td>0</td>\n",
       "      <td>0</td>\n",
       "      <td>0</td>\n",
       "      <td>159.0</td>\n",
       "      <td>159.0</td>\n",
       "    </tr>\n",
       "    <tr>\n",
       "      <th>2018-07-01</th>\n",
       "      <td>66</td>\n",
       "      <td>3090</td>\n",
       "      <td>4714</td>\n",
       "      <td>2.22</td>\n",
       "      <td>4</td>\n",
       "      <td>1005</td>\n",
       "      <td>232</td>\n",
       "      <td>0</td>\n",
       "      <td>0</td>\n",
       "      <td>1125.0</td>\n",
       "      <td>1104.0</td>\n",
       "    </tr>\n",
       "    <tr>\n",
       "      <th>2018-07-02</th>\n",
       "      <td>67</td>\n",
       "      <td>2204</td>\n",
       "      <td>172</td>\n",
       "      <td>0.08</td>\n",
       "      <td>0</td>\n",
       "      <td>1024</td>\n",
       "      <td>12</td>\n",
       "      <td>0</td>\n",
       "      <td>0</td>\n",
       "      <td>67.0</td>\n",
       "      <td>218.0</td>\n",
       "    </tr>\n",
       "    <tr>\n",
       "      <th>2018-07-03</th>\n",
       "      <td>68</td>\n",
       "      <td>2144</td>\n",
       "      <td>0</td>\n",
       "      <td>0.00</td>\n",
       "      <td>0</td>\n",
       "      <td>1440</td>\n",
       "      <td>0</td>\n",
       "      <td>0</td>\n",
       "      <td>0</td>\n",
       "      <td>158.0</td>\n",
       "      <td>158.0</td>\n",
       "    </tr>\n",
       "    <tr>\n",
       "      <th>2018-07-04</th>\n",
       "      <td>69</td>\n",
       "      <td>2183</td>\n",
       "      <td>0</td>\n",
       "      <td>0.00</td>\n",
       "      <td>0</td>\n",
       "      <td>1438</td>\n",
       "      <td>2</td>\n",
       "      <td>0</td>\n",
       "      <td>0</td>\n",
       "      <td>42.0</td>\n",
       "      <td>197.0</td>\n",
       "    </tr>\n",
       "    <tr>\n",
       "      <th>2018-07-05</th>\n",
       "      <td>70</td>\n",
       "      <td>2153</td>\n",
       "      <td>0</td>\n",
       "      <td>0.00</td>\n",
       "      <td>0</td>\n",
       "      <td>1439</td>\n",
       "      <td>1</td>\n",
       "      <td>0</td>\n",
       "      <td>0</td>\n",
       "      <td>10.0</td>\n",
       "      <td>167.0</td>\n",
       "    </tr>\n",
       "    <tr>\n",
       "      <th>2018-07-06</th>\n",
       "      <td>71</td>\n",
       "      <td>2144</td>\n",
       "      <td>0</td>\n",
       "      <td>0.00</td>\n",
       "      <td>0</td>\n",
       "      <td>1440</td>\n",
       "      <td>0</td>\n",
       "      <td>0</td>\n",
       "      <td>0</td>\n",
       "      <td>158.0</td>\n",
       "      <td>158.0</td>\n",
       "    </tr>\n",
       "  </tbody>\n",
       "</table>\n",
       "</div>"
      ],
      "text/plain": [
       "            index  cal_burn  steps  distance  floors  min_sed  \\\n",
       "date                                                            \n",
       "2018-06-26     61      2144      0      0.00       0     1440   \n",
       "2018-06-27     62      2145      0      0.00       0     1440   \n",
       "2018-06-28     63      2145      0      0.00       0     1440   \n",
       "2018-06-29     64      2180      0      0.00       0     1437   \n",
       "2018-06-30     65      2145      0      0.00       0     1440   \n",
       "2018-07-01     66      3090   4714      2.22       4     1005   \n",
       "2018-07-02     67      2204    172      0.08       0     1024   \n",
       "2018-07-03     68      2144      0      0.00       0     1440   \n",
       "2018-07-04     69      2183      0      0.00       0     1438   \n",
       "2018-07-05     70      2153      0      0.00       0     1439   \n",
       "2018-07-06     71      2144      0      0.00       0     1440   \n",
       "\n",
       "            min_active_light  min_active_fairly  min_active_very  \\\n",
       "date                                                               \n",
       "2018-06-26                 0                  0                0   \n",
       "2018-06-27                 0                  0                0   \n",
       "2018-06-28                 0                  0                0   \n",
       "2018-06-29                 3                  0                0   \n",
       "2018-06-30                 0                  0                0   \n",
       "2018-07-01               232                  0                0   \n",
       "2018-07-02                12                  0                0   \n",
       "2018-07-03                 0                  0                0   \n",
       "2018-07-04                 2                  0                0   \n",
       "2018-07-05                 1                  0                0   \n",
       "2018-07-06                 0                  0                0   \n",
       "\n",
       "            cal_activity  calculated_cal_activity  \n",
       "date                                               \n",
       "2018-06-26         158.0                    158.0  \n",
       "2018-06-27         159.0                    159.0  \n",
       "2018-06-28         159.0                    159.0  \n",
       "2018-06-29          39.0                    194.0  \n",
       "2018-06-30         159.0                    159.0  \n",
       "2018-07-01        1125.0                   1104.0  \n",
       "2018-07-02          67.0                    218.0  \n",
       "2018-07-03         158.0                    158.0  \n",
       "2018-07-04          42.0                    197.0  \n",
       "2018-07-05          10.0                    167.0  \n",
       "2018-07-06         158.0                    158.0  "
      ]
     },
     "execution_count": 39,
     "metadata": {},
     "output_type": "execute_result"
    }
   ],
   "source": [
    "train[\"2018-06-26\":\"2018-07-06\"]"
   ]
  },
  {
   "cell_type": "markdown",
   "metadata": {},
   "source": [
    "Next, impute missing values on the following attributes:\n",
    "- `steps`\n",
    "- `distance`\n",
    "- `floors`\n",
    "- `min_active_light`\n",
    "- `min_active_fairly`\n",
    "- `min_active_very`\n",
    "\n",
    "Unlike the `cal_activity` with heavy interdependence with known values in `cal_burn` (i.e., using BMR), the attributes above can be calculated using the mean of observations with similar daily profile to the ones missing.\n",
    "\n",
    "The days with missing values can be loosely described as \"Lazy Days\" where the `cal_burn` and `cal_activity` values are below the median. Specifically, the days with missing values have cal_burn of 2000-2500, when the median `cal_burn` is 3302.5 in train.\n",
    "\n",
    "With these in mind, we decide the imputation process to be as follows:\n",
    " 1. Find similar-looking \"Lazy Days\" observations.\n",
    " 2. Limit the observations with similar-looking \"Lazy Days\", that is, with cal_burn between 2000-2500.\n",
    " 3. Get the mean values of attributes of \"Lazy Days\". These values are going to be the imputed constants for our missing values.\n",
    " 5. Excluding values from July 1 and 2, 2018 which contain true values, impute the mean constants."
   ]
  },
  {
   "cell_type": "code",
   "execution_count": 40,
   "metadata": {},
   "outputs": [],
   "source": [
    "#Steps Mean Constant\n",
    "mean_lds_steps = train[(train.cal_burn < 2500) & (train.cal_burn > 2000)].steps.mean()\n",
    "\n",
    "#Distance Mean Constant\n",
    "mean_lds_distance = train[(train.cal_burn < 2500) & (train.cal_burn > 2000)].distance.mean()\n",
    "\n",
    "#Floors Mean Constant\n",
    "mean_lds_floor = train[(train.cal_burn < 2500) & (train.cal_burn > 2000)].floors.mean()\n",
    "\n",
    "#Lightly Active Minutes Mean Constant\n",
    "mean_lds_light = train[(train.cal_burn < 2500) & (train.cal_burn > 2000)].min_active_light.mean()\n",
    "\n",
    "#Fairly Active Minutes Mean Constant\n",
    "mean_lds_fairly = train[(train.cal_burn < 2500) & (train.cal_burn > 2000)].min_active_fairly.mean()\n",
    "\n",
    "#Very Active Minutes Mean Constant\n",
    "mean_lds_very = train[(train.cal_burn < 2500) & (train.cal_burn > 2000)].min_active_very.mean()"
   ]
  },
  {
   "cell_type": "code",
   "execution_count": 41,
   "metadata": {},
   "outputs": [],
   "source": [
    "missing_subset_21 = train[\"2018-06-26\":\"2018-06-30\"]\n",
    "missing_subset_22 = train[\"2018-07-03\":\"2018-07-06\"]"
   ]
  },
  {
   "cell_type": "code",
   "execution_count": 42,
   "metadata": {},
   "outputs": [],
   "source": [
    "missing_subset_21[\"steps\"] = mean_lds_steps\n",
    "missing_subset_21[\"distance\"] = mean_lds_steps\n",
    "missing_subset_21[\"floors\"] = mean_lds_steps\n",
    "missing_subset_21[\"min_active_light\"] = mean_lds_light\n",
    "missing_subset_21[\"min_active_fairly\"] = mean_lds_fairly\n",
    "missing_subset_21[\"min_active_very\"] = mean_lds_very"
   ]
  },
  {
   "cell_type": "code",
   "execution_count": 43,
   "metadata": {},
   "outputs": [],
   "source": [
    "missing_subset_22[\"steps\"] = mean_lds_steps\n",
    "missing_subset_22[\"distance\"] = mean_lds_steps\n",
    "missing_subset_22[\"floors\"] = mean_lds_steps\n",
    "missing_subset_22[\"min_active_light\"] = mean_lds_light\n",
    "missing_subset_22[\"min_active_fairly\"] = mean_lds_fairly\n",
    "missing_subset_22[\"min_active_very\"] = mean_lds_very"
   ]
  },
  {
   "cell_type": "code",
   "execution_count": 44,
   "metadata": {},
   "outputs": [
    {
     "data": {
      "text/html": [
       "<div>\n",
       "<style scoped>\n",
       "    .dataframe tbody tr th:only-of-type {\n",
       "        vertical-align: middle;\n",
       "    }\n",
       "\n",
       "    .dataframe tbody tr th {\n",
       "        vertical-align: top;\n",
       "    }\n",
       "\n",
       "    .dataframe thead th {\n",
       "        text-align: right;\n",
       "    }\n",
       "</style>\n",
       "<table border=\"1\" class=\"dataframe\">\n",
       "  <thead>\n",
       "    <tr style=\"text-align: right;\">\n",
       "      <th></th>\n",
       "      <th>index</th>\n",
       "      <th>cal_burn</th>\n",
       "      <th>steps</th>\n",
       "      <th>distance</th>\n",
       "      <th>floors</th>\n",
       "      <th>min_sed</th>\n",
       "      <th>min_active_light</th>\n",
       "      <th>min_active_fairly</th>\n",
       "      <th>min_active_very</th>\n",
       "      <th>cal_activity</th>\n",
       "      <th>calculated_cal_activity</th>\n",
       "    </tr>\n",
       "    <tr>\n",
       "      <th>date</th>\n",
       "      <th></th>\n",
       "      <th></th>\n",
       "      <th></th>\n",
       "      <th></th>\n",
       "      <th></th>\n",
       "      <th></th>\n",
       "      <th></th>\n",
       "      <th></th>\n",
       "      <th></th>\n",
       "      <th></th>\n",
       "      <th></th>\n",
       "    </tr>\n",
       "  </thead>\n",
       "  <tbody>\n",
       "    <tr>\n",
       "      <th>2018-07-03</th>\n",
       "      <td>68</td>\n",
       "      <td>2144</td>\n",
       "      <td>149.823529</td>\n",
       "      <td>149.823529</td>\n",
       "      <td>149.823529</td>\n",
       "      <td>1440</td>\n",
       "      <td>7.235294</td>\n",
       "      <td>0.0</td>\n",
       "      <td>0.0</td>\n",
       "      <td>158.0</td>\n",
       "      <td>158.0</td>\n",
       "    </tr>\n",
       "    <tr>\n",
       "      <th>2018-07-04</th>\n",
       "      <td>69</td>\n",
       "      <td>2183</td>\n",
       "      <td>149.823529</td>\n",
       "      <td>149.823529</td>\n",
       "      <td>149.823529</td>\n",
       "      <td>1438</td>\n",
       "      <td>7.235294</td>\n",
       "      <td>0.0</td>\n",
       "      <td>0.0</td>\n",
       "      <td>42.0</td>\n",
       "      <td>197.0</td>\n",
       "    </tr>\n",
       "    <tr>\n",
       "      <th>2018-07-05</th>\n",
       "      <td>70</td>\n",
       "      <td>2153</td>\n",
       "      <td>149.823529</td>\n",
       "      <td>149.823529</td>\n",
       "      <td>149.823529</td>\n",
       "      <td>1439</td>\n",
       "      <td>7.235294</td>\n",
       "      <td>0.0</td>\n",
       "      <td>0.0</td>\n",
       "      <td>10.0</td>\n",
       "      <td>167.0</td>\n",
       "    </tr>\n",
       "    <tr>\n",
       "      <th>2018-07-06</th>\n",
       "      <td>71</td>\n",
       "      <td>2144</td>\n",
       "      <td>149.823529</td>\n",
       "      <td>149.823529</td>\n",
       "      <td>149.823529</td>\n",
       "      <td>1440</td>\n",
       "      <td>7.235294</td>\n",
       "      <td>0.0</td>\n",
       "      <td>0.0</td>\n",
       "      <td>158.0</td>\n",
       "      <td>158.0</td>\n",
       "    </tr>\n",
       "  </tbody>\n",
       "</table>\n",
       "</div>"
      ],
      "text/plain": [
       "            index  cal_burn       steps    distance      floors  min_sed  \\\n",
       "date                                                                       \n",
       "2018-07-03     68      2144  149.823529  149.823529  149.823529     1440   \n",
       "2018-07-04     69      2183  149.823529  149.823529  149.823529     1438   \n",
       "2018-07-05     70      2153  149.823529  149.823529  149.823529     1439   \n",
       "2018-07-06     71      2144  149.823529  149.823529  149.823529     1440   \n",
       "\n",
       "            min_active_light  min_active_fairly  min_active_very  \\\n",
       "date                                                               \n",
       "2018-07-03          7.235294                0.0              0.0   \n",
       "2018-07-04          7.235294                0.0              0.0   \n",
       "2018-07-05          7.235294                0.0              0.0   \n",
       "2018-07-06          7.235294                0.0              0.0   \n",
       "\n",
       "            cal_activity  calculated_cal_activity  \n",
       "date                                               \n",
       "2018-07-03         158.0                    158.0  \n",
       "2018-07-04          42.0                    197.0  \n",
       "2018-07-05          10.0                    167.0  \n",
       "2018-07-06         158.0                    158.0  "
      ]
     },
     "execution_count": 44,
     "metadata": {},
     "output_type": "execute_result"
    }
   ],
   "source": [
    "missing_subset_22"
   ]
  },
  {
   "cell_type": "code",
   "execution_count": 45,
   "metadata": {},
   "outputs": [],
   "source": [
    "#attach the missing_subset_21 and 22 back to train\n",
    "train.loc[\"2018-06-26\":\"2018-06-30\"] = missing_subset_21\n",
    "train.loc[\"2018-07-03\":\"2018-07-06\"] = missing_subset_22"
   ]
  },
  {
   "cell_type": "code",
   "execution_count": 47,
   "metadata": {},
   "outputs": [],
   "source": [
    "train.drop(columns=\"calculated_cal_activity\",inplace=True)"
   ]
  },
  {
   "cell_type": "code",
   "execution_count": 50,
   "metadata": {},
   "outputs": [],
   "source": [
    "train.drop(columns=\"index\",inplace=True)"
   ]
  },
  {
   "cell_type": "markdown",
   "metadata": {},
   "source": [
    "## II. Explore"
   ]
  },
  {
   "cell_type": "markdown",
   "metadata": {},
   "source": [
    "**Questions**\n",
    "\n",
    "1. Are there any day of the week where Armstrong is particularly more active or sedentary?\n",
    "2. Do Armstrong have weekly patterns of activity?\n",
    "3. During which months is Armstrong more/less active?\n",
    "4. What is Armstrong's average statistics? Use moving average, so non or less-active/non or less-recorded days will not affect the overall averages of :\n",
    "  - Calories burned\n",
    "  - Steps taken\n",
    "  - Distance\n",
    "  - Floors\n",
    "  - Sedentary or not active in minutes\n",
    "  - Lightly active in minutes\n",
    "  - Very active in minutes\n",
    "  - Calories burned by activity\n",
    "5. Is Armstrong more active in a particular season of the year (cool, hot, cold months)?\n",
    "6. What is Armstrong's time series decompostion look like?\n",
    "7. What is Armstrong's daily and weekly activity frequencies look like?\n",
    "8. What's the correlation between activity from yesterday-today (lag)?"
   ]
  },
  {
   "cell_type": "code",
   "execution_count": null,
   "metadata": {},
   "outputs": [],
   "source": [
    "train_month = train.resample(\"M\").mean()"
   ]
  },
  {
   "cell_type": "code",
   "execution_count": null,
   "metadata": {},
   "outputs": [],
   "source": [
    "train.columns"
   ]
  },
  {
   "cell_type": "code",
   "execution_count": null,
   "metadata": {},
   "outputs": [],
   "source": [
    "train_month.index.unique()"
   ]
  },
  {
   "cell_type": "code",
   "execution_count": null,
   "metadata": {},
   "outputs": [],
   "source": [
    "plt.figure(figsize=(10,4))\n",
    "plt.plot(train_month.loc[:,['cal_burn','steps','distance','floors']], marker='o')\n",
    "plt.legend(['cal_burn', 'steps','distance','floors'],loc='center left', bbox_to_anchor=(1, 0.5))\n",
    "# plt.xticks([\"2018-0\",\"2018-11\",\"2018-10\",\"2018-09\",\"2018-08\"],[\"Dec\",\"Nov\",\"Oct\",\"Sept\",\"Aug\",\"Jul\"])\n",
    "\n",
    "plt.show()"
   ]
  },
  {
   "cell_type": "code",
   "execution_count": null,
   "metadata": {},
   "outputs": [],
   "source": [
    "plt.figure(figsize=(10,4))\n",
    "plt.plot(train_month.loc[:,['min_sed', 'min_active_light','min_active_fairly','min_active_very']], marker='o')\n",
    "plt.legend(['min_sed','min_active_light', 'min_active_fairly', 'min_active_very'],loc='center left', bbox_to_anchor=(1, 0.5))\n",
    "plt.xticks([\"2018-08\",\"2018-09\",\"2018-10\",\"2018-11\",\"2018-12\"],[\"Jul\",\"Aug\",\"Sep\",\"Oct\",\"Nov\",\"Dec\"])\n",
    "\n",
    "plt.show()"
   ]
  },
  {
   "cell_type": "markdown",
   "metadata": {},
   "source": [
    "<div class=\"alert alert-block alert-warning\">\n",
    "<b>Answer:</b>\n",
    "Armstrong has a generally sedentary lifestyle with an activity level of \"light\". We see a heightened steps count in Oct-Dec (colder months). He was least active in July and September, which are summer months.\n",
    "</div>"
   ]
  },
  {
   "cell_type": "code",
   "execution_count": null,
   "metadata": {},
   "outputs": [],
   "source": [
    "decomposition = sm.tsa.seasonal_decompose(train.cal_burn.resample(\"D\").mean(), model='additive')\n",
    "\n",
    "fig = decomposition.plot()\n",
    "plt.show()"
   ]
  },
  {
   "cell_type": "code",
   "execution_count": null,
   "metadata": {},
   "outputs": [],
   "source": [
    "# sns.barplot(x=train_month.index, y=\"cal_burn\", data=train_month, palette=[\"gray\"]*6)\n",
    "\n",
    "for att in train.columns:\n",
    "    train.groupby(train.index.month)[att].mean().plot.bar(edgecolor='black', width=.9, figsize=(12, 7))\n",
    "    plt.title(f\"{att} by month\")\n",
    "    plt.show()\n",
    "# flights.groupby('weekday').delay.mean().plot.bar(edgecolor='black', width=.9, figsize=(12, 7))\n",
    "# # flights.groupby(flights.index.weekday_name).delay.mean().plot.bar(edgecolor='black', width=.9, figsize=(12, 7))\n",
    "# plt.xticks(rotation=0)"
   ]
  },
  {
   "cell_type": "markdown",
   "metadata": {},
   "source": [
    "## III. Model"
   ]
  },
  {
   "cell_type": "code",
   "execution_count": null,
   "metadata": {},
   "outputs": [],
   "source": [
    "def evaluate(target_var, train = train, test = test, output=True):\n",
    "    mse = metrics.mean_squared_error(test[target_var], yhat[target_var])\n",
    "    rmse = math.sqrt(mse)\n",
    "\n",
    "    if output:\n",
    "        print('MSE:  {}'.format(mse))\n",
    "        print('RMSE: {}'.format(rmse))\n",
    "    else:\n",
    "        return mse, rmse\n",
    "\n",
    "def plot_and_eval(target_vars, train = train, test = test, metric_fmt = '{:.2f}', linewidth = 4):\n",
    "    if type(target_vars) is not list:\n",
    "        target_vars = [target_vars]\n",
    "\n",
    "    plt.figure(figsize=(16, 8))\n",
    "    plt.plot(train[target_vars],label='Train')\n",
    "    plt.plot(test[target_vars], label='Test')\n",
    "\n",
    "    for var in target_vars:\n",
    "        mse, rmse = evaluate(target_var = var, train = train, test = test, output=False)\n",
    "        plt.plot(yhat[var], linewidth=linewidth)\n",
    "        print(f'{var} -- MSE: {metric_fmt} RMSE: {metric_fmt}'.format(mse, rmse))\n",
    "\n",
    "    plt.show()"
   ]
  },
  {
   "cell_type": "code",
   "execution_count": null,
   "metadata": {},
   "outputs": [],
   "source": [
    "eval_df = pd.DataFrame(columns=['model_type', 'target_var', 'metric', 'value'])\n",
    "eval_df"
   ]
  },
  {
   "cell_type": "code",
   "execution_count": null,
   "metadata": {},
   "outputs": [],
   "source": [
    "# create df to store MSE & RMSE\n",
    "def append_eval_df(model_type, target_vars, train = train, test = test):\n",
    "    temp_eval_df = pd.concat([pd.DataFrame([[model_type, i, 'mse', evaluate(target_var = i, \n",
    "                                                                            train = train, \n",
    "                                                                            test = test, \n",
    "                                                                            output=False)[0]],\n",
    "                                            [model_type, i, 'rmse', evaluate(target_var = i, \n",
    "                                                                             train = train, \n",
    "                                                                             test = test, \n",
    "                                                                             output=False)[1]]],\n",
    "                                           columns=['model_type', 'target_var', 'metric', 'value']) \n",
    "                              for i in target_vars], ignore_index=True)\n",
    "    return eval_df.append(temp_eval_df, ignore_index=True)"
   ]
  },
  {
   "cell_type": "code",
   "execution_count": null,
   "metadata": {},
   "outputs": [],
   "source": [
    "periods = 30\n",
    "yhat['y'] = train.y.rolling(periods).mean().iloc[-1]\n",
    "\n",
    "# plot_and_eval(target_vars, train, test)\n",
    "# eval_df = append_eval_df(model_type='moving_average', target_vars=['y'], train = train, test = test)\n",
    "\n",
    "plt.figure(figsize=(16, 8))\n",
    "plt.plot(train[target_vars],label='Train')\n",
    "plt.plot(test[target_vars], label='Test')\n",
    "period_vals = [1, 4, 12, 26, 52, 104]\n",
    "for p in period_vals:\n",
    "    yhat['y'] = train.y.rolling(p).mean().iloc[-1]\n",
    "    plt.plot(yhat.y)\n",
    "    print('\\nrolling averge period:',p)\n",
    "    print('\\nitem sales\\n')\n",
    "    evaluate('y', train = train, test = test)"
   ]
  },
  {
   "cell_type": "code",
   "execution_count": null,
   "metadata": {},
   "outputs": [],
   "source": []
  }
 ],
 "metadata": {
  "kernelspec": {
   "display_name": "Python 3",
   "language": "python",
   "name": "python3"
  },
  "language_info": {
   "codemirror_mode": {
    "name": "ipython",
    "version": 3
   },
   "file_extension": ".py",
   "mimetype": "text/x-python",
   "name": "python",
   "nbconvert_exporter": "python",
   "pygments_lexer": "ipython3",
   "version": "3.7.3"
  },
  "toc": {
   "base_numbering": 1,
   "nav_menu": {},
   "number_sections": true,
   "sideBar": true,
   "skip_h1_title": false,
   "title_cell": "Table of Contents",
   "title_sidebar": "Contents",
   "toc_cell": false,
   "toc_position": {},
   "toc_section_display": true,
   "toc_window_display": false
  },
  "varInspector": {
   "cols": {
    "lenName": 16,
    "lenType": 16,
    "lenVar": 40
   },
   "kernels_config": {
    "python": {
     "delete_cmd_postfix": "",
     "delete_cmd_prefix": "del ",
     "library": "var_list.py",
     "varRefreshCmd": "print(var_dic_list())"
    },
    "r": {
     "delete_cmd_postfix": ") ",
     "delete_cmd_prefix": "rm(",
     "library": "var_list.r",
     "varRefreshCmd": "cat(var_dic_list()) "
    }
   },
   "types_to_exclude": [
    "module",
    "function",
    "builtin_function_or_method",
    "instance",
    "_Feature"
   ],
   "window_display": false
  }
 },
 "nbformat": 4,
 "nbformat_minor": 2
}
