{
 "cells": [
  {
   "cell_type": "markdown",
   "metadata": {},
   "source": [
    "# Predicting Missing Fitbit Data"
   ]
  },
  {
   "cell_type": "markdown",
   "metadata": {},
   "source": [
    "## Summary of Findings"
   ]
  },
  {
   "cell_type": "markdown",
   "metadata": {},
   "source": [
    "---\n",
    "## Project Plan\n",
    "\n",
    "### Goals\n",
    " - Predict missing values from the data set using clustering\n",
    " - Derive insights on \"Armstrong\", the person from whom the fitness data was generated\n",
    "\n",
    "### Hypotheses\n",
    " - There are patterns on Armstrong's daily activities.\n",
    " - Armstrong's fitness activity is affected by the month/season of the year.\n",
    "\n",
    "### Data Science Skills Used\n",
    " - Data prep and cleaning\n",
    " - Time Series Analysis\n",
    " - Visualization\n",
    " - Modeling using Parametric Methods\n",
    " - Modeling using the Prophet algorithm\n",
    " - Evaluation of Models"
   ]
  },
  {
   "cell_type": "markdown",
   "metadata": {},
   "source": [
    "---\n",
    "## Data Dictionary"
   ]
  },
  {
   "cell_type": "markdown",
   "metadata": {},
   "source": [
    "---\n",
    "## Notes on the Fitbit Data:\n",
    "\n",
    "We are given eight .csv files that hold monthly data of an individual, whom we elect to call \"Armstrong\". Before we begin wrangling the data, we peruse all the files and made initial notes as follows:\n",
    "\n",
    "1. The \"missing\" data is from 6/27/2018 - 7/6/2018 on the following variables:\n",
    "  - Steps\n",
    "  - Distance\n",
    "  - Floors\n",
    "  - Lightly Active in Minutes\n",
    "  - Fairly Active in Minutes\n",
    "  - Very Active in Minutes\n",
    "2. Food/ Food log data is almost empty. There are only 1 record available in May-June data, and 7 records in the October-November data.\n",
    "3. The data range covers April 26, 2018 to December 6, 2018."
   ]
  },
  {
   "cell_type": "markdown",
   "metadata": {},
   "source": [
    "### Packages"
   ]
  },
  {
   "cell_type": "code",
   "execution_count": 1,
   "metadata": {},
   "outputs": [
    {
     "name": "stderr",
     "output_type": "stream",
     "text": [
      "ERROR:fbprophet:Importing plotly failed. Interactive plots will not work.\n"
     ]
    }
   ],
   "source": [
    "# data manipulation \n",
    "import numpy as np\n",
    "import pandas as pd\n",
    "\n",
    "from statsmodels.tsa.api import ExponentialSmoothing, SimpleExpSmoothing, Holt\n",
    "from statsmodels.tsa.holtwinters import ExponentialSmoothing\n",
    "import statsmodels.api as sm\n",
    "from statsmodels.tsa.ar_model import AR\n",
    "\n",
    "from sklearn.model_selection import TimeSeriesSplit\n",
    "from sklearn import metrics\n",
    "\n",
    "from fbprophet import Prophet\n",
    "\n",
    "import math\n",
    "\n",
    "# data visualization \n",
    "import matplotlib\n",
    "import matplotlib.pyplot as plt\n",
    "import seaborn as sns\n",
    "%matplotlib inline\n",
    "\n",
    "# ignore warning\n",
    "import warnings\n",
    "warnings.filterwarnings(\"ignore\")\n",
    "\n",
    "# project_specific modules\n",
    "import acquire\n",
    "# import model"
   ]
  },
  {
   "cell_type": "markdown",
   "metadata": {},
   "source": [
    "## I. Acquire and Preprocess"
   ]
  },
  {
   "cell_type": "markdown",
   "metadata": {},
   "source": [
    "### A. Acquire"
   ]
  },
  {
   "cell_type": "markdown",
   "metadata": {},
   "source": [
    "We manipulated the individual csv files from Excel, and decided to create a single .csv file as the size of the data is manageable. We only wanted the activity data, and not the food/food log data which barely contain any data.\n",
    "\n",
    "`act.csv` is the csv file that integrates all relevant activitiy data from the eight .csv files provided.\n",
    "\n",
    "`get_activity` function from the acquire.py module produces a data frame out of `act.csv` and renames the columns for efficiency."
   ]
  },
  {
   "cell_type": "code",
   "execution_count": 2,
   "metadata": {},
   "outputs": [],
   "source": [
    "df = acquire.get_activity()"
   ]
  },
  {
   "cell_type": "markdown",
   "metadata": {},
   "source": [
    "Look at data and see if there are nulls and inappropriate data types."
   ]
  },
  {
   "cell_type": "code",
   "execution_count": 3,
   "metadata": {},
   "outputs": [
    {
     "name": "stdout",
     "output_type": "stream",
     "text": [
      "<class 'pandas.core.frame.DataFrame'>\n",
      "RangeIndex: 225 entries, 0 to 224\n",
      "Data columns (total 10 columns):\n",
      "date                 225 non-null object\n",
      "cal_burn             225 non-null object\n",
      "steps                225 non-null object\n",
      "distance             225 non-null float64\n",
      "floors               225 non-null int64\n",
      "min_sed              225 non-null object\n",
      "min_active_light     225 non-null int64\n",
      "min_active_fairly    225 non-null int64\n",
      "min_active_very      225 non-null int64\n",
      "cal_activity         225 non-null object\n",
      "dtypes: float64(1), int64(4), object(5)\n",
      "memory usage: 17.7+ KB\n"
     ]
    }
   ],
   "source": [
    "df.info()"
   ]
  },
  {
   "cell_type": "markdown",
   "metadata": {},
   "source": [
    "- There are no nulls in the data set.\n",
    "- Apart from `date` which will be handled later, there are four columns that are object type, namely.\n",
    "  - cal_burn\n",
    "  - steps\n",
    "  - min_sed\n",
    "  - cal_activity"
   ]
  },
  {
   "cell_type": "code",
   "execution_count": 4,
   "metadata": {},
   "outputs": [
    {
     "data": {
      "text/html": [
       "<div>\n",
       "<style scoped>\n",
       "    .dataframe tbody tr th:only-of-type {\n",
       "        vertical-align: middle;\n",
       "    }\n",
       "\n",
       "    .dataframe tbody tr th {\n",
       "        vertical-align: top;\n",
       "    }\n",
       "\n",
       "    .dataframe thead th {\n",
       "        text-align: right;\n",
       "    }\n",
       "</style>\n",
       "<table border=\"1\" class=\"dataframe\">\n",
       "  <thead>\n",
       "    <tr style=\"text-align: right;\">\n",
       "      <th></th>\n",
       "      <th>date</th>\n",
       "      <th>cal_burn</th>\n",
       "      <th>steps</th>\n",
       "      <th>distance</th>\n",
       "      <th>floors</th>\n",
       "      <th>min_sed</th>\n",
       "      <th>min_active_light</th>\n",
       "      <th>min_active_fairly</th>\n",
       "      <th>min_active_very</th>\n",
       "      <th>cal_activity</th>\n",
       "    </tr>\n",
       "  </thead>\n",
       "  <tbody>\n",
       "    <tr>\n",
       "      <th>0</th>\n",
       "      <td>4/26/18</td>\n",
       "      <td>2,635</td>\n",
       "      <td>2,931</td>\n",
       "      <td>1.38</td>\n",
       "      <td>2</td>\n",
       "      <td>1,347</td>\n",
       "      <td>93</td>\n",
       "      <td>0</td>\n",
       "      <td>0</td>\n",
       "      <td>566</td>\n",
       "    </tr>\n",
       "    <tr>\n",
       "      <th>77</th>\n",
       "      <td>7/12/18</td>\n",
       "      <td>3,750</td>\n",
       "      <td>7,520</td>\n",
       "      <td>3.55</td>\n",
       "      <td>1</td>\n",
       "      <td>576</td>\n",
       "      <td>294</td>\n",
       "      <td>0</td>\n",
       "      <td>0</td>\n",
       "      <td>1,787</td>\n",
       "    </tr>\n",
       "    <tr>\n",
       "      <th>93</th>\n",
       "      <td>7/28/18</td>\n",
       "      <td>3,358</td>\n",
       "      <td>8,073</td>\n",
       "      <td>3.81</td>\n",
       "      <td>5</td>\n",
       "      <td>674</td>\n",
       "      <td>236</td>\n",
       "      <td>19</td>\n",
       "      <td>9</td>\n",
       "      <td>1,481</td>\n",
       "    </tr>\n",
       "    <tr>\n",
       "      <th>121</th>\n",
       "      <td>8/25/18</td>\n",
       "      <td>3,719</td>\n",
       "      <td>4,054</td>\n",
       "      <td>1.91</td>\n",
       "      <td>7</td>\n",
       "      <td>1,190</td>\n",
       "      <td>204</td>\n",
       "      <td>23</td>\n",
       "      <td>23</td>\n",
       "      <td>1,731</td>\n",
       "    </tr>\n",
       "    <tr>\n",
       "      <th>46</th>\n",
       "      <td>6/11/18</td>\n",
       "      <td>2,146</td>\n",
       "      <td>0</td>\n",
       "      <td>0.00</td>\n",
       "      <td>0</td>\n",
       "      <td>1,440</td>\n",
       "      <td>0</td>\n",
       "      <td>0</td>\n",
       "      <td>0</td>\n",
       "      <td>0</td>\n",
       "    </tr>\n",
       "  </tbody>\n",
       "</table>\n",
       "</div>"
      ],
      "text/plain": [
       "        date cal_burn  steps  distance  floors min_sed  min_active_light  \\\n",
       "0    4/26/18    2,635  2,931      1.38       2   1,347                93   \n",
       "77   7/12/18    3,750  7,520      3.55       1     576               294   \n",
       "93   7/28/18    3,358  8,073      3.81       5     674               236   \n",
       "121  8/25/18    3,719  4,054      1.91       7   1,190               204   \n",
       "46   6/11/18    2,146      0      0.00       0   1,440                 0   \n",
       "\n",
       "     min_active_fairly  min_active_very cal_activity  \n",
       "0                    0                0          566  \n",
       "77                   0                0        1,787  \n",
       "93                  19                9        1,481  \n",
       "121                 23               23        1,731  \n",
       "46                   0                0            0  "
      ]
     },
     "execution_count": 4,
     "metadata": {},
     "output_type": "execute_result"
    }
   ],
   "source": [
    "df.sample(5) #inspect the object-type attributes, why are they being read as string/object?"
   ]
  },
  {
   "cell_type": "markdown",
   "metadata": {},
   "source": [
    "It seems that commas are making these numeric attributes as object types. To remove commas and cast these columns from object into integer types, call the `handle_obj_type` function from the acquire.py module."
   ]
  },
  {
   "cell_type": "code",
   "execution_count": 5,
   "metadata": {},
   "outputs": [],
   "source": [
    "df = acquire.handle_obj_type(df)"
   ]
  },
  {
   "cell_type": "markdown",
   "metadata": {},
   "source": [
    "### B. Split Data"
   ]
  },
  {
   "cell_type": "markdown",
   "metadata": {},
   "source": [
    "Split the data into train and test using the `split_activity` from the acquire module.\n",
    "  \n",
    "Train = 70%  (Beginning to September 29,2018)  \n",
    "Test = 30% (September 30,2018 to End)"
   ]
  },
  {
   "cell_type": "code",
   "execution_count": 6,
   "metadata": {},
   "outputs": [],
   "source": [
    "train, test = acquire.split_activity(df, train_prop=.7)"
   ]
  },
  {
   "cell_type": "markdown",
   "metadata": {},
   "source": [
    "### C. Set Date as Index "
   ]
  },
  {
   "cell_type": "markdown",
   "metadata": {},
   "source": [
    "To facilitate our analysis, cast `date` column into datetime data type, and set it as the index of our data frame. Call `set_date_as_index` function to execute these."
   ]
  },
  {
   "cell_type": "code",
   "execution_count": 7,
   "metadata": {},
   "outputs": [],
   "source": [
    "train = acquire.set_date_as_index(train)\n",
    "test = acquire.set_date_as_index(test)"
   ]
  },
  {
   "cell_type": "markdown",
   "metadata": {},
   "source": [
    "## II. Impute Missing Data"
   ]
  },
  {
   "cell_type": "markdown",
   "metadata": {},
   "source": [
    "Basal Metabolic Rate (BMR) is defined as the rate at which your body uses energy when you are resting in order to keep vital functions going such as breathing and staying warm.\n",
    "\n",
    "BMR is the difference between the calories that are burned and the calories expended during activity.\n",
    "\n",
    "Knowing Armstrong's average BMR (which is a relative constant for him as an individual) informs us of how we can impute one attribute `cal_activity` that contain missing data. We will use this formula to derive values for `cal_activity`.\n",
    "\n",
    "$BMR$ = $\\mu_{cal\\_burn - cal\\_activity}$\n",
    "\n",
    "The plot below confirms the interdependence of `cal_activity` and `cal_burn`."
   ]
  },
  {
   "cell_type": "code",
   "execution_count": 8,
   "metadata": {},
   "outputs": [
    {
     "data": {
      "text/plain": [
       "<seaborn.axisgrid.FacetGrid at 0x1c1e2f4400>"
      ]
     },
     "execution_count": 8,
     "metadata": {},
     "output_type": "execute_result"
    },
    {
     "data": {
      "image/png": "[encoded data removed]",
      "text/plain": [
       "<Figure size 360x360 with 1 Axes>"
      ]
     },
     "metadata": {
      "needs_background": "light"
     },
     "output_type": "display_data"
    }
   ],
   "source": [
    "sns.lmplot(data=train,x=\"cal_burn\",y=\"cal_activity\")"
   ]
  },
  {
   "cell_type": "markdown",
   "metadata": {},
   "source": [
    "### A. Impute `cal_activity` using BMR"
   ]
  },
  {
   "cell_type": "markdown",
   "metadata": {},
   "source": [
    "Process:\n",
    "1. Get median_bmr to get Armstrong's constant BMR.\n",
    "2. Subset the week with missing values and zero in on the `cal_activity`.\n",
    "3. If `cal_activity` = 0, impute calculated `cal_activity` using the formula. Otherwise, use the true `cal_activity` value."
   ]
  },
  {
   "cell_type": "code",
   "execution_count": 9,
   "metadata": {},
   "outputs": [
    {
     "name": "stdout",
     "output_type": "stream",
     "text": [
      "Armstrong's Median BMR is: 1986.0\n"
     ]
    }
   ],
   "source": [
    "median_bmr = (train.cal_burn - train.cal_activity).median()\n",
    "print(f\"Armstrong's Median BMR is: {median_bmr}\")"
   ]
  },
  {
   "cell_type": "markdown",
   "metadata": {},
   "source": [
    "Add a column in train with a computed `cal_activity` based on formula."
   ]
  },
  {
   "cell_type": "code",
   "execution_count": 10,
   "metadata": {},
   "outputs": [],
   "source": [
    "train[\"calculated_cal_activity\"] = train.cal_burn - median_bmr"
   ]
  },
  {
   "cell_type": "markdown",
   "metadata": {},
   "source": [
    "Subset the days with missing values"
   ]
  },
  {
   "cell_type": "code",
   "execution_count": 11,
   "metadata": {},
   "outputs": [],
   "source": [
    "missing_subset = train[\"2018-06-26\":\"2018-07-06\"]"
   ]
  },
  {
   "cell_type": "markdown",
   "metadata": {},
   "source": [
    "Use `np.where` to replace 0 with calculated cal_activity, and retain actual values if not 0."
   ]
  },
  {
   "cell_type": "code",
   "execution_count": 12,
   "metadata": {},
   "outputs": [],
   "source": [
    "missing_subset[\"cal_activity\"] = np.where(missing_subset.cal_activity == 0, missing_subset.calculated_cal_activity, missing_subset.cal_activity)"
   ]
  },
  {
   "cell_type": "markdown",
   "metadata": {},
   "source": [
    "Attach the subset back to train."
   ]
  },
  {
   "cell_type": "code",
   "execution_count": 13,
   "metadata": {},
   "outputs": [],
   "source": [
    "train.loc[\"2018-06-26\":\"2018-07-06\",\"cal_activity\"] = missing_subset.cal_activity"
   ]
  },
  {
   "cell_type": "code",
   "execution_count": 14,
   "metadata": {},
   "outputs": [
    {
     "data": {
      "text/html": [
       "<div>\n",
       "<style scoped>\n",
       "    .dataframe tbody tr th:only-of-type {\n",
       "        vertical-align: middle;\n",
       "    }\n",
       "\n",
       "    .dataframe tbody tr th {\n",
       "        vertical-align: top;\n",
       "    }\n",
       "\n",
       "    .dataframe thead th {\n",
       "        text-align: right;\n",
       "    }\n",
       "</style>\n",
       "<table border=\"1\" class=\"dataframe\">\n",
       "  <thead>\n",
       "    <tr style=\"text-align: right;\">\n",
       "      <th></th>\n",
       "      <th>index</th>\n",
       "      <th>cal_burn</th>\n",
       "      <th>steps</th>\n",
       "      <th>distance</th>\n",
       "      <th>floors</th>\n",
       "      <th>min_sed</th>\n",
       "      <th>min_active_light</th>\n",
       "      <th>min_active_fairly</th>\n",
       "      <th>min_active_very</th>\n",
       "      <th>cal_activity</th>\n",
       "      <th>calculated_cal_activity</th>\n",
       "    </tr>\n",
       "    <tr>\n",
       "      <th>date</th>\n",
       "      <th></th>\n",
       "      <th></th>\n",
       "      <th></th>\n",
       "      <th></th>\n",
       "      <th></th>\n",
       "      <th></th>\n",
       "      <th></th>\n",
       "      <th></th>\n",
       "      <th></th>\n",
       "      <th></th>\n",
       "      <th></th>\n",
       "    </tr>\n",
       "  </thead>\n",
       "  <tbody>\n",
       "    <tr>\n",
       "      <th>2018-06-26</th>\n",
       "      <td>61</td>\n",
       "      <td>2144</td>\n",
       "      <td>0</td>\n",
       "      <td>0.00</td>\n",
       "      <td>0</td>\n",
       "      <td>1440</td>\n",
       "      <td>0</td>\n",
       "      <td>0</td>\n",
       "      <td>0</td>\n",
       "      <td>158.0</td>\n",
       "      <td>158.0</td>\n",
       "    </tr>\n",
       "    <tr>\n",
       "      <th>2018-06-27</th>\n",
       "      <td>62</td>\n",
       "      <td>2145</td>\n",
       "      <td>0</td>\n",
       "      <td>0.00</td>\n",
       "      <td>0</td>\n",
       "      <td>1440</td>\n",
       "      <td>0</td>\n",
       "      <td>0</td>\n",
       "      <td>0</td>\n",
       "      <td>159.0</td>\n",
       "      <td>159.0</td>\n",
       "    </tr>\n",
       "    <tr>\n",
       "      <th>2018-06-28</th>\n",
       "      <td>63</td>\n",
       "      <td>2145</td>\n",
       "      <td>0</td>\n",
       "      <td>0.00</td>\n",
       "      <td>0</td>\n",
       "      <td>1440</td>\n",
       "      <td>0</td>\n",
       "      <td>0</td>\n",
       "      <td>0</td>\n",
       "      <td>159.0</td>\n",
       "      <td>159.0</td>\n",
       "    </tr>\n",
       "    <tr>\n",
       "      <th>2018-06-29</th>\n",
       "      <td>64</td>\n",
       "      <td>2180</td>\n",
       "      <td>0</td>\n",
       "      <td>0.00</td>\n",
       "      <td>0</td>\n",
       "      <td>1437</td>\n",
       "      <td>3</td>\n",
       "      <td>0</td>\n",
       "      <td>0</td>\n",
       "      <td>39.0</td>\n",
       "      <td>194.0</td>\n",
       "    </tr>\n",
       "    <tr>\n",
       "      <th>2018-06-30</th>\n",
       "      <td>65</td>\n",
       "      <td>2145</td>\n",
       "      <td>0</td>\n",
       "      <td>0.00</td>\n",
       "      <td>0</td>\n",
       "      <td>1440</td>\n",
       "      <td>0</td>\n",
       "      <td>0</td>\n",
       "      <td>0</td>\n",
       "      <td>159.0</td>\n",
       "      <td>159.0</td>\n",
       "    </tr>\n",
       "    <tr>\n",
       "      <th>2018-07-01</th>\n",
       "      <td>66</td>\n",
       "      <td>3090</td>\n",
       "      <td>4714</td>\n",
       "      <td>2.22</td>\n",
       "      <td>4</td>\n",
       "      <td>1005</td>\n",
       "      <td>232</td>\n",
       "      <td>0</td>\n",
       "      <td>0</td>\n",
       "      <td>1125.0</td>\n",
       "      <td>1104.0</td>\n",
       "    </tr>\n",
       "    <tr>\n",
       "      <th>2018-07-02</th>\n",
       "      <td>67</td>\n",
       "      <td>2204</td>\n",
       "      <td>172</td>\n",
       "      <td>0.08</td>\n",
       "      <td>0</td>\n",
       "      <td>1024</td>\n",
       "      <td>12</td>\n",
       "      <td>0</td>\n",
       "      <td>0</td>\n",
       "      <td>67.0</td>\n",
       "      <td>218.0</td>\n",
       "    </tr>\n",
       "    <tr>\n",
       "      <th>2018-07-03</th>\n",
       "      <td>68</td>\n",
       "      <td>2144</td>\n",
       "      <td>0</td>\n",
       "      <td>0.00</td>\n",
       "      <td>0</td>\n",
       "      <td>1440</td>\n",
       "      <td>0</td>\n",
       "      <td>0</td>\n",
       "      <td>0</td>\n",
       "      <td>158.0</td>\n",
       "      <td>158.0</td>\n",
       "    </tr>\n",
       "    <tr>\n",
       "      <th>2018-07-04</th>\n",
       "      <td>69</td>\n",
       "      <td>2183</td>\n",
       "      <td>0</td>\n",
       "      <td>0.00</td>\n",
       "      <td>0</td>\n",
       "      <td>1438</td>\n",
       "      <td>2</td>\n",
       "      <td>0</td>\n",
       "      <td>0</td>\n",
       "      <td>42.0</td>\n",
       "      <td>197.0</td>\n",
       "    </tr>\n",
       "    <tr>\n",
       "      <th>2018-07-05</th>\n",
       "      <td>70</td>\n",
       "      <td>2153</td>\n",
       "      <td>0</td>\n",
       "      <td>0.00</td>\n",
       "      <td>0</td>\n",
       "      <td>1439</td>\n",
       "      <td>1</td>\n",
       "      <td>0</td>\n",
       "      <td>0</td>\n",
       "      <td>10.0</td>\n",
       "      <td>167.0</td>\n",
       "    </tr>\n",
       "    <tr>\n",
       "      <th>2018-07-06</th>\n",
       "      <td>71</td>\n",
       "      <td>2144</td>\n",
       "      <td>0</td>\n",
       "      <td>0.00</td>\n",
       "      <td>0</td>\n",
       "      <td>1440</td>\n",
       "      <td>0</td>\n",
       "      <td>0</td>\n",
       "      <td>0</td>\n",
       "      <td>158.0</td>\n",
       "      <td>158.0</td>\n",
       "    </tr>\n",
       "  </tbody>\n",
       "</table>\n",
       "</div>"
      ],
      "text/plain": [
       "            index  cal_burn  steps  distance  floors  min_sed  \\\n",
       "date                                                            \n",
       "2018-06-26     61      2144      0      0.00       0     1440   \n",
       "2018-06-27     62      2145      0      0.00       0     1440   \n",
       "2018-06-28     63      2145      0      0.00       0     1440   \n",
       "2018-06-29     64      2180      0      0.00       0     1437   \n",
       "2018-06-30     65      2145      0      0.00       0     1440   \n",
       "2018-07-01     66      3090   4714      2.22       4     1005   \n",
       "2018-07-02     67      2204    172      0.08       0     1024   \n",
       "2018-07-03     68      2144      0      0.00       0     1440   \n",
       "2018-07-04     69      2183      0      0.00       0     1438   \n",
       "2018-07-05     70      2153      0      0.00       0     1439   \n",
       "2018-07-06     71      2144      0      0.00       0     1440   \n",
       "\n",
       "            min_active_light  min_active_fairly  min_active_very  \\\n",
       "date                                                               \n",
       "2018-06-26                 0                  0                0   \n",
       "2018-06-27                 0                  0                0   \n",
       "2018-06-28                 0                  0                0   \n",
       "2018-06-29                 3                  0                0   \n",
       "2018-06-30                 0                  0                0   \n",
       "2018-07-01               232                  0                0   \n",
       "2018-07-02                12                  0                0   \n",
       "2018-07-03                 0                  0                0   \n",
       "2018-07-04                 2                  0                0   \n",
       "2018-07-05                 1                  0                0   \n",
       "2018-07-06                 0                  0                0   \n",
       "\n",
       "            cal_activity  calculated_cal_activity  \n",
       "date                                               \n",
       "2018-06-26         158.0                    158.0  \n",
       "2018-06-27         159.0                    159.0  \n",
       "2018-06-28         159.0                    159.0  \n",
       "2018-06-29          39.0                    194.0  \n",
       "2018-06-30         159.0                    159.0  \n",
       "2018-07-01        1125.0                   1104.0  \n",
       "2018-07-02          67.0                    218.0  \n",
       "2018-07-03         158.0                    158.0  \n",
       "2018-07-04          42.0                    197.0  \n",
       "2018-07-05          10.0                    167.0  \n",
       "2018-07-06         158.0                    158.0  "
      ]
     },
     "execution_count": 14,
     "metadata": {},
     "output_type": "execute_result"
    }
   ],
   "source": [
    "train[\"2018-06-26\":\"2018-07-06\"] #Check if we have successfully imputed cal_activity"
   ]
  },
  {
   "cell_type": "markdown",
   "metadata": {},
   "source": [
    "### B. Impute the Rest of the Missing Data"
   ]
  },
  {
   "cell_type": "markdown",
   "metadata": {},
   "source": [
    "We still have other missing data from the following attributes:\n",
    "- `steps`\n",
    "- `distance`\n",
    "- `floors`\n",
    "- `min_active_light`\n",
    "- `min_active_fairly`\n",
    "- `min_active_very`\n",
    "\n",
    "Unlike the `cal_activity` with heavy interdependence with known values in `cal_burn` (i.e., using BMR), the attributes above can be calculated using the mean of observations with similar daily profile to the ones missing.\n",
    "\n",
    "The days with missing values is what we loosely described as \"Lazy Days\" where the `cal_burn` and `cal_activity` values are below the median. Specifically, the days with missing values have cal_burn of 2000-2500, when the median `cal_burn` is 3302.5 in train.\n",
    "\n",
    "Armstrong was generally \"lazy\" on the days that we lost the data from!\n",
    "\n",
    "With these in mind, we decide the imputation process to be as follows:\n",
    " 1. Find similar-looking \"Lazy Days\" observations.\n",
    " 2. Limit the observations with similar-looking \"Lazy Days\", that is, with `cal_burn` between 2000-2500.\n",
    " 3. Get the mean values of attributes of \"Lazy Days\". These values are going to be the imputed constants for our missing values.\n",
    " 5. Excluding values from July 1 and 2, 2018 which contain true values, impute the mean constants."
   ]
  },
  {
   "cell_type": "code",
   "execution_count": 15,
   "metadata": {},
   "outputs": [],
   "source": [
    "#Steps Mean Constant\n",
    "mean_lds_steps = train[(train.cal_burn < 2500) & (train.cal_burn > 2000)].steps.mean()\n",
    "\n",
    "#Distance Mean Constant\n",
    "mean_lds_distance = train[(train.cal_burn < 2500) & (train.cal_burn > 2000)].distance.mean()\n",
    "\n",
    "#Floors Mean Constant\n",
    "mean_lds_floor = train[(train.cal_burn < 2500) & (train.cal_burn > 2000)].floors.mean()\n",
    "\n",
    "#Lightly Active Minutes Mean Constant\n",
    "mean_lds_light = train[(train.cal_burn < 2500) & (train.cal_burn > 2000)].min_active_light.mean()\n",
    "\n",
    "#Fairly Active Minutes Mean Constant\n",
    "mean_lds_fairly = train[(train.cal_burn < 2500) & (train.cal_burn > 2000)].min_active_fairly.mean()\n",
    "\n",
    "#Very Active Minutes Mean Constant\n",
    "mean_lds_very = train[(train.cal_burn < 2500) & (train.cal_burn > 2000)].min_active_very.mean()"
   ]
  },
  {
   "cell_type": "code",
   "execution_count": 16,
   "metadata": {},
   "outputs": [],
   "source": [
    "missing_subset_21 = train[\"2018-06-26\":\"2018-06-30\"]\n",
    "missing_subset_22 = train[\"2018-07-03\":\"2018-07-06\"]"
   ]
  },
  {
   "cell_type": "code",
   "execution_count": 17,
   "metadata": {},
   "outputs": [],
   "source": [
    "missing_subset_21[\"steps\"] = mean_lds_steps\n",
    "missing_subset_21[\"distance\"] = mean_lds_steps\n",
    "missing_subset_21[\"floors\"] = mean_lds_steps\n",
    "missing_subset_21[\"min_active_light\"] = mean_lds_light\n",
    "missing_subset_21[\"min_active_fairly\"] = mean_lds_fairly\n",
    "missing_subset_21[\"min_active_very\"] = mean_lds_very"
   ]
  },
  {
   "cell_type": "code",
   "execution_count": 18,
   "metadata": {},
   "outputs": [],
   "source": [
    "missing_subset_22[\"steps\"] = mean_lds_steps\n",
    "missing_subset_22[\"distance\"] = mean_lds_steps\n",
    "missing_subset_22[\"floors\"] = mean_lds_steps\n",
    "missing_subset_22[\"min_active_light\"] = mean_lds_light\n",
    "missing_subset_22[\"min_active_fairly\"] = mean_lds_fairly\n",
    "missing_subset_22[\"min_active_very\"] = mean_lds_very"
   ]
  },
  {
   "cell_type": "code",
   "execution_count": 19,
   "metadata": {},
   "outputs": [
    {
     "data": {
      "text/html": [
       "<div>\n",
       "<style scoped>\n",
       "    .dataframe tbody tr th:only-of-type {\n",
       "        vertical-align: middle;\n",
       "    }\n",
       "\n",
       "    .dataframe tbody tr th {\n",
       "        vertical-align: top;\n",
       "    }\n",
       "\n",
       "    .dataframe thead th {\n",
       "        text-align: right;\n",
       "    }\n",
       "</style>\n",
       "<table border=\"1\" class=\"dataframe\">\n",
       "  <thead>\n",
       "    <tr style=\"text-align: right;\">\n",
       "      <th></th>\n",
       "      <th>index</th>\n",
       "      <th>cal_burn</th>\n",
       "      <th>steps</th>\n",
       "      <th>distance</th>\n",
       "      <th>floors</th>\n",
       "      <th>min_sed</th>\n",
       "      <th>min_active_light</th>\n",
       "      <th>min_active_fairly</th>\n",
       "      <th>min_active_very</th>\n",
       "      <th>cal_activity</th>\n",
       "      <th>calculated_cal_activity</th>\n",
       "    </tr>\n",
       "    <tr>\n",
       "      <th>date</th>\n",
       "      <th></th>\n",
       "      <th></th>\n",
       "      <th></th>\n",
       "      <th></th>\n",
       "      <th></th>\n",
       "      <th></th>\n",
       "      <th></th>\n",
       "      <th></th>\n",
       "      <th></th>\n",
       "      <th></th>\n",
       "      <th></th>\n",
       "    </tr>\n",
       "  </thead>\n",
       "  <tbody>\n",
       "    <tr>\n",
       "      <th>2018-07-03</th>\n",
       "      <td>68</td>\n",
       "      <td>2144</td>\n",
       "      <td>149.823529</td>\n",
       "      <td>149.823529</td>\n",
       "      <td>149.823529</td>\n",
       "      <td>1440</td>\n",
       "      <td>7.235294</td>\n",
       "      <td>0.0</td>\n",
       "      <td>0.0</td>\n",
       "      <td>158.0</td>\n",
       "      <td>158.0</td>\n",
       "    </tr>\n",
       "    <tr>\n",
       "      <th>2018-07-04</th>\n",
       "      <td>69</td>\n",
       "      <td>2183</td>\n",
       "      <td>149.823529</td>\n",
       "      <td>149.823529</td>\n",
       "      <td>149.823529</td>\n",
       "      <td>1438</td>\n",
       "      <td>7.235294</td>\n",
       "      <td>0.0</td>\n",
       "      <td>0.0</td>\n",
       "      <td>42.0</td>\n",
       "      <td>197.0</td>\n",
       "    </tr>\n",
       "    <tr>\n",
       "      <th>2018-07-05</th>\n",
       "      <td>70</td>\n",
       "      <td>2153</td>\n",
       "      <td>149.823529</td>\n",
       "      <td>149.823529</td>\n",
       "      <td>149.823529</td>\n",
       "      <td>1439</td>\n",
       "      <td>7.235294</td>\n",
       "      <td>0.0</td>\n",
       "      <td>0.0</td>\n",
       "      <td>10.0</td>\n",
       "      <td>167.0</td>\n",
       "    </tr>\n",
       "    <tr>\n",
       "      <th>2018-07-06</th>\n",
       "      <td>71</td>\n",
       "      <td>2144</td>\n",
       "      <td>149.823529</td>\n",
       "      <td>149.823529</td>\n",
       "      <td>149.823529</td>\n",
       "      <td>1440</td>\n",
       "      <td>7.235294</td>\n",
       "      <td>0.0</td>\n",
       "      <td>0.0</td>\n",
       "      <td>158.0</td>\n",
       "      <td>158.0</td>\n",
       "    </tr>\n",
       "  </tbody>\n",
       "</table>\n",
       "</div>"
      ],
      "text/plain": [
       "            index  cal_burn       steps    distance      floors  min_sed  \\\n",
       "date                                                                       \n",
       "2018-07-03     68      2144  149.823529  149.823529  149.823529     1440   \n",
       "2018-07-04     69      2183  149.823529  149.823529  149.823529     1438   \n",
       "2018-07-05     70      2153  149.823529  149.823529  149.823529     1439   \n",
       "2018-07-06     71      2144  149.823529  149.823529  149.823529     1440   \n",
       "\n",
       "            min_active_light  min_active_fairly  min_active_very  \\\n",
       "date                                                               \n",
       "2018-07-03          7.235294                0.0              0.0   \n",
       "2018-07-04          7.235294                0.0              0.0   \n",
       "2018-07-05          7.235294                0.0              0.0   \n",
       "2018-07-06          7.235294                0.0              0.0   \n",
       "\n",
       "            cal_activity  calculated_cal_activity  \n",
       "date                                               \n",
       "2018-07-03         158.0                    158.0  \n",
       "2018-07-04          42.0                    197.0  \n",
       "2018-07-05          10.0                    167.0  \n",
       "2018-07-06         158.0                    158.0  "
      ]
     },
     "execution_count": 19,
     "metadata": {},
     "output_type": "execute_result"
    }
   ],
   "source": [
    "missing_subset_22"
   ]
  },
  {
   "cell_type": "code",
   "execution_count": 20,
   "metadata": {},
   "outputs": [],
   "source": [
    "#attach the missing_subset_21 and 22 back to train\n",
    "train.loc[\"2018-06-26\":\"2018-06-30\"] = missing_subset_21\n",
    "train.loc[\"2018-07-03\":\"2018-07-06\"] = missing_subset_22"
   ]
  },
  {
   "cell_type": "code",
   "execution_count": 21,
   "metadata": {},
   "outputs": [],
   "source": [
    "train.drop(columns=\"calculated_cal_activity\",inplace=True)"
   ]
  },
  {
   "cell_type": "code",
   "execution_count": 22,
   "metadata": {},
   "outputs": [],
   "source": [
    "train.drop(columns=\"index\",inplace=True)"
   ]
  },
  {
   "cell_type": "markdown",
   "metadata": {},
   "source": [
    "## III. Model"
   ]
  },
  {
   "cell_type": "markdown",
   "metadata": {},
   "source": [
    "1. Model `cal_activity`"
   ]
  },
  {
   "cell_type": "code",
   "execution_count": 23,
   "metadata": {},
   "outputs": [],
   "source": [
    "simple_ca = train.cal_activity.mean()"
   ]
  },
  {
   "cell_type": "code",
   "execution_count": 24,
   "metadata": {},
   "outputs": [],
   "source": [
    "moving_ca = train.cal_activity.rolling(7).mean().iloc[-1]"
   ]
  },
  {
   "cell_type": "markdown",
   "metadata": {},
   "source": [
    "---"
   ]
  },
  {
   "cell_type": "code",
   "execution_count": 25,
   "metadata": {},
   "outputs": [],
   "source": [
    "holt_ca = Holt(train.cal_activity).fit(smoothing_level=.5, smoothing_slope=.5, optimized=False)"
   ]
  },
  {
   "cell_type": "code",
   "execution_count": 26,
   "metadata": {},
   "outputs": [],
   "source": [
    "holt_ca_yhat = holt_ca.forecast(test.cal_activity.shape[0]) #series"
   ]
  },
  {
   "cell_type": "markdown",
   "metadata": {},
   "source": [
    "---"
   ]
  },
  {
   "cell_type": "code",
   "execution_count": 27,
   "metadata": {},
   "outputs": [],
   "source": [
    "holtes_ca = ExponentialSmoothing(train.cal_activity, trend=\"add\", seasonal_periods=7).fit(smoothing_level=.5, smoothing_slope=.9, smoothing_seasonal=0.4)"
   ]
  },
  {
   "cell_type": "code",
   "execution_count": 28,
   "metadata": {},
   "outputs": [],
   "source": [
    "holtes_ca_yhat = holtes_ca.forecast(test.cal_activity.shape[0]) #series"
   ]
  },
  {
   "cell_type": "code",
   "execution_count": 29,
   "metadata": {},
   "outputs": [],
   "source": [
    "def forecast_simple(attribute,train):\n",
    "    simple = train[attribute].mean()\n",
    "    return simple"
   ]
  },
  {
   "cell_type": "code",
   "execution_count": 30,
   "metadata": {},
   "outputs": [],
   "source": [
    "def forecast_moving(attribute,train):\n",
    "    moving = train[attribute].rolling(7).mean().iloc[-1]\n",
    "    return moving"
   ]
  },
  {
   "cell_type": "code",
   "execution_count": 31,
   "metadata": {},
   "outputs": [],
   "source": [
    "simple = forecast_simple(\"cal_activity\",train)"
   ]
  },
  {
   "cell_type": "code",
   "execution_count": 32,
   "metadata": {},
   "outputs": [],
   "source": [
    "def forecast_holt_linear(attribute,train,test,smoothing_level=.5,smoothing_slope=.5):\n",
    "    holt = Holt(train[attribute]).fit(smoothing_level, smoothing_slope, optimized=False)\n",
    "    holt_yhat = holt.forecast(test[attribute].shape[0])\n",
    "    return holt_yhat.ravel()"
   ]
  },
  {
   "cell_type": "code",
   "execution_count": 33,
   "metadata": {},
   "outputs": [],
   "source": [
    "holt_yhat = forecast_holt_linear(\"cal_activity\",train,test)"
   ]
  },
  {
   "cell_type": "code",
   "execution_count": 34,
   "metadata": {},
   "outputs": [],
   "source": [
    "def forecast_holt_es(attribute,train,test,smoothing_level=.5,smoothing_slope=.9,smoothing_seasonal=0.4):\n",
    "    holtes = ExponentialSmoothing(train[attribute], trend=\"add\", seasonal_periods=7).fit(smoothing_level, smoothing_slope, smoothing_seasonal)\n",
    "    holtes_yhat = holtes.forecast(test[attribute].shape[0])\n",
    "    return holtes_yhat.ravel()"
   ]
  },
  {
   "cell_type": "code",
   "execution_count": 35,
   "metadata": {},
   "outputs": [],
   "source": [
    "holtes_yhat = forecast_holt_es(\"cal_activity\",train,test)"
   ]
  },
  {
   "cell_type": "code",
   "execution_count": 36,
   "metadata": {},
   "outputs": [],
   "source": [
    "def tabulate_forecasts(attribute,test,train,hsl=.5,hss=.5,hesl=.5,hess=.9,hesnl=.4):\n",
    "    tab = pd.DataFrame(data=test[attribute], index=test.index)\n",
    "    tab[\"simple\"] = forecast_simple(attribute,train)\n",
    "    tab[\"moving\"] = forecast_moving(attribute,train)\n",
    "    tab[\"holt_yhat\"] = forecast_holt_linear(attribute,train,test,hsl,hss)\n",
    "    tab[\"holtes_yhat\"] = forecast_holt_es(attribute,train,test,hesl,hess,hesnl)\n",
    "    return tab"
   ]
  },
  {
   "cell_type": "code",
   "execution_count": 37,
   "metadata": {},
   "outputs": [
    {
     "data": {
      "text/html": [
       "<div>\n",
       "<style scoped>\n",
       "    .dataframe tbody tr th:only-of-type {\n",
       "        vertical-align: middle;\n",
       "    }\n",
       "\n",
       "    .dataframe tbody tr th {\n",
       "        vertical-align: top;\n",
       "    }\n",
       "\n",
       "    .dataframe thead th {\n",
       "        text-align: right;\n",
       "    }\n",
       "</style>\n",
       "<table border=\"1\" class=\"dataframe\">\n",
       "  <thead>\n",
       "    <tr style=\"text-align: right;\">\n",
       "      <th></th>\n",
       "      <th>steps</th>\n",
       "      <th>simple</th>\n",
       "      <th>moving</th>\n",
       "      <th>holt_yhat</th>\n",
       "      <th>holtes_yhat</th>\n",
       "    </tr>\n",
       "    <tr>\n",
       "      <th>date</th>\n",
       "      <th></th>\n",
       "      <th></th>\n",
       "      <th></th>\n",
       "      <th></th>\n",
       "      <th></th>\n",
       "    </tr>\n",
       "  </thead>\n",
       "  <tbody>\n",
       "    <tr>\n",
       "      <th>2018-09-30</th>\n",
       "      <td>15991</td>\n",
       "      <td>6576.053578</td>\n",
       "      <td>6759.571429</td>\n",
       "      <td>6342.467041</td>\n",
       "      <td>6551.339805</td>\n",
       "    </tr>\n",
       "    <tr>\n",
       "      <th>2018-10-01</th>\n",
       "      <td>8307</td>\n",
       "      <td>6576.053578</td>\n",
       "      <td>6759.571429</td>\n",
       "      <td>6012.101190</td>\n",
       "      <td>6030.039365</td>\n",
       "    </tr>\n",
       "    <tr>\n",
       "      <th>2018-10-02</th>\n",
       "      <td>8702</td>\n",
       "      <td>6576.053578</td>\n",
       "      <td>6759.571429</td>\n",
       "      <td>5681.735340</td>\n",
       "      <td>5508.738925</td>\n",
       "    </tr>\n",
       "    <tr>\n",
       "      <th>2018-10-03</th>\n",
       "      <td>10729</td>\n",
       "      <td>6576.053578</td>\n",
       "      <td>6759.571429</td>\n",
       "      <td>5351.369489</td>\n",
       "      <td>4987.438485</td>\n",
       "    </tr>\n",
       "    <tr>\n",
       "      <th>2018-10-04</th>\n",
       "      <td>13511</td>\n",
       "      <td>6576.053578</td>\n",
       "      <td>6759.571429</td>\n",
       "      <td>5021.003638</td>\n",
       "      <td>4466.138045</td>\n",
       "    </tr>\n",
       "  </tbody>\n",
       "</table>\n",
       "</div>"
      ],
      "text/plain": [
       "            steps       simple       moving    holt_yhat  holtes_yhat\n",
       "date                                                                 \n",
       "2018-09-30  15991  6576.053578  6759.571429  6342.467041  6551.339805\n",
       "2018-10-01   8307  6576.053578  6759.571429  6012.101190  6030.039365\n",
       "2018-10-02   8702  6576.053578  6759.571429  5681.735340  5508.738925\n",
       "2018-10-03  10729  6576.053578  6759.571429  5351.369489  4987.438485\n",
       "2018-10-04  13511  6576.053578  6759.571429  5021.003638  4466.138045"
      ]
     },
     "execution_count": 37,
     "metadata": {},
     "output_type": "execute_result"
    }
   ],
   "source": [
    "tab = tabulate_forecasts(\"steps\",test,train)\n",
    "tab.head()"
   ]
  },
  {
   "cell_type": "code",
   "execution_count": 38,
   "metadata": {},
   "outputs": [],
   "source": [
    "def get_rmse_list(attribute,test,train,hsl=.5,hss=.5,hesl=.5,hess=.9,hesnl=.4):\n",
    "    tab = tabulate_forecasts(attribute,test,train,hsl,hss,hesl,hess,hesnl)\n",
    "    rmses = []\n",
    "    simple = rmses.append(math.sqrt(metrics.mean_squared_error(tab[attribute], tab.simple)))\n",
    "    moving = rmses.append(math.sqrt(metrics.mean_squared_error(tab[attribute], tab.moving)))\n",
    "    holt = rmses.append(math.sqrt(metrics.mean_squared_error(tab[attribute], tab.holt_yhat)))\n",
    "    holtes = rmses.append(math.sqrt(metrics.mean_squared_error(tab[attribute], tab.holtes_yhat)))\n",
    "    return rmses"
   ]
  },
  {
   "cell_type": "code",
   "execution_count": 39,
   "metadata": {},
   "outputs": [],
   "source": [
    "def get_all_rmse():\n",
    "    rmsey = get_rmse_list(\"cal_activity\",test,train)\n",
    "    rmse_steps =  get_rmse_list(\"steps\",test,train,hsl=.1,hss=.2,hesl=.1,hess=.13)\n",
    "    rmse_distance =  get_rmse_list(\"distance\",test,train,hsl=.32,hss=.1,hesl=.01,hess=.01)\n",
    "    rmse_floor =  get_rmse_list(\"floors\",test,train,hsl=.32,hss=.1,hesl=.01,hess=.01)\n",
    "    rmse_light =  get_rmse_list(\"min_active_light\",test,train,hsl=.32,hss=.1,hesl=.05,hess=.01)\n",
    "    rmse_fairly =  get_rmse_list(\"min_active_fairly\",test,train,hsl=.08,hss=.12,hesl=.05,hess=.01)\n",
    "    rmse_very =  get_rmse_list(\"min_active_very\",test,train,hsl=.12,hss=.2,hesl=.01,hess=.01)\n",
    "    return rmsey, rmse_steps, rmse_distance, rmse_light, rmse_fairly, rmse_very"
   ]
  },
  {
   "cell_type": "code",
   "execution_count": 40,
   "metadata": {},
   "outputs": [],
   "source": [
    "rmsey = get_rmse_list(\"cal_activity\",test,train)"
   ]
  },
  {
   "cell_type": "code",
   "execution_count": 41,
   "metadata": {},
   "outputs": [],
   "source": [
    "rmse_steps =  get_rmse_list(\"steps\",test,train,hsl=.1,hss=.2,hesl=.1,hess=.13)"
   ]
  },
  {
   "cell_type": "code",
   "execution_count": 42,
   "metadata": {},
   "outputs": [],
   "source": [
    "rmse_distance =  get_rmse_list(\"distance\",test,train,hsl=.32,hss=.1,hesl=.01,hess=.01)"
   ]
  },
  {
   "cell_type": "code",
   "execution_count": 43,
   "metadata": {},
   "outputs": [],
   "source": [
    "rmse_floors =  get_rmse_list(\"floors\",test,train,hsl=.03,hss=.1,hesl=.01,hess=.01)"
   ]
  },
  {
   "cell_type": "code",
   "execution_count": 44,
   "metadata": {},
   "outputs": [],
   "source": [
    "rmse_light =  get_rmse_list(\"min_active_light\",test,train,hsl=.32,hss=.1,hesl=.05,hess=.01)"
   ]
  },
  {
   "cell_type": "code",
   "execution_count": 45,
   "metadata": {},
   "outputs": [],
   "source": [
    "rmse_fairly =  get_rmse_list(\"min_active_fairly\",test,train,hsl=.08,hss=.12,hesl=.05,hess=.01)"
   ]
  },
  {
   "cell_type": "code",
   "execution_count": 46,
   "metadata": {},
   "outputs": [],
   "source": [
    "rmse_very =  get_rmse_list(\"min_active_very\",test,train,hsl=.12,hss=.2,hesl=.01,hess=.01)"
   ]
  },
  {
   "cell_type": "code",
   "execution_count": 47,
   "metadata": {},
   "outputs": [
    {
     "name": "stdout",
     "output_type": "stream",
     "text": [
      "[854.6422055022216, 993.7555549234311, 1520.8381524753204, 680.9542858178079]\n",
      "[7547.19991921838, 7389.5961428390465, 5427.324310661642, 5124.114635930348]\n",
      "[5.762426108246671, 3.557947362704258, 4.582711160957596, 4.572268811930562]\n",
      "[41.3260088518785, 44.070076794435785, 40.308378567686944, 40.40506527466672]\n",
      "[71.00795595236183, 79.25238151620678, 66.19252570727204, 54.430801670392135]\n",
      "[17.492801677566522, 22.56632880373481, 16.669056872305266, 17.88146391751847]\n",
      "[52.36554149707485, 50.94359036974037, 39.88938950227576, 35.45307316567089]\n"
     ]
    }
   ],
   "source": [
    "print(rmsey)\n",
    "print(rmse_steps)\n",
    "print(rmse_distance)\n",
    "print(rmse_floors)\n",
    "print(rmse_light)\n",
    "print(rmse_fairly)\n",
    "print(rmse_very)"
   ]
  },
  {
   "cell_type": "code",
   "execution_count": 48,
   "metadata": {},
   "outputs": [
    {
     "data": {
      "text/plain": [
       "([854.6422055022216, 993.7555549234311, 1520.8381524753204, 680.9542858178079],\n",
       " [7547.19991921838, 7389.5961428390465, 5427.324310661642, 5124.114635930348],\n",
       " [5.762426108246671, 3.557947362704258, 4.582711160957596, 4.572268811930562],\n",
       " [71.00795595236183, 79.25238151620678, 66.19252570727204, 54.430801670392135],\n",
       " [17.492801677566522,\n",
       "  22.56632880373481,\n",
       "  16.669056872305266,\n",
       "  17.88146391751847],\n",
       " [52.36554149707485, 50.94359036974037, 39.88938950227576, 35.45307316567089])"
      ]
     },
     "execution_count": 48,
     "metadata": {},
     "output_type": "execute_result"
    }
   ],
   "source": [
    "rmsey, rmse_steps, rmse_distance, rmse_light, rmse_fairly, rmse_very"
   ]
  },
  {
   "cell_type": "code",
   "execution_count": 49,
   "metadata": {},
   "outputs": [],
   "source": [
    "rlabel = [\"cal_activity\",\"steps\",\"distance,\",\"floors\",\"minutes_lightly_active\",\"minutes_fairly_active\",\"minutes_very_active\"]\n",
    "clabel = [\"simple\",\"moving\",\"holt_linear\",\"holt_exponential_smoothing\"]\n",
    "ftab = pd.DataFrame(index=rlabel)"
   ]
  },
  {
   "cell_type": "code",
   "execution_count": 50,
   "metadata": {},
   "outputs": [],
   "source": [
    "rmse_list = rlabel, rmsey, rmse_steps, rmse_distance, rmse_light, rmse_fairly, rmse_very"
   ]
  },
  {
   "cell_type": "code",
   "execution_count": null,
   "metadata": {},
   "outputs": [],
   "source": [
    "final = pd.DataFrame(data=rmse_list)"
   ]
  },
  {
   "cell_type": "code",
   "execution_count": null,
   "metadata": {},
   "outputs": [],
   "source": [
    "my_python_list = [['foo1', 'bar1'],\n",
    "                  ['foo2', 'bar2']]\n",
    "new_df = pd.DataFrame(columns=['my_column_name_1', 'my_column_name_2'], data=my_python_list)"
   ]
  },
  {
   "cell_type": "markdown",
   "metadata": {},
   "source": [
    "---"
   ]
  },
  {
   "cell_type": "markdown",
   "metadata": {},
   "source": [
    "---"
   ]
  },
  {
   "cell_type": "code",
   "execution_count": null,
   "metadata": {},
   "outputs": [],
   "source": [
    "predictions = pd.DataFrame(test.cal_activity, index=test.index)"
   ]
  },
  {
   "cell_type": "code",
   "execution_count": null,
   "metadata": {},
   "outputs": [],
   "source": [
    "predictions[\"simple\"] = simple_ca"
   ]
  },
  {
   "cell_type": "code",
   "execution_count": null,
   "metadata": {},
   "outputs": [],
   "source": [
    "predictions[\"moving\"] = moving_ca"
   ]
  },
  {
   "cell_type": "code",
   "execution_count": null,
   "metadata": {},
   "outputs": [],
   "source": [
    "predictions[\"prior_week\"] = moving_ca"
   ]
  },
  {
   "cell_type": "code",
   "execution_count": null,
   "metadata": {},
   "outputs": [],
   "source": [
    "predictions[\"holt_linear\"] = holt_ca_yhat.ravel()"
   ]
  },
  {
   "cell_type": "code",
   "execution_count": null,
   "metadata": {},
   "outputs": [],
   "source": [
    "predictions[\"holt_es\"] = holtes_ca_yhat.ravel()"
   ]
  },
  {
   "cell_type": "code",
   "execution_count": null,
   "metadata": {},
   "outputs": [],
   "source": [
    "predictions[\"rmse_simple\"] = math.sqrt(metrics.mean_squared_error(predictions.cal_activity, predictions.simple))"
   ]
  },
  {
   "cell_type": "code",
   "execution_count": null,
   "metadata": {},
   "outputs": [],
   "source": [
    "predictions[\"rmse_moving\"] = math.sqrt(metrics.mean_squared_error(predictions.cal_activity, predictions.moving))"
   ]
  },
  {
   "cell_type": "code",
   "execution_count": null,
   "metadata": {},
   "outputs": [],
   "source": [
    "predictions[\"rmse_holt_linear\"] = math.sqrt(metrics.mean_squared_error(predictions.cal_activity, predictions.holt_linear))"
   ]
  },
  {
   "cell_type": "code",
   "execution_count": null,
   "metadata": {},
   "outputs": [],
   "source": [
    "predictions[\"rmse_holtes\"] = math.sqrt(metrics.mean_squared_error(predictions.cal_activity, predictions.holt_es))"
   ]
  },
  {
   "cell_type": "code",
   "execution_count": null,
   "metadata": {},
   "outputs": [],
   "source": [
    "predictions"
   ]
  },
  {
   "cell_type": "markdown",
   "metadata": {},
   "source": [
    "## II. Explore"
   ]
  },
  {
   "cell_type": "markdown",
   "metadata": {},
   "source": [
    "**Questions**\n",
    "\n",
    "1. Are there any day of the week where Armstrong is particularly more active or sedentary?\n",
    "2. Do Armstrong have weekly patterns of activity?\n",
    "3. During which months is Armstrong more/less active?\n",
    "4. What is Armstrong's average statistics? Use moving average, so non or less-active/non or less-recorded days will not affect the overall averages of :\n",
    "  - Calories burned\n",
    "  - Steps taken\n",
    "  - Distance\n",
    "  - Floors\n",
    "  - Sedentary or not active in minutes\n",
    "  - Lightly active in minutes\n",
    "  - Very active in minutes\n",
    "  - Calories burned by activity\n",
    "5. Is Armstrong more active in a particular season of the year (cool, hot, cold months)?\n",
    "6. What is Armstrong's time series decompostion look like?\n",
    "7. What is Armstrong's daily and weekly activity frequencies look like?\n",
    "8. What's the correlation between activity from yesterday-today (lag)?"
   ]
  },
  {
   "cell_type": "code",
   "execution_count": null,
   "metadata": {},
   "outputs": [],
   "source": [
    "train_month = train.resample(\"M\").mean()"
   ]
  },
  {
   "cell_type": "code",
   "execution_count": null,
   "metadata": {},
   "outputs": [],
   "source": [
    "train.columns"
   ]
  },
  {
   "cell_type": "code",
   "execution_count": null,
   "metadata": {},
   "outputs": [],
   "source": [
    "train_month.index.unique()"
   ]
  },
  {
   "cell_type": "code",
   "execution_count": null,
   "metadata": {},
   "outputs": [],
   "source": [
    "plt.figure(figsize=(10,4))\n",
    "plt.plot(train_month.loc[:,['cal_burn','steps','distance','floors']], marker='o')\n",
    "plt.legend(['cal_burn', 'steps','distance','floors'],loc='center left', bbox_to_anchor=(1, 0.5))\n",
    "# plt.xticks([\"2018-0\",\"2018-11\",\"2018-10\",\"2018-09\",\"2018-08\"],[\"Dec\",\"Nov\",\"Oct\",\"Sept\",\"Aug\",\"Jul\"])\n",
    "\n",
    "plt.show()"
   ]
  },
  {
   "cell_type": "code",
   "execution_count": null,
   "metadata": {},
   "outputs": [],
   "source": [
    "plt.figure(figsize=(10,4))\n",
    "plt.plot(train_month.loc[:,['min_sed', 'min_active_light','min_active_fairly','min_active_very']], marker='o')\n",
    "plt.legend(['min_sed','min_active_light', 'min_active_fairly', 'min_active_very'],loc='center left', bbox_to_anchor=(1, 0.5))\n",
    "plt.xticks([\"2018-08\",\"2018-09\",\"2018-10\",\"2018-11\",\"2018-12\"],[\"Jul\",\"Aug\",\"Sep\",\"Oct\",\"Nov\",\"Dec\"])\n",
    "\n",
    "plt.show()"
   ]
  },
  {
   "cell_type": "markdown",
   "metadata": {},
   "source": [
    "<div class=\"alert alert-block alert-warning\">\n",
    "<b>Answer:</b>\n",
    "Armstrong has a generally sedentary lifestyle with an activity level of \"light\". We see a heightened steps count in Oct-Dec (colder months). He was least active in July and September, which are summer months.\n",
    "</div>"
   ]
  },
  {
   "cell_type": "code",
   "execution_count": null,
   "metadata": {},
   "outputs": [],
   "source": [
    "decomposition = sm.tsa.seasonal_decompose(train.cal_burn.resample(\"D\").mean(), model='additive')\n",
    "\n",
    "fig = decomposition.plot()\n",
    "plt.show()"
   ]
  },
  {
   "cell_type": "code",
   "execution_count": null,
   "metadata": {},
   "outputs": [],
   "source": [
    "# sns.barplot(x=train_month.index, y=\"cal_burn\", data=train_month, palette=[\"gray\"]*6)\n",
    "\n",
    "for att in train.columns:\n",
    "    train.groupby(train.index.month)[att].mean().plot.bar(edgecolor='black', width=.9, figsize=(12, 7))\n",
    "    plt.title(f\"{att} by month\")\n",
    "    plt.show()\n",
    "# flights.groupby('weekday').delay.mean().plot.bar(edgecolor='black', width=.9, figsize=(12, 7))\n",
    "# # flights.groupby(flights.index.weekday_name).delay.mean().plot.bar(edgecolor='black', width=.9, figsize=(12, 7))\n",
    "# plt.xticks(rotation=0)"
   ]
  },
  {
   "cell_type": "markdown",
   "metadata": {},
   "source": [
    "## III. Model"
   ]
  },
  {
   "cell_type": "code",
   "execution_count": null,
   "metadata": {},
   "outputs": [],
   "source": [
    "def evaluate(target_var, train = train, test = test, output=True):\n",
    "    mse = metrics.mean_squared_error(test[target_var], yhat[target_var])\n",
    "    rmse = math.sqrt(mse)\n",
    "\n",
    "    if output:\n",
    "        print('MSE:  {}'.format(mse))\n",
    "        print('RMSE: {}'.format(rmse))\n",
    "    else:\n",
    "        return mse, rmse\n",
    "\n",
    "def plot_and_eval(target_vars, train = train, test = test, metric_fmt = '{:.2f}', linewidth = 4):\n",
    "    if type(target_vars) is not list:\n",
    "        target_vars = [target_vars]\n",
    "\n",
    "    plt.figure(figsize=(16, 8))\n",
    "    plt.plot(train[target_vars],label='Train')\n",
    "    plt.plot(test[target_vars], label='Test')\n",
    "\n",
    "    for var in target_vars:\n",
    "        mse, rmse = evaluate(target_var = var, train = train, test = test, output=False)\n",
    "        plt.plot(yhat[var], linewidth=linewidth)\n",
    "        print(f'{var} -- MSE: {metric_fmt} RMSE: {metric_fmt}'.format(mse, rmse))\n",
    "\n",
    "    plt.show()"
   ]
  },
  {
   "cell_type": "code",
   "execution_count": null,
   "metadata": {},
   "outputs": [],
   "source": [
    "eval_df = pd.DataFrame(columns=['model_type', 'target_var', 'metric', 'value'])\n",
    "eval_df"
   ]
  },
  {
   "cell_type": "code",
   "execution_count": null,
   "metadata": {},
   "outputs": [],
   "source": [
    "# create df to store MSE & RMSE\n",
    "def append_eval_df(model_type, target_vars, train = train, test = test):\n",
    "    temp_eval_df = pd.concat([pd.DataFrame([[model_type, i, 'mse', evaluate(target_var = i, \n",
    "                                                                            train = train, \n",
    "                                                                            test = test, \n",
    "                                                                            output=False)[0]],\n",
    "                                            [model_type, i, 'rmse', evaluate(target_var = i, \n",
    "                                                                             train = train, \n",
    "                                                                             test = test, \n",
    "                                                                             output=False)[1]]],\n",
    "                                           columns=['model_type', 'target_var', 'metric', 'value']) \n",
    "                              for i in target_vars], ignore_index=True)\n",
    "    return eval_df.append(temp_eval_df, ignore_index=True)"
   ]
  },
  {
   "cell_type": "code",
   "execution_count": null,
   "metadata": {},
   "outputs": [],
   "source": [
    "periods = 30\n",
    "yhat['y'] = train.y.rolling(periods).mean().iloc[-1]\n",
    "\n",
    "# plot_and_eval(target_vars, train, test)\n",
    "# eval_df = append_eval_df(model_type='moving_average', target_vars=['y'], train = train, test = test)\n",
    "\n",
    "plt.figure(figsize=(16, 8))\n",
    "plt.plot(train[target_vars],label='Train')\n",
    "plt.plot(test[target_vars], label='Test')\n",
    "period_vals = [1, 4, 12, 26, 52, 104]\n",
    "for p in period_vals:\n",
    "    yhat['y'] = train.y.rolling(p).mean().iloc[-1]\n",
    "    plt.plot(yhat.y)\n",
    "    print('\\nrolling averge period:',p)\n",
    "    print('\\nitem sales\\n')\n",
    "    evaluate('y', train = train, test = test)"
   ]
  },
  {
   "cell_type": "code",
   "execution_count": null,
   "metadata": {},
   "outputs": [],
   "source": []
  }
 ],
 "metadata": {
  "kernelspec": {
   "display_name": "Python 3",
   "language": "python",
   "name": "python3"
  },
  "language_info": {
   "codemirror_mode": {
    "name": "ipython",
    "version": 3
   },
   "file_extension": ".py",
   "mimetype": "text/x-python",
   "name": "python",
   "nbconvert_exporter": "python",
   "pygments_lexer": "ipython3",
   "version": "3.7.3"
  },
  "toc": {
   "base_numbering": 1,
   "nav_menu": {},
   "number_sections": true,
   "sideBar": true,
   "skip_h1_title": false,
   "title_cell": "Table of Contents",
   "title_sidebar": "Contents",
   "toc_cell": false,
   "toc_position": {},
   "toc_section_display": true,
   "toc_window_display": true
  },
  "varInspector": {
   "cols": {
    "lenName": 16,
    "lenType": 16,
    "lenVar": 40
   },
   "kernels_config": {
    "python": {
     "delete_cmd_postfix": "",
     "delete_cmd_prefix": "del ",
     "library": "var_list.py",
     "varRefreshCmd": "print(var_dic_list())"
    },
    "r": {
     "delete_cmd_postfix": ") ",
     "delete_cmd_prefix": "rm(",
     "library": "var_list.r",
     "varRefreshCmd": "cat(var_dic_list()) "
    }
   },
   "types_to_exclude": [
    "module",
    "function",
    "builtin_function_or_method",
    "instance",
    "_Feature"
   ],
   "window_display": false
  }
 },
 "nbformat": 4,
 "nbformat_minor": 2
}
