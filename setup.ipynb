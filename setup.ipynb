{
 "cells": [
  {
   "cell_type": "markdown",
   "metadata": {},
   "source": [
    "# Predicting Missing Fitbit Data"
   ]
  },
  {
   "cell_type": "markdown",
   "metadata": {},
   "source": [
    "## Summary of Findings"
   ]
  },
  {
   "cell_type": "markdown",
   "metadata": {},
   "source": [
    "---\n",
    "## Project Plan\n",
    "\n",
    "### Goals\n",
    " - Predict missing values from the data set using clustering\n",
    " - Derive insights on \"Armstrong\", the person from whom the fitness data was generated\n",
    "\n",
    "### Hypotheses\n",
    " - There are patterns on Armstrong's daily activities.\n",
    " - Armstrong's fitness activity is affected by the month/season of the year.\n",
    "\n",
    "### Data Science Skills Used\n",
    " - Data prep and cleaning\n",
    " - Time Series Analysis\n",
    " - Visualization\n",
    " - Modeling using Parametric Methods\n",
    " - Modeling using the Prophet algorithm\n",
    " - Evaluation of Models"
   ]
  },
  {
   "cell_type": "markdown",
   "metadata": {},
   "source": [
    "---\n",
    "## Data Dictionary"
   ]
  },
  {
   "cell_type": "markdown",
   "metadata": {},
   "source": [
    "---\n",
    "## Notes on the Fitbit Data:\n",
    "\n",
    "We are given eight .csv files that hold monthly data of an individual, whom we elect to call \"Armstrong\". Before we begin wrangling the data, we peruse all the files and made initial notes as follows:\n",
    "\n",
    "1. The \"missing\" data is from 6/27/2018 - 7/6/2018 on the following variables:\n",
    "  - Steps\n",
    "  - Distance\n",
    "  - Floors\n",
    "  - Lightly Active in Minutes\n",
    "  - Fairly Active in Minutes\n",
    "  - Very Active in Minutes\n",
    "2. Food/ Food log data is almost empty. There are only 1 record available in May-June data, and 7 records in the October-November data.\n",
    "3. The data range covers April 26, 2018 to December 6, 2018."
   ]
  },
  {
   "cell_type": "markdown",
   "metadata": {},
   "source": [
    "### Packages"
   ]
  },
  {
   "cell_type": "code",
   "execution_count": 1,
   "metadata": {},
   "outputs": [],
   "source": [
    "# data manipulation \n",
    "import numpy as np\n",
    "import pandas as pd\n",
    "\n",
    "from statsmodels.tsa.api import ExponentialSmoothing, SimpleExpSmoothing, Holt\n",
    "import statsmodels.api as sm\n",
    "from sklearn import metrics\n",
    "\n",
    "\n",
    "import math\n",
    "\n",
    "# data visualization \n",
    "import matplotlib\n",
    "import matplotlib.pyplot as plt\n",
    "import seaborn as sns\n",
    "%matplotlib inline\n",
    "\n",
    "# ignore warning\n",
    "import warnings\n",
    "warnings.filterwarnings(\"ignore\")\n",
    "\n",
    "# project_specific modules\n",
    "import acquire\n",
    "import model"
   ]
  },
  {
   "cell_type": "markdown",
   "metadata": {},
   "source": [
    "## I. Acquire and Preprocess"
   ]
  },
  {
   "cell_type": "markdown",
   "metadata": {},
   "source": [
    "### A. Acquire"
   ]
  },
  {
   "cell_type": "markdown",
   "metadata": {},
   "source": [
    "We manipulated the individual csv files from Excel, and decided to create a single .csv file as the size of the data is manageable. We only wanted the activity data, and not the food/food log data which barely contain any data.\n",
    "\n",
    "`act.csv` is the csv file that integrates all relevant activitiy data from the eight .csv files provided.\n",
    "\n",
    "`get_activity` function from the acquire.py module produces a data frame out of `act.csv` and renames the columns for efficiency."
   ]
  },
  {
   "cell_type": "code",
   "execution_count": 2,
   "metadata": {},
   "outputs": [],
   "source": [
    "df = acquire.get_activity()"
   ]
  },
  {
   "cell_type": "markdown",
   "metadata": {},
   "source": [
    "Look at data and see if there are nulls and inappropriate data types."
   ]
  },
  {
   "cell_type": "code",
   "execution_count": 3,
   "metadata": {},
   "outputs": [
    {
     "name": "stdout",
     "output_type": "stream",
     "text": [
      "<class 'pandas.core.frame.DataFrame'>\n",
      "RangeIndex: 225 entries, 0 to 224\n",
      "Data columns (total 10 columns):\n",
      "date                 225 non-null object\n",
      "cal_burn             225 non-null object\n",
      "steps                225 non-null object\n",
      "distance             225 non-null float64\n",
      "floors               225 non-null int64\n",
      "min_sed              225 non-null object\n",
      "min_active_light     225 non-null int64\n",
      "min_active_fairly    225 non-null int64\n",
      "min_active_very      225 non-null int64\n",
      "cal_activity         225 non-null object\n",
      "dtypes: float64(1), int64(4), object(5)\n",
      "memory usage: 17.7+ KB\n"
     ]
    }
   ],
   "source": [
    "df.info()"
   ]
  },
  {
   "cell_type": "markdown",
   "metadata": {},
   "source": [
    "- There are no nulls in the data set.\n",
    "- Apart from `date` which will be handled later, there are four columns that are object type, namely.\n",
    "  - cal_burn\n",
    "  - steps\n",
    "  - min_sed\n",
    "  - cal_activity"
   ]
  },
  {
   "cell_type": "code",
   "execution_count": 4,
   "metadata": {},
   "outputs": [
    {
     "data": {
      "text/html": [
       "<div>\n",
       "<style scoped>\n",
       "    .dataframe tbody tr th:only-of-type {\n",
       "        vertical-align: middle;\n",
       "    }\n",
       "\n",
       "    .dataframe tbody tr th {\n",
       "        vertical-align: top;\n",
       "    }\n",
       "\n",
       "    .dataframe thead th {\n",
       "        text-align: right;\n",
       "    }\n",
       "</style>\n",
       "<table border=\"1\" class=\"dataframe\">\n",
       "  <thead>\n",
       "    <tr style=\"text-align: right;\">\n",
       "      <th></th>\n",
       "      <th>date</th>\n",
       "      <th>cal_burn</th>\n",
       "      <th>steps</th>\n",
       "      <th>distance</th>\n",
       "      <th>floors</th>\n",
       "      <th>min_sed</th>\n",
       "      <th>min_active_light</th>\n",
       "      <th>min_active_fairly</th>\n",
       "      <th>min_active_very</th>\n",
       "      <th>cal_activity</th>\n",
       "    </tr>\n",
       "  </thead>\n",
       "  <tbody>\n",
       "    <tr>\n",
       "      <th>65</th>\n",
       "      <td>6/30/18</td>\n",
       "      <td>2,145</td>\n",
       "      <td>0</td>\n",
       "      <td>0.00</td>\n",
       "      <td>0</td>\n",
       "      <td>1,440</td>\n",
       "      <td>0</td>\n",
       "      <td>0</td>\n",
       "      <td>0</td>\n",
       "      <td>0</td>\n",
       "    </tr>\n",
       "    <tr>\n",
       "      <th>100</th>\n",
       "      <td>8/4/18</td>\n",
       "      <td>4,376</td>\n",
       "      <td>17,126</td>\n",
       "      <td>8.08</td>\n",
       "      <td>78</td>\n",
       "      <td>585</td>\n",
       "      <td>206</td>\n",
       "      <td>17</td>\n",
       "      <td>124</td>\n",
       "      <td>2,584</td>\n",
       "    </tr>\n",
       "    <tr>\n",
       "      <th>118</th>\n",
       "      <td>8/22/18</td>\n",
       "      <td>3,811</td>\n",
       "      <td>8,678</td>\n",
       "      <td>4.09</td>\n",
       "      <td>5</td>\n",
       "      <td>845</td>\n",
       "      <td>200</td>\n",
       "      <td>13</td>\n",
       "      <td>48</td>\n",
       "      <td>1,852</td>\n",
       "    </tr>\n",
       "    <tr>\n",
       "      <th>17</th>\n",
       "      <td>5/13/18</td>\n",
       "      <td>2,572</td>\n",
       "      <td>1,689</td>\n",
       "      <td>0.80</td>\n",
       "      <td>0</td>\n",
       "      <td>895</td>\n",
       "      <td>84</td>\n",
       "      <td>0</td>\n",
       "      <td>0</td>\n",
       "      <td>394</td>\n",
       "    </tr>\n",
       "    <tr>\n",
       "      <th>9</th>\n",
       "      <td>5/5/18</td>\n",
       "      <td>2,551</td>\n",
       "      <td>833</td>\n",
       "      <td>0.39</td>\n",
       "      <td>0</td>\n",
       "      <td>969</td>\n",
       "      <td>68</td>\n",
       "      <td>0</td>\n",
       "      <td>0</td>\n",
       "      <td>326</td>\n",
       "    </tr>\n",
       "  </tbody>\n",
       "</table>\n",
       "</div>"
      ],
      "text/plain": [
       "        date cal_burn   steps  distance  floors min_sed  min_active_light  \\\n",
       "65   6/30/18    2,145       0      0.00       0   1,440                 0   \n",
       "100   8/4/18    4,376  17,126      8.08      78     585               206   \n",
       "118  8/22/18    3,811   8,678      4.09       5     845               200   \n",
       "17   5/13/18    2,572   1,689      0.80       0     895                84   \n",
       "9     5/5/18    2,551     833      0.39       0     969                68   \n",
       "\n",
       "     min_active_fairly  min_active_very cal_activity  \n",
       "65                   0                0            0  \n",
       "100                 17              124        2,584  \n",
       "118                 13               48        1,852  \n",
       "17                   0                0          394  \n",
       "9                    0                0          326  "
      ]
     },
     "execution_count": 4,
     "metadata": {},
     "output_type": "execute_result"
    }
   ],
   "source": [
    "df.sample(5) #inspect the object-type attributes, why are they being read as string/object?"
   ]
  },
  {
   "cell_type": "markdown",
   "metadata": {},
   "source": [
    "It seems that commas are making these numeric attributes as object types. To remove commas and cast these columns from object into integer types, call the `handle_obj_type` function from the acquire.py module."
   ]
  },
  {
   "cell_type": "code",
   "execution_count": 5,
   "metadata": {},
   "outputs": [],
   "source": [
    "df = acquire.handle_obj_type(df)"
   ]
  },
  {
   "cell_type": "markdown",
   "metadata": {},
   "source": [
    "### B. Split Data"
   ]
  },
  {
   "cell_type": "markdown",
   "metadata": {},
   "source": [
    "Split the data into train and test using the `split_activity` from the acquire module.\n",
    "  \n",
    "Train = 70%  (Beginning to September 29,2018)  \n",
    "Test = 30% (September 30,2018 to End)"
   ]
  },
  {
   "cell_type": "code",
   "execution_count": 6,
   "metadata": {},
   "outputs": [],
   "source": [
    "train, test = acquire.split_activity(df, train_prop=.7)"
   ]
  },
  {
   "cell_type": "markdown",
   "metadata": {},
   "source": [
    "### C. Set Date as Index "
   ]
  },
  {
   "cell_type": "markdown",
   "metadata": {},
   "source": [
    "To facilitate our analysis, cast `date` column into datetime data type, and set it as the index of our data frame. Call `set_date_as_index` function to execute these."
   ]
  },
  {
   "cell_type": "code",
   "execution_count": 7,
   "metadata": {},
   "outputs": [],
   "source": [
    "train = acquire.set_date_as_index(train)\n",
    "test = acquire.set_date_as_index(test)"
   ]
  },
  {
   "cell_type": "markdown",
   "metadata": {},
   "source": [
    "## II. Impute Missing Data"
   ]
  },
  {
   "cell_type": "markdown",
   "metadata": {},
   "source": [
    "Basal Metabolic Rate (BMR) is defined as the rate at which your body uses energy when you are resting in order to keep vital functions going such as breathing and staying warm.\n",
    "\n",
    "BMR is the difference between the calories that are burned and the calories expended during activity.\n",
    "\n",
    "Knowing Armstrong's average BMR (which is a relative constant for him as an individual) informs us of how we can impute one attribute `cal_activity` that contain missing data. We will use this formula to derive values for `cal_activity`.\n",
    "\n",
    "$BMR$ = $\\mu_{cal\\_burn - cal\\_activity}$\n",
    "\n",
    "The plot below confirms the interdependence of `cal_activity` and `cal_burn`."
   ]
  },
  {
   "cell_type": "code",
   "execution_count": 8,
   "metadata": {},
   "outputs": [
    {
     "data": {
      "text/plain": [
       "<seaborn.axisgrid.FacetGrid at 0x1c1cfc3d68>"
      ]
     },
     "execution_count": 8,
     "metadata": {},
     "output_type": "execute_result"
    },
    {
     "data": {
      "image/png": "[encoded data removed]",
      "text/plain": [
       "<Figure size 360x360 with 1 Axes>"
      ]
     },
     "metadata": {
      "needs_background": "light"
     },
     "output_type": "display_data"
    }
   ],
   "source": [
    "sns.lmplot(data=train,x=\"cal_burn\",y=\"cal_activity\")"
   ]
  },
  {
   "cell_type": "markdown",
   "metadata": {},
   "source": [
    "### A. Impute `cal_activity` using BMR"
   ]
  },
  {
   "cell_type": "markdown",
   "metadata": {},
   "source": [
    "Process:\n",
    "1. Get median_bmr to get Armstrong's constant BMR.\n",
    "2. Subset the week with missing values and zero in on the `cal_activity`.\n",
    "3. If `cal_activity` = 0, impute calculated `cal_activity` using the formula. Otherwise, use the true `cal_activity` value."
   ]
  },
  {
   "cell_type": "code",
   "execution_count": 9,
   "metadata": {},
   "outputs": [
    {
     "name": "stdout",
     "output_type": "stream",
     "text": [
      "Armstrong's Median BMR is: 1986.0\n"
     ]
    }
   ],
   "source": [
    "median_bmr = (train.cal_burn - train.cal_activity).median()\n",
    "print(f\"Armstrong's Median BMR is: {median_bmr}\")"
   ]
  },
  {
   "cell_type": "markdown",
   "metadata": {},
   "source": [
    "Add a column in train with a computed `cal_activity` based on formula."
   ]
  },
  {
   "cell_type": "code",
   "execution_count": 10,
   "metadata": {},
   "outputs": [],
   "source": [
    "train[\"calculated_cal_activity\"] = train.cal_burn - median_bmr"
   ]
  },
  {
   "cell_type": "markdown",
   "metadata": {},
   "source": [
    "Subset the days with missing values"
   ]
  },
  {
   "cell_type": "code",
   "execution_count": 11,
   "metadata": {},
   "outputs": [],
   "source": [
    "missing_subset = train[\"2018-06-26\":\"2018-07-06\"]"
   ]
  },
  {
   "cell_type": "markdown",
   "metadata": {},
   "source": [
    "Use `np.where` to replace 0 with calculated cal_activity, and retain actual values if not 0."
   ]
  },
  {
   "cell_type": "code",
   "execution_count": 12,
   "metadata": {},
   "outputs": [],
   "source": [
    "missing_subset[\"cal_activity\"] = np.where(missing_subset.cal_activity == 0, missing_subset.calculated_cal_activity, missing_subset.cal_activity)"
   ]
  },
  {
   "cell_type": "markdown",
   "metadata": {},
   "source": [
    "Attach the subset back to train."
   ]
  },
  {
   "cell_type": "code",
   "execution_count": 13,
   "metadata": {},
   "outputs": [],
   "source": [
    "train.loc[\"2018-06-26\":\"2018-07-06\",\"cal_activity\"] = missing_subset.cal_activity"
   ]
  },
  {
   "cell_type": "code",
   "execution_count": 14,
   "metadata": {},
   "outputs": [
    {
     "data": {
      "text/html": [
       "<div>\n",
       "<style scoped>\n",
       "    .dataframe tbody tr th:only-of-type {\n",
       "        vertical-align: middle;\n",
       "    }\n",
       "\n",
       "    .dataframe tbody tr th {\n",
       "        vertical-align: top;\n",
       "    }\n",
       "\n",
       "    .dataframe thead th {\n",
       "        text-align: right;\n",
       "    }\n",
       "</style>\n",
       "<table border=\"1\" class=\"dataframe\">\n",
       "  <thead>\n",
       "    <tr style=\"text-align: right;\">\n",
       "      <th></th>\n",
       "      <th>index</th>\n",
       "      <th>cal_burn</th>\n",
       "      <th>steps</th>\n",
       "      <th>distance</th>\n",
       "      <th>floors</th>\n",
       "      <th>min_sed</th>\n",
       "      <th>min_active_light</th>\n",
       "      <th>min_active_fairly</th>\n",
       "      <th>min_active_very</th>\n",
       "      <th>cal_activity</th>\n",
       "      <th>calculated_cal_activity</th>\n",
       "    </tr>\n",
       "    <tr>\n",
       "      <th>date</th>\n",
       "      <th></th>\n",
       "      <th></th>\n",
       "      <th></th>\n",
       "      <th></th>\n",
       "      <th></th>\n",
       "      <th></th>\n",
       "      <th></th>\n",
       "      <th></th>\n",
       "      <th></th>\n",
       "      <th></th>\n",
       "      <th></th>\n",
       "    </tr>\n",
       "  </thead>\n",
       "  <tbody>\n",
       "    <tr>\n",
       "      <th>2018-06-26</th>\n",
       "      <td>61</td>\n",
       "      <td>2144</td>\n",
       "      <td>0</td>\n",
       "      <td>0.00</td>\n",
       "      <td>0</td>\n",
       "      <td>1440</td>\n",
       "      <td>0</td>\n",
       "      <td>0</td>\n",
       "      <td>0</td>\n",
       "      <td>158.0</td>\n",
       "      <td>158.0</td>\n",
       "    </tr>\n",
       "    <tr>\n",
       "      <th>2018-06-27</th>\n",
       "      <td>62</td>\n",
       "      <td>2145</td>\n",
       "      <td>0</td>\n",
       "      <td>0.00</td>\n",
       "      <td>0</td>\n",
       "      <td>1440</td>\n",
       "      <td>0</td>\n",
       "      <td>0</td>\n",
       "      <td>0</td>\n",
       "      <td>159.0</td>\n",
       "      <td>159.0</td>\n",
       "    </tr>\n",
       "    <tr>\n",
       "      <th>2018-06-28</th>\n",
       "      <td>63</td>\n",
       "      <td>2145</td>\n",
       "      <td>0</td>\n",
       "      <td>0.00</td>\n",
       "      <td>0</td>\n",
       "      <td>1440</td>\n",
       "      <td>0</td>\n",
       "      <td>0</td>\n",
       "      <td>0</td>\n",
       "      <td>159.0</td>\n",
       "      <td>159.0</td>\n",
       "    </tr>\n",
       "    <tr>\n",
       "      <th>2018-06-29</th>\n",
       "      <td>64</td>\n",
       "      <td>2180</td>\n",
       "      <td>0</td>\n",
       "      <td>0.00</td>\n",
       "      <td>0</td>\n",
       "      <td>1437</td>\n",
       "      <td>3</td>\n",
       "      <td>0</td>\n",
       "      <td>0</td>\n",
       "      <td>39.0</td>\n",
       "      <td>194.0</td>\n",
       "    </tr>\n",
       "    <tr>\n",
       "      <th>2018-06-30</th>\n",
       "      <td>65</td>\n",
       "      <td>2145</td>\n",
       "      <td>0</td>\n",
       "      <td>0.00</td>\n",
       "      <td>0</td>\n",
       "      <td>1440</td>\n",
       "      <td>0</td>\n",
       "      <td>0</td>\n",
       "      <td>0</td>\n",
       "      <td>159.0</td>\n",
       "      <td>159.0</td>\n",
       "    </tr>\n",
       "    <tr>\n",
       "      <th>2018-07-01</th>\n",
       "      <td>66</td>\n",
       "      <td>3090</td>\n",
       "      <td>4714</td>\n",
       "      <td>2.22</td>\n",
       "      <td>4</td>\n",
       "      <td>1005</td>\n",
       "      <td>232</td>\n",
       "      <td>0</td>\n",
       "      <td>0</td>\n",
       "      <td>1125.0</td>\n",
       "      <td>1104.0</td>\n",
       "    </tr>\n",
       "    <tr>\n",
       "      <th>2018-07-02</th>\n",
       "      <td>67</td>\n",
       "      <td>2204</td>\n",
       "      <td>172</td>\n",
       "      <td>0.08</td>\n",
       "      <td>0</td>\n",
       "      <td>1024</td>\n",
       "      <td>12</td>\n",
       "      <td>0</td>\n",
       "      <td>0</td>\n",
       "      <td>67.0</td>\n",
       "      <td>218.0</td>\n",
       "    </tr>\n",
       "    <tr>\n",
       "      <th>2018-07-03</th>\n",
       "      <td>68</td>\n",
       "      <td>2144</td>\n",
       "      <td>0</td>\n",
       "      <td>0.00</td>\n",
       "      <td>0</td>\n",
       "      <td>1440</td>\n",
       "      <td>0</td>\n",
       "      <td>0</td>\n",
       "      <td>0</td>\n",
       "      <td>158.0</td>\n",
       "      <td>158.0</td>\n",
       "    </tr>\n",
       "    <tr>\n",
       "      <th>2018-07-04</th>\n",
       "      <td>69</td>\n",
       "      <td>2183</td>\n",
       "      <td>0</td>\n",
       "      <td>0.00</td>\n",
       "      <td>0</td>\n",
       "      <td>1438</td>\n",
       "      <td>2</td>\n",
       "      <td>0</td>\n",
       "      <td>0</td>\n",
       "      <td>42.0</td>\n",
       "      <td>197.0</td>\n",
       "    </tr>\n",
       "    <tr>\n",
       "      <th>2018-07-05</th>\n",
       "      <td>70</td>\n",
       "      <td>2153</td>\n",
       "      <td>0</td>\n",
       "      <td>0.00</td>\n",
       "      <td>0</td>\n",
       "      <td>1439</td>\n",
       "      <td>1</td>\n",
       "      <td>0</td>\n",
       "      <td>0</td>\n",
       "      <td>10.0</td>\n",
       "      <td>167.0</td>\n",
       "    </tr>\n",
       "    <tr>\n",
       "      <th>2018-07-06</th>\n",
       "      <td>71</td>\n",
       "      <td>2144</td>\n",
       "      <td>0</td>\n",
       "      <td>0.00</td>\n",
       "      <td>0</td>\n",
       "      <td>1440</td>\n",
       "      <td>0</td>\n",
       "      <td>0</td>\n",
       "      <td>0</td>\n",
       "      <td>158.0</td>\n",
       "      <td>158.0</td>\n",
       "    </tr>\n",
       "  </tbody>\n",
       "</table>\n",
       "</div>"
      ],
      "text/plain": [
       "            index  cal_burn  steps  distance  floors  min_sed  \\\n",
       "date                                                            \n",
       "2018-06-26     61      2144      0      0.00       0     1440   \n",
       "2018-06-27     62      2145      0      0.00       0     1440   \n",
       "2018-06-28     63      2145      0      0.00       0     1440   \n",
       "2018-06-29     64      2180      0      0.00       0     1437   \n",
       "2018-06-30     65      2145      0      0.00       0     1440   \n",
       "2018-07-01     66      3090   4714      2.22       4     1005   \n",
       "2018-07-02     67      2204    172      0.08       0     1024   \n",
       "2018-07-03     68      2144      0      0.00       0     1440   \n",
       "2018-07-04     69      2183      0      0.00       0     1438   \n",
       "2018-07-05     70      2153      0      0.00       0     1439   \n",
       "2018-07-06     71      2144      0      0.00       0     1440   \n",
       "\n",
       "            min_active_light  min_active_fairly  min_active_very  \\\n",
       "date                                                               \n",
       "2018-06-26                 0                  0                0   \n",
       "2018-06-27                 0                  0                0   \n",
       "2018-06-28                 0                  0                0   \n",
       "2018-06-29                 3                  0                0   \n",
       "2018-06-30                 0                  0                0   \n",
       "2018-07-01               232                  0                0   \n",
       "2018-07-02                12                  0                0   \n",
       "2018-07-03                 0                  0                0   \n",
       "2018-07-04                 2                  0                0   \n",
       "2018-07-05                 1                  0                0   \n",
       "2018-07-06                 0                  0                0   \n",
       "\n",
       "            cal_activity  calculated_cal_activity  \n",
       "date                                               \n",
       "2018-06-26         158.0                    158.0  \n",
       "2018-06-27         159.0                    159.0  \n",
       "2018-06-28         159.0                    159.0  \n",
       "2018-06-29          39.0                    194.0  \n",
       "2018-06-30         159.0                    159.0  \n",
       "2018-07-01        1125.0                   1104.0  \n",
       "2018-07-02          67.0                    218.0  \n",
       "2018-07-03         158.0                    158.0  \n",
       "2018-07-04          42.0                    197.0  \n",
       "2018-07-05          10.0                    167.0  \n",
       "2018-07-06         158.0                    158.0  "
      ]
     },
     "execution_count": 14,
     "metadata": {},
     "output_type": "execute_result"
    }
   ],
   "source": [
    "train[\"2018-06-26\":\"2018-07-06\"] #Check if we have successfully imputed cal_activity"
   ]
  },
  {
   "cell_type": "markdown",
   "metadata": {},
   "source": [
    "### B. Impute the Rest of the Missing Data"
   ]
  },
  {
   "cell_type": "markdown",
   "metadata": {},
   "source": [
    "We still have other missing data from the following attributes:\n",
    "- `steps`\n",
    "- `distance`\n",
    "- `floors`\n",
    "- `min_active_light`\n",
    "- `min_active_fairly`\n",
    "- `min_active_very`\n",
    "\n",
    "Unlike the `cal_activity` with heavy interdependence with known values in `cal_burn` (i.e., using BMR), the attributes above can be calculated using the mean of observations with similar daily profile to the ones missing.\n",
    "\n",
    "The days with missing values is what we loosely described as \"Lazy Days\" where the `cal_burn` and `cal_activity` values are below the median. Specifically, the days with missing values have cal_burn of 2000-2500, when the median `cal_burn` is 3302.5 in train.\n",
    "\n",
    "Armstrong was generally \"lazy\" on the days that we lost the data from!\n",
    "\n",
    "With these in mind, we decide the imputation process to be as follows:\n",
    " 1. Find similar-looking \"Lazy Days\" observations.\n",
    " 2. Limit the observations with similar-looking \"Lazy Days\", that is, with `cal_burn` between 2000-2500.\n",
    " 3. Get the mean values of attributes of \"Lazy Days\". These values are going to be the imputed constants for our missing values.\n",
    " 5. Excluding values from July 1 and 2, 2018 which contain true values, impute the mean constants."
   ]
  },
  {
   "cell_type": "code",
   "execution_count": 15,
   "metadata": {},
   "outputs": [],
   "source": [
    "#Steps Mean Constant\n",
    "mean_lds_steps = train[(train.cal_burn < 2500) & (train.cal_burn > 2000)].steps.mean()\n",
    "\n",
    "#Distance Mean Constant\n",
    "mean_lds_distance = train[(train.cal_burn < 2500) & (train.cal_burn > 2000)].distance.mean()\n",
    "\n",
    "#Floors Mean Constant\n",
    "mean_lds_floor = train[(train.cal_burn < 2500) & (train.cal_burn > 2000)].floors.mean()\n",
    "\n",
    "#Lightly Active Minutes Mean Constant\n",
    "mean_lds_light = train[(train.cal_burn < 2500) & (train.cal_burn > 2000)].min_active_light.mean()\n",
    "\n",
    "#Fairly Active Minutes Mean Constant\n",
    "mean_lds_fairly = train[(train.cal_burn < 2500) & (train.cal_burn > 2000)].min_active_fairly.mean()\n",
    "\n",
    "#Very Active Minutes Mean Constant\n",
    "mean_lds_very = train[(train.cal_burn < 2500) & (train.cal_burn > 2000)].min_active_very.mean()"
   ]
  },
  {
   "cell_type": "code",
   "execution_count": 16,
   "metadata": {},
   "outputs": [],
   "source": [
    "missing_subset_21 = train[\"2018-06-26\":\"2018-06-30\"]\n",
    "missing_subset_22 = train[\"2018-07-03\":\"2018-07-06\"]"
   ]
  },
  {
   "cell_type": "code",
   "execution_count": 17,
   "metadata": {},
   "outputs": [],
   "source": [
    "missing_subset_21[\"steps\"] = mean_lds_steps\n",
    "missing_subset_21[\"distance\"] = mean_lds_steps\n",
    "missing_subset_21[\"floors\"] = mean_lds_steps\n",
    "missing_subset_21[\"min_active_light\"] = mean_lds_light\n",
    "missing_subset_21[\"min_active_fairly\"] = mean_lds_fairly\n",
    "missing_subset_21[\"min_active_very\"] = mean_lds_very"
   ]
  },
  {
   "cell_type": "code",
   "execution_count": 18,
   "metadata": {},
   "outputs": [],
   "source": [
    "missing_subset_22[\"steps\"] = mean_lds_steps\n",
    "missing_subset_22[\"distance\"] = mean_lds_steps\n",
    "missing_subset_22[\"floors\"] = mean_lds_steps\n",
    "missing_subset_22[\"min_active_light\"] = mean_lds_light\n",
    "missing_subset_22[\"min_active_fairly\"] = mean_lds_fairly\n",
    "missing_subset_22[\"min_active_very\"] = mean_lds_very"
   ]
  },
  {
   "cell_type": "code",
   "execution_count": 19,
   "metadata": {},
   "outputs": [
    {
     "data": {
      "text/html": [
       "<div>\n",
       "<style scoped>\n",
       "    .dataframe tbody tr th:only-of-type {\n",
       "        vertical-align: middle;\n",
       "    }\n",
       "\n",
       "    .dataframe tbody tr th {\n",
       "        vertical-align: top;\n",
       "    }\n",
       "\n",
       "    .dataframe thead th {\n",
       "        text-align: right;\n",
       "    }\n",
       "</style>\n",
       "<table border=\"1\" class=\"dataframe\">\n",
       "  <thead>\n",
       "    <tr style=\"text-align: right;\">\n",
       "      <th></th>\n",
       "      <th>index</th>\n",
       "      <th>cal_burn</th>\n",
       "      <th>steps</th>\n",
       "      <th>distance</th>\n",
       "      <th>floors</th>\n",
       "      <th>min_sed</th>\n",
       "      <th>min_active_light</th>\n",
       "      <th>min_active_fairly</th>\n",
       "      <th>min_active_very</th>\n",
       "      <th>cal_activity</th>\n",
       "      <th>calculated_cal_activity</th>\n",
       "    </tr>\n",
       "    <tr>\n",
       "      <th>date</th>\n",
       "      <th></th>\n",
       "      <th></th>\n",
       "      <th></th>\n",
       "      <th></th>\n",
       "      <th></th>\n",
       "      <th></th>\n",
       "      <th></th>\n",
       "      <th></th>\n",
       "      <th></th>\n",
       "      <th></th>\n",
       "      <th></th>\n",
       "    </tr>\n",
       "  </thead>\n",
       "  <tbody>\n",
       "    <tr>\n",
       "      <th>2018-07-03</th>\n",
       "      <td>68</td>\n",
       "      <td>2144</td>\n",
       "      <td>149.823529</td>\n",
       "      <td>149.823529</td>\n",
       "      <td>149.823529</td>\n",
       "      <td>1440</td>\n",
       "      <td>7.235294</td>\n",
       "      <td>0.0</td>\n",
       "      <td>0.0</td>\n",
       "      <td>158.0</td>\n",
       "      <td>158.0</td>\n",
       "    </tr>\n",
       "    <tr>\n",
       "      <th>2018-07-04</th>\n",
       "      <td>69</td>\n",
       "      <td>2183</td>\n",
       "      <td>149.823529</td>\n",
       "      <td>149.823529</td>\n",
       "      <td>149.823529</td>\n",
       "      <td>1438</td>\n",
       "      <td>7.235294</td>\n",
       "      <td>0.0</td>\n",
       "      <td>0.0</td>\n",
       "      <td>42.0</td>\n",
       "      <td>197.0</td>\n",
       "    </tr>\n",
       "    <tr>\n",
       "      <th>2018-07-05</th>\n",
       "      <td>70</td>\n",
       "      <td>2153</td>\n",
       "      <td>149.823529</td>\n",
       "      <td>149.823529</td>\n",
       "      <td>149.823529</td>\n",
       "      <td>1439</td>\n",
       "      <td>7.235294</td>\n",
       "      <td>0.0</td>\n",
       "      <td>0.0</td>\n",
       "      <td>10.0</td>\n",
       "      <td>167.0</td>\n",
       "    </tr>\n",
       "    <tr>\n",
       "      <th>2018-07-06</th>\n",
       "      <td>71</td>\n",
       "      <td>2144</td>\n",
       "      <td>149.823529</td>\n",
       "      <td>149.823529</td>\n",
       "      <td>149.823529</td>\n",
       "      <td>1440</td>\n",
       "      <td>7.235294</td>\n",
       "      <td>0.0</td>\n",
       "      <td>0.0</td>\n",
       "      <td>158.0</td>\n",
       "      <td>158.0</td>\n",
       "    </tr>\n",
       "  </tbody>\n",
       "</table>\n",
       "</div>"
      ],
      "text/plain": [
       "            index  cal_burn       steps    distance      floors  min_sed  \\\n",
       "date                                                                       \n",
       "2018-07-03     68      2144  149.823529  149.823529  149.823529     1440   \n",
       "2018-07-04     69      2183  149.823529  149.823529  149.823529     1438   \n",
       "2018-07-05     70      2153  149.823529  149.823529  149.823529     1439   \n",
       "2018-07-06     71      2144  149.823529  149.823529  149.823529     1440   \n",
       "\n",
       "            min_active_light  min_active_fairly  min_active_very  \\\n",
       "date                                                               \n",
       "2018-07-03          7.235294                0.0              0.0   \n",
       "2018-07-04          7.235294                0.0              0.0   \n",
       "2018-07-05          7.235294                0.0              0.0   \n",
       "2018-07-06          7.235294                0.0              0.0   \n",
       "\n",
       "            cal_activity  calculated_cal_activity  \n",
       "date                                               \n",
       "2018-07-03         158.0                    158.0  \n",
       "2018-07-04          42.0                    197.0  \n",
       "2018-07-05          10.0                    167.0  \n",
       "2018-07-06         158.0                    158.0  "
      ]
     },
     "execution_count": 19,
     "metadata": {},
     "output_type": "execute_result"
    }
   ],
   "source": [
    "missing_subset_22"
   ]
  },
  {
   "cell_type": "code",
   "execution_count": 20,
   "metadata": {},
   "outputs": [],
   "source": [
    "#attach the missing_subset_21 and 22 back to train\n",
    "train.loc[\"2018-06-26\":\"2018-06-30\"] = missing_subset_21\n",
    "train.loc[\"2018-07-03\":\"2018-07-06\"] = missing_subset_22"
   ]
  },
  {
   "cell_type": "code",
   "execution_count": 21,
   "metadata": {},
   "outputs": [],
   "source": [
    "train.drop(columns=\"calculated_cal_activity\",inplace=True)"
   ]
  },
  {
   "cell_type": "code",
   "execution_count": 22,
   "metadata": {},
   "outputs": [],
   "source": [
    "train.drop(columns=\"index\",inplace=True)"
   ]
  },
  {
   "cell_type": "markdown",
   "metadata": {},
   "source": [
    "## III. Model"
   ]
  },
  {
   "cell_type": "code",
   "execution_count": 23,
   "metadata": {},
   "outputs": [],
   "source": [
    "tab_ca = model.tabulate_forecasts(\"cal_activity\",test,train)\n",
    "tab_steps = model.tabulate_forecasts(\"steps\",test,train)\n",
    "tab_floors = model.tabulate_forecasts(\"floors\",test,train)\n",
    "tab_distance = model.tabulate_forecasts(\"distance\",test,train)\n",
    "tab_light = model.tabulate_forecasts(\"min_active_light\",test,train)\n",
    "tab_fairly = model.tabulate_forecasts(\"min_active_fairly\",test,train)\n",
    "tab_very = model.tabulate_forecasts(\"min_active_very\",test,train)"
   ]
  },
  {
   "cell_type": "code",
   "execution_count": 24,
   "metadata": {},
   "outputs": [],
   "source": [
    "rmsey, rmse_steps, rmse_distance, rmse_floors, rmse_light, rmse_fairly, rmse_very = model.get_all_rmse(test,train)"
   ]
  },
  {
   "cell_type": "code",
   "execution_count": 25,
   "metadata": {},
   "outputs": [],
   "source": [
    "rmse_table = model.generate_rmse_table(rmsey, rmse_steps, rmse_distance, rmse_floors, rmse_light, rmse_fairly, rmse_very)"
   ]
  },
  {
   "cell_type": "code",
   "execution_count": 26,
   "metadata": {},
   "outputs": [
    {
     "data": {
      "text/html": [
       "<div>\n",
       "<style scoped>\n",
       "    .dataframe tbody tr th:only-of-type {\n",
       "        vertical-align: middle;\n",
       "    }\n",
       "\n",
       "    .dataframe tbody tr th {\n",
       "        vertical-align: top;\n",
       "    }\n",
       "\n",
       "    .dataframe thead th {\n",
       "        text-align: right;\n",
       "    }\n",
       "</style>\n",
       "<table border=\"1\" class=\"dataframe\">\n",
       "  <thead>\n",
       "    <tr style=\"text-align: right;\">\n",
       "      <th></th>\n",
       "      <th>simple</th>\n",
       "      <th>moving</th>\n",
       "      <th>holt_linear</th>\n",
       "      <th>holt_expo</th>\n",
       "    </tr>\n",
       "  </thead>\n",
       "  <tbody>\n",
       "    <tr>\n",
       "      <th>cal_act</th>\n",
       "      <td>854.642206</td>\n",
       "      <td>993.755555</td>\n",
       "      <td>1520.838152</td>\n",
       "      <td>680.954286</td>\n",
       "    </tr>\n",
       "    <tr>\n",
       "      <th>steps</th>\n",
       "      <td>7547.199919</td>\n",
       "      <td>7389.596143</td>\n",
       "      <td>5427.324311</td>\n",
       "      <td>5124.114636</td>\n",
       "    </tr>\n",
       "    <tr>\n",
       "      <th>distance</th>\n",
       "      <td>5.762426</td>\n",
       "      <td>3.557947</td>\n",
       "      <td>4.582711</td>\n",
       "      <td>4.572269</td>\n",
       "    </tr>\n",
       "    <tr>\n",
       "      <th>floors</th>\n",
       "      <td>41.326009</td>\n",
       "      <td>44.070077</td>\n",
       "      <td>70.599350</td>\n",
       "      <td>40.405065</td>\n",
       "    </tr>\n",
       "    <tr>\n",
       "      <th>light</th>\n",
       "      <td>71.007956</td>\n",
       "      <td>79.252382</td>\n",
       "      <td>66.192526</td>\n",
       "      <td>54.430802</td>\n",
       "    </tr>\n",
       "    <tr>\n",
       "      <th>fairly</th>\n",
       "      <td>17.492802</td>\n",
       "      <td>22.566329</td>\n",
       "      <td>16.669057</td>\n",
       "      <td>17.881464</td>\n",
       "    </tr>\n",
       "    <tr>\n",
       "      <th>very</th>\n",
       "      <td>52.365541</td>\n",
       "      <td>50.943590</td>\n",
       "      <td>39.889390</td>\n",
       "      <td>35.453073</td>\n",
       "    </tr>\n",
       "  </tbody>\n",
       "</table>\n",
       "</div>"
      ],
      "text/plain": [
       "               simple       moving  holt_linear    holt_expo\n",
       "cal_act    854.642206   993.755555  1520.838152   680.954286\n",
       "steps     7547.199919  7389.596143  5427.324311  5124.114636\n",
       "distance     5.762426     3.557947     4.582711     4.572269\n",
       "floors      41.326009    44.070077    70.599350    40.405065\n",
       "light       71.007956    79.252382    66.192526    54.430802\n",
       "fairly      17.492802    22.566329    16.669057    17.881464\n",
       "very        52.365541    50.943590    39.889390    35.453073"
      ]
     },
     "execution_count": 26,
     "metadata": {},
     "output_type": "execute_result"
    }
   ],
   "source": [
    "rmse_table"
   ]
  },
  {
   "cell_type": "markdown",
   "metadata": {},
   "source": [
    "Forecast each attribute based on model that gave the least RMSE."
   ]
  },
  {
   "cell_type": "code",
   "execution_count": 27,
   "metadata": {},
   "outputs": [],
   "source": [
    "new_train = train[:\"2018-06-25\"]\n",
    "\n",
    "new_test = df.copy()\n",
    "new_test = acquire.set_date_as_index(new_test).loc[\"2018-06-26\":\"2018-07-06\"]"
   ]
  },
  {
   "cell_type": "code",
   "execution_count": 45,
   "metadata": {},
   "outputs": [
    {
     "data": {
      "text/html": [
       "<div>\n",
       "<style scoped>\n",
       "    .dataframe tbody tr th:only-of-type {\n",
       "        vertical-align: middle;\n",
       "    }\n",
       "\n",
       "    .dataframe tbody tr th {\n",
       "        vertical-align: top;\n",
       "    }\n",
       "\n",
       "    .dataframe thead th {\n",
       "        text-align: right;\n",
       "    }\n",
       "</style>\n",
       "<table border=\"1\" class=\"dataframe\">\n",
       "  <thead>\n",
       "    <tr style=\"text-align: right;\">\n",
       "      <th></th>\n",
       "      <th>cal_burn</th>\n",
       "      <th>steps</th>\n",
       "      <th>distance</th>\n",
       "      <th>floors</th>\n",
       "      <th>min_sed</th>\n",
       "      <th>min_active_light</th>\n",
       "      <th>min_active_fairly</th>\n",
       "      <th>min_active_very</th>\n",
       "      <th>cal_activity</th>\n",
       "    </tr>\n",
       "    <tr>\n",
       "      <th>date</th>\n",
       "      <th></th>\n",
       "      <th></th>\n",
       "      <th></th>\n",
       "      <th></th>\n",
       "      <th></th>\n",
       "      <th></th>\n",
       "      <th></th>\n",
       "      <th></th>\n",
       "      <th></th>\n",
       "    </tr>\n",
       "  </thead>\n",
       "  <tbody>\n",
       "    <tr>\n",
       "      <th>2018-06-26</th>\n",
       "      <td>2144</td>\n",
       "      <td>0</td>\n",
       "      <td>0.00</td>\n",
       "      <td>0</td>\n",
       "      <td>1440</td>\n",
       "      <td>0</td>\n",
       "      <td>0</td>\n",
       "      <td>0</td>\n",
       "      <td>0</td>\n",
       "    </tr>\n",
       "    <tr>\n",
       "      <th>2018-06-27</th>\n",
       "      <td>2145</td>\n",
       "      <td>0</td>\n",
       "      <td>0.00</td>\n",
       "      <td>0</td>\n",
       "      <td>1440</td>\n",
       "      <td>0</td>\n",
       "      <td>0</td>\n",
       "      <td>0</td>\n",
       "      <td>0</td>\n",
       "    </tr>\n",
       "    <tr>\n",
       "      <th>2018-06-28</th>\n",
       "      <td>2145</td>\n",
       "      <td>0</td>\n",
       "      <td>0.00</td>\n",
       "      <td>0</td>\n",
       "      <td>1440</td>\n",
       "      <td>0</td>\n",
       "      <td>0</td>\n",
       "      <td>0</td>\n",
       "      <td>0</td>\n",
       "    </tr>\n",
       "    <tr>\n",
       "      <th>2018-06-29</th>\n",
       "      <td>2180</td>\n",
       "      <td>0</td>\n",
       "      <td>0.00</td>\n",
       "      <td>0</td>\n",
       "      <td>1437</td>\n",
       "      <td>3</td>\n",
       "      <td>0</td>\n",
       "      <td>0</td>\n",
       "      <td>39</td>\n",
       "    </tr>\n",
       "    <tr>\n",
       "      <th>2018-06-30</th>\n",
       "      <td>2145</td>\n",
       "      <td>0</td>\n",
       "      <td>0.00</td>\n",
       "      <td>0</td>\n",
       "      <td>1440</td>\n",
       "      <td>0</td>\n",
       "      <td>0</td>\n",
       "      <td>0</td>\n",
       "      <td>0</td>\n",
       "    </tr>\n",
       "    <tr>\n",
       "      <th>2018-07-01</th>\n",
       "      <td>3090</td>\n",
       "      <td>4714</td>\n",
       "      <td>2.22</td>\n",
       "      <td>4</td>\n",
       "      <td>1005</td>\n",
       "      <td>232</td>\n",
       "      <td>0</td>\n",
       "      <td>0</td>\n",
       "      <td>1125</td>\n",
       "    </tr>\n",
       "    <tr>\n",
       "      <th>2018-07-02</th>\n",
       "      <td>2204</td>\n",
       "      <td>172</td>\n",
       "      <td>0.08</td>\n",
       "      <td>0</td>\n",
       "      <td>1024</td>\n",
       "      <td>12</td>\n",
       "      <td>0</td>\n",
       "      <td>0</td>\n",
       "      <td>67</td>\n",
       "    </tr>\n",
       "    <tr>\n",
       "      <th>2018-07-03</th>\n",
       "      <td>2144</td>\n",
       "      <td>0</td>\n",
       "      <td>0.00</td>\n",
       "      <td>0</td>\n",
       "      <td>1440</td>\n",
       "      <td>0</td>\n",
       "      <td>0</td>\n",
       "      <td>0</td>\n",
       "      <td>0</td>\n",
       "    </tr>\n",
       "    <tr>\n",
       "      <th>2018-07-04</th>\n",
       "      <td>2183</td>\n",
       "      <td>0</td>\n",
       "      <td>0.00</td>\n",
       "      <td>0</td>\n",
       "      <td>1438</td>\n",
       "      <td>2</td>\n",
       "      <td>0</td>\n",
       "      <td>0</td>\n",
       "      <td>42</td>\n",
       "    </tr>\n",
       "    <tr>\n",
       "      <th>2018-07-05</th>\n",
       "      <td>2153</td>\n",
       "      <td>0</td>\n",
       "      <td>0.00</td>\n",
       "      <td>0</td>\n",
       "      <td>1439</td>\n",
       "      <td>1</td>\n",
       "      <td>0</td>\n",
       "      <td>0</td>\n",
       "      <td>10</td>\n",
       "    </tr>\n",
       "    <tr>\n",
       "      <th>2018-07-06</th>\n",
       "      <td>2144</td>\n",
       "      <td>0</td>\n",
       "      <td>0.00</td>\n",
       "      <td>0</td>\n",
       "      <td>1440</td>\n",
       "      <td>0</td>\n",
       "      <td>0</td>\n",
       "      <td>0</td>\n",
       "      <td>0</td>\n",
       "    </tr>\n",
       "  </tbody>\n",
       "</table>\n",
       "</div>"
      ],
      "text/plain": [
       "            cal_burn  steps  distance  floors  min_sed  min_active_light  \\\n",
       "date                                                                       \n",
       "2018-06-26      2144      0      0.00       0     1440                 0   \n",
       "2018-06-27      2145      0      0.00       0     1440                 0   \n",
       "2018-06-28      2145      0      0.00       0     1440                 0   \n",
       "2018-06-29      2180      0      0.00       0     1437                 3   \n",
       "2018-06-30      2145      0      0.00       0     1440                 0   \n",
       "2018-07-01      3090   4714      2.22       4     1005               232   \n",
       "2018-07-02      2204    172      0.08       0     1024                12   \n",
       "2018-07-03      2144      0      0.00       0     1440                 0   \n",
       "2018-07-04      2183      0      0.00       0     1438                 2   \n",
       "2018-07-05      2153      0      0.00       0     1439                 1   \n",
       "2018-07-06      2144      0      0.00       0     1440                 0   \n",
       "\n",
       "            min_active_fairly  min_active_very  cal_activity  \n",
       "date                                                          \n",
       "2018-06-26                  0                0             0  \n",
       "2018-06-27                  0                0             0  \n",
       "2018-06-28                  0                0             0  \n",
       "2018-06-29                  0                0            39  \n",
       "2018-06-30                  0                0             0  \n",
       "2018-07-01                  0                0          1125  \n",
       "2018-07-02                  0                0            67  \n",
       "2018-07-03                  0                0             0  \n",
       "2018-07-04                  0                0            42  \n",
       "2018-07-05                  0                0            10  \n",
       "2018-07-06                  0                0             0  "
      ]
     },
     "execution_count": 45,
     "metadata": {},
     "output_type": "execute_result"
    }
   ],
   "source": [
    "new_test"
   ]
  },
  {
   "cell_type": "markdown",
   "metadata": {},
   "source": [
    "### Forecasts"
   ]
  },
  {
   "cell_type": "code",
   "execution_count": 93,
   "metadata": {},
   "outputs": [],
   "source": [
    "predictions = model.forecast_holt_es(\"steps\",new_train,new_test,.1,.13)\n",
    "predictions[0] = steps_predict[0].astype(\"int\")\n",
    "predictions = predictions.rename(columns={0:\"steps_pd\"})"
   ]
  },
  {
   "cell_type": "code",
   "execution_count": 94,
   "metadata": {},
   "outputs": [],
   "source": [
    "distance_ma = model.forecast_moving(\"distance\",new_train)\n",
    "predictions[\"distance_pd\"] = distance_ma"
   ]
  },
  {
   "cell_type": "code",
   "execution_count": 95,
   "metadata": {},
   "outputs": [],
   "source": [
    "floors_holtes = model.forecast_holt_es(\"floors\",new_train,new_test,.01,.01)\n",
    "predictions[\"floors_pd\"] = floors_holtes\n",
    "\n",
    "#transform negative values to 0 because floors as an attribute has an absolute 0.\n",
    "predictions[\"floors_pd\"] = np.where(predictions.floors_pd < 0, 0, predictions.floors_pd)"
   ]
  },
  {
   "cell_type": "code",
   "execution_count": 113,
   "metadata": {},
   "outputs": [],
   "source": [
    "light_holtes = model.forecast_holt_es(\"min_active_light\",new_train,new_test,.05,.01)\n",
    "predictions[\"min_active_light_pd\"] = light_holtes"
   ]
  },
  {
   "cell_type": "code",
   "execution_count": 114,
   "metadata": {},
   "outputs": [],
   "source": [
    "fairly_holt = model.forecast_holt_linear(\"min_active_fairly\",new_train,new_test,.08,.12)\n",
    "predictions[\"min_active_fairly_pd\"] = fairly_holt\n",
    "\n",
    "\n",
    "#transform negative values to 0 because minutes of activity as an attribute has an absolute 0.\n",
    "predictions[\"min_active_fairly_pd\"] = np.where(predictions.min_active_fairly_pd < 0, 0, predictions.min_active_fairly_pd)"
   ]
  },
  {
   "cell_type": "code",
   "execution_count": 115,
   "metadata": {},
   "outputs": [],
   "source": [
    "very_holtes = model.forecast_holt_es(\"min_active_very\",new_train,new_test,.01,.01)\n",
    "predictions[\"min_active_very_pd\"] = very_holtes"
   ]
  },
  {
   "cell_type": "code",
   "execution_count": 116,
   "metadata": {
    "scrolled": true
   },
   "outputs": [
    {
     "data": {
      "text/html": [
       "<div>\n",
       "<style scoped>\n",
       "    .dataframe tbody tr th:only-of-type {\n",
       "        vertical-align: middle;\n",
       "    }\n",
       "\n",
       "    .dataframe tbody tr th {\n",
       "        vertical-align: top;\n",
       "    }\n",
       "\n",
       "    .dataframe thead th {\n",
       "        text-align: right;\n",
       "    }\n",
       "</style>\n",
       "<table border=\"1\" class=\"dataframe\">\n",
       "  <thead>\n",
       "    <tr style=\"text-align: right;\">\n",
       "      <th></th>\n",
       "      <th>steps_pd</th>\n",
       "      <th>distance_pd</th>\n",
       "      <th>floors_pd</th>\n",
       "      <th>min_active_light_pd</th>\n",
       "      <th>min_active_fairly_pd</th>\n",
       "      <th>min_active_very_pd</th>\n",
       "    </tr>\n",
       "    <tr>\n",
       "      <th>date</th>\n",
       "      <th></th>\n",
       "      <th></th>\n",
       "      <th></th>\n",
       "      <th></th>\n",
       "      <th></th>\n",
       "      <th></th>\n",
       "    </tr>\n",
       "  </thead>\n",
       "  <tbody>\n",
       "    <tr>\n",
       "      <th>2018-06-26</th>\n",
       "      <td>4962</td>\n",
       "      <td>2.428571</td>\n",
       "      <td>4.101331</td>\n",
       "      <td>213.765830</td>\n",
       "      <td>0.0</td>\n",
       "      <td>6.862263</td>\n",
       "    </tr>\n",
       "    <tr>\n",
       "      <th>2018-06-27</th>\n",
       "      <td>4468</td>\n",
       "      <td>2.428571</td>\n",
       "      <td>4.147669</td>\n",
       "      <td>215.408941</td>\n",
       "      <td>0.0</td>\n",
       "      <td>6.862011</td>\n",
       "    </tr>\n",
       "    <tr>\n",
       "      <th>2018-06-28</th>\n",
       "      <td>3974</td>\n",
       "      <td>2.428571</td>\n",
       "      <td>4.194008</td>\n",
       "      <td>217.052052</td>\n",
       "      <td>0.0</td>\n",
       "      <td>6.861758</td>\n",
       "    </tr>\n",
       "    <tr>\n",
       "      <th>2018-06-29</th>\n",
       "      <td>3480</td>\n",
       "      <td>2.428571</td>\n",
       "      <td>4.240346</td>\n",
       "      <td>218.695162</td>\n",
       "      <td>0.0</td>\n",
       "      <td>6.861505</td>\n",
       "    </tr>\n",
       "    <tr>\n",
       "      <th>2018-06-30</th>\n",
       "      <td>2985</td>\n",
       "      <td>2.428571</td>\n",
       "      <td>4.286684</td>\n",
       "      <td>220.338273</td>\n",
       "      <td>0.0</td>\n",
       "      <td>6.861252</td>\n",
       "    </tr>\n",
       "    <tr>\n",
       "      <th>2018-07-01</th>\n",
       "      <td>2491</td>\n",
       "      <td>2.428571</td>\n",
       "      <td>4.333022</td>\n",
       "      <td>221.981384</td>\n",
       "      <td>0.0</td>\n",
       "      <td>6.861000</td>\n",
       "    </tr>\n",
       "    <tr>\n",
       "      <th>2018-07-02</th>\n",
       "      <td>1997</td>\n",
       "      <td>2.428571</td>\n",
       "      <td>4.379360</td>\n",
       "      <td>223.624494</td>\n",
       "      <td>0.0</td>\n",
       "      <td>6.860747</td>\n",
       "    </tr>\n",
       "    <tr>\n",
       "      <th>2018-07-03</th>\n",
       "      <td>1503</td>\n",
       "      <td>2.428571</td>\n",
       "      <td>4.425698</td>\n",
       "      <td>225.267605</td>\n",
       "      <td>0.0</td>\n",
       "      <td>6.860494</td>\n",
       "    </tr>\n",
       "    <tr>\n",
       "      <th>2018-07-04</th>\n",
       "      <td>1009</td>\n",
       "      <td>2.428571</td>\n",
       "      <td>4.472036</td>\n",
       "      <td>226.910716</td>\n",
       "      <td>0.0</td>\n",
       "      <td>6.860241</td>\n",
       "    </tr>\n",
       "    <tr>\n",
       "      <th>2018-07-05</th>\n",
       "      <td>515</td>\n",
       "      <td>2.428571</td>\n",
       "      <td>4.518374</td>\n",
       "      <td>228.553827</td>\n",
       "      <td>0.0</td>\n",
       "      <td>6.859989</td>\n",
       "    </tr>\n",
       "    <tr>\n",
       "      <th>2018-07-06</th>\n",
       "      <td>21</td>\n",
       "      <td>2.428571</td>\n",
       "      <td>4.564712</td>\n",
       "      <td>230.196937</td>\n",
       "      <td>0.0</td>\n",
       "      <td>6.859736</td>\n",
       "    </tr>\n",
       "  </tbody>\n",
       "</table>\n",
       "</div>"
      ],
      "text/plain": [
       "            steps_pd  distance_pd  floors_pd  min_active_light_pd  \\\n",
       "date                                                                \n",
       "2018-06-26      4962     2.428571   4.101331           213.765830   \n",
       "2018-06-27      4468     2.428571   4.147669           215.408941   \n",
       "2018-06-28      3974     2.428571   4.194008           217.052052   \n",
       "2018-06-29      3480     2.428571   4.240346           218.695162   \n",
       "2018-06-30      2985     2.428571   4.286684           220.338273   \n",
       "2018-07-01      2491     2.428571   4.333022           221.981384   \n",
       "2018-07-02      1997     2.428571   4.379360           223.624494   \n",
       "2018-07-03      1503     2.428571   4.425698           225.267605   \n",
       "2018-07-04      1009     2.428571   4.472036           226.910716   \n",
       "2018-07-05       515     2.428571   4.518374           228.553827   \n",
       "2018-07-06        21     2.428571   4.564712           230.196937   \n",
       "\n",
       "            min_active_fairly_pd  min_active_very_pd  \n",
       "date                                                  \n",
       "2018-06-26                   0.0            6.862263  \n",
       "2018-06-27                   0.0            6.862011  \n",
       "2018-06-28                   0.0            6.861758  \n",
       "2018-06-29                   0.0            6.861505  \n",
       "2018-06-30                   0.0            6.861252  \n",
       "2018-07-01                   0.0            6.861000  \n",
       "2018-07-02                   0.0            6.860747  \n",
       "2018-07-03                   0.0            6.860494  \n",
       "2018-07-04                   0.0            6.860241  \n",
       "2018-07-05                   0.0            6.859989  \n",
       "2018-07-06                   0.0            6.859736  "
      ]
     },
     "execution_count": 116,
     "metadata": {},
     "output_type": "execute_result"
    }
   ],
   "source": [
    "predictions"
   ]
  },
  {
   "cell_type": "markdown",
   "metadata": {},
   "source": [
    "## II. Explore"
   ]
  },
  {
   "cell_type": "markdown",
   "metadata": {},
   "source": [
    "**Questions**\n",
    "\n",
    "1. Are there any day of the week where Armstrong is particularly more active or sedentary?\n",
    "2. Do Armstrong have weekly patterns of activity?\n",
    "3. During which months is Armstrong more/less active?\n",
    "4. What is Armstrong's average statistics? Use moving average, so non or less-active/non or less-recorded days will not affect the overall averages of :\n",
    "  - Calories burned\n",
    "  - Steps taken\n",
    "  - Distance\n",
    "  - Floors\n",
    "  - Sedentary or not active in minutes\n",
    "  - Lightly active in minutes\n",
    "  - Very active in minutes\n",
    "  - Calories burned by activity\n",
    "5. Is Armstrong more active in a particular season of the year (cool, hot, cold months)?\n",
    "6. What is Armstrong's time series decompostion look like?\n",
    "7. What is Armstrong's daily and weekly activity frequencies look like?\n",
    "8. What's the correlation between activity from yesterday-today (lag)?"
   ]
  },
  {
   "cell_type": "code",
   "execution_count": null,
   "metadata": {},
   "outputs": [],
   "source": [
    "train_month = train.resample(\"M\").mean()"
   ]
  },
  {
   "cell_type": "code",
   "execution_count": null,
   "metadata": {},
   "outputs": [],
   "source": [
    "train.columns"
   ]
  },
  {
   "cell_type": "code",
   "execution_count": null,
   "metadata": {},
   "outputs": [],
   "source": [
    "train_month.index.unique()"
   ]
  },
  {
   "cell_type": "code",
   "execution_count": null,
   "metadata": {},
   "outputs": [],
   "source": [
    "plt.figure(figsize=(10,4))\n",
    "plt.plot(train_month.loc[:,['cal_burn','steps','distance','floors']], marker='o')\n",
    "plt.legend(['cal_burn', 'steps','distance','floors'],loc='center left', bbox_to_anchor=(1, 0.5))\n",
    "# plt.xticks([\"2018-0\",\"2018-11\",\"2018-10\",\"2018-09\",\"2018-08\"],[\"Dec\",\"Nov\",\"Oct\",\"Sept\",\"Aug\",\"Jul\"])\n",
    "\n",
    "plt.show()"
   ]
  },
  {
   "cell_type": "code",
   "execution_count": null,
   "metadata": {},
   "outputs": [],
   "source": [
    "plt.figure(figsize=(10,4))\n",
    "plt.plot(train_month.loc[:,['min_sed', 'min_active_light','min_active_fairly','min_active_very']], marker='o')\n",
    "plt.legend(['min_sed','min_active_light', 'min_active_fairly', 'min_active_very'],loc='center left', bbox_to_anchor=(1, 0.5))\n",
    "plt.xticks([\"2018-08\",\"2018-09\",\"2018-10\",\"2018-11\",\"2018-12\"],[\"Jul\",\"Aug\",\"Sep\",\"Oct\",\"Nov\",\"Dec\"])\n",
    "\n",
    "plt.show()"
   ]
  },
  {
   "cell_type": "markdown",
   "metadata": {},
   "source": [
    "<div class=\"alert alert-block alert-warning\">\n",
    "<b>Answer:</b>\n",
    "Armstrong has a generally sedentary lifestyle with an activity level of \"light\". We see a heightened steps count in Oct-Dec (colder months). He was least active in July and September, which are summer months.\n",
    "</div>"
   ]
  },
  {
   "cell_type": "code",
   "execution_count": null,
   "metadata": {},
   "outputs": [],
   "source": [
    "decomposition = sm.tsa.seasonal_decompose(train.cal_burn.resample(\"D\").mean(), model='additive')\n",
    "\n",
    "fig = decomposition.plot()\n",
    "plt.show()"
   ]
  },
  {
   "cell_type": "code",
   "execution_count": null,
   "metadata": {},
   "outputs": [],
   "source": [
    "# sns.barplot(x=train_month.index, y=\"cal_burn\", data=train_month, palette=[\"gray\"]*6)\n",
    "\n",
    "for att in train.columns:\n",
    "    train.groupby(train.index.month)[att].mean().plot.bar(edgecolor='black', width=.9, figsize=(12, 7))\n",
    "    plt.title(f\"{att} by month\")\n",
    "    plt.show()\n",
    "# flights.groupby('weekday').delay.mean().plot.bar(edgecolor='black', width=.9, figsize=(12, 7))\n",
    "# # flights.groupby(flights.index.weekday_name).delay.mean().plot.bar(edgecolor='black', width=.9, figsize=(12, 7))\n",
    "# plt.xticks(rotation=0)"
   ]
  },
  {
   "cell_type": "markdown",
   "metadata": {},
   "source": [
    "## III. Model"
   ]
  },
  {
   "cell_type": "code",
   "execution_count": null,
   "metadata": {},
   "outputs": [],
   "source": []
  }
 ],
 "metadata": {
  "kernelspec": {
   "display_name": "Python 3",
   "language": "python",
   "name": "python3"
  },
  "language_info": {
   "codemirror_mode": {
    "name": "ipython",
    "version": 3
   },
   "file_extension": ".py",
   "mimetype": "text/x-python",
   "name": "python",
   "nbconvert_exporter": "python",
   "pygments_lexer": "ipython3",
   "version": "3.7.3"
  },
  "toc": {
   "base_numbering": 1,
   "nav_menu": {},
   "number_sections": true,
   "sideBar": true,
   "skip_h1_title": false,
   "title_cell": "Table of Contents",
   "title_sidebar": "Contents",
   "toc_cell": false,
   "toc_position": {},
   "toc_section_display": true,
   "toc_window_display": true
  },
  "varInspector": {
   "cols": {
    "lenName": 16,
    "lenType": 16,
    "lenVar": 40
   },
   "kernels_config": {
    "python": {
     "delete_cmd_postfix": "",
     "delete_cmd_prefix": "del ",
     "library": "var_list.py",
     "varRefreshCmd": "print(var_dic_list())"
    },
    "r": {
     "delete_cmd_postfix": ") ",
     "delete_cmd_prefix": "rm(",
     "library": "var_list.r",
     "varRefreshCmd": "cat(var_dic_list()) "
    }
   },
   "types_to_exclude": [
    "module",
    "function",
    "builtin_function_or_method",
    "instance",
    "_Feature"
   ],
   "window_display": false
  }
 },
 "nbformat": 4,
 "nbformat_minor": 2
}
