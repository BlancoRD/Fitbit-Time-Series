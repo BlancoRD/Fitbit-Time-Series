{
 "cells": [
  {
   "cell_type": "markdown",
   "metadata": {},
   "source": [
    "# Title - Fitbit Time Series Project"
   ]
  },
  {
   "cell_type": "markdown",
   "metadata": {},
   "source": [
    "# Goal\n",
    "1.\n"
   ]
  },
  {
   "cell_type": "markdown",
   "metadata": {},
   "source": [
    "Notes for intial data peeking:\n",
    "1. Missing data 6/27/2018 - 7/6/2018\n",
    "2. Most of the records are missing Food/ Food log information.  \n",
    "> Available: May - June 1 record, October - November 7 records\n",
    "3. Overall data range 4/26/2018 - 12/6/2018"
   ]
  },
  {
   "cell_type": "markdown",
   "metadata": {},
   "source": [
    "Index - \n",
    "April, May, June, Aug, Sept, Oct, Nov: 36-67\n",
    "July: 36-66\n",
    "Dec: 36-45"
   ]
  },
  {
   "cell_type": "markdown",
   "metadata": {},
   "source": [
    "Hypothesis\n",
    "1. Missing value can be predicted with by similar days of the weeks (weekday/ weekend\n",
    "2. Missing value can be affected by month/ season of the year\n",
    "3. Explore: hypothesis testing, df.corr on \n",
    "'cal_burn', 'steps', 'distance', 'floors', 'min_sed'\n",
    "'min_sed','min_active_light', 'min_active_fairly', 'min_active_very','cal_activity'\n",
    "'cal_burn', 'cal_activity'\n"
   ]
  },
  {
   "cell_type": "markdown",
   "metadata": {},
   "source": [
    "# Deliverables\n",
    "\n",
    "1. Notebook: \n",
    "> material & methods, include data preparation, summary/ data dictionary\n",
    ">\n",
    "> \n",
    ">\n",
    "> analyses\n",
    ">\n",
    "> conclusions\n",
    ">\n",
    "> predictions: \n",
    ">\n",
    "> missing two weeks worth of data (csv file)\n",
    "> \n",
    "> include comment about the individual who was wearing this fitness tracker\n",
    "\n",
    "2. Prediction result: missing two weeks worth of data (csv file)\n",
    "\n",
    "3. 2 slides, audience = a general audience. \n",
    "> Include at least one visualization, clearly labeled"
   ]
  },
  {
   "cell_type": "code",
   "execution_count": 6,
   "metadata": {},
   "outputs": [],
   "source": [
    "# data manipulation \n",
    "import numpy as np\n",
    "import pandas as pd\n",
    "\n",
    "from datetime import datetime\n",
    "import itertools as it\n",
    "\n",
    "from statsmodels.tsa.api import ExponentialSmoothing, SimpleExpSmoothing, Holt\n",
    "import statsmodels.api as sm\n",
    "from statsmodels.tsa.ar_model import AR\n",
    "\n",
    "from sklearn.model_selection import TimeSeriesSplit\n",
    "from sklearn import metrics\n",
    "\n",
    "import math\n",
    "\n",
    "# data visualization \n",
    "import matplotlib\n",
    "import matplotlib.pyplot as plt\n",
    "import seaborn as sns\n",
    "%matplotlib inline\n",
    "\n",
    "# ignore warnings\n",
    "import warnings\n",
    "warnings.filterwarnings(\"ignore\")\n",
    "import acquire\n",
    "#import prepare\n",
    "#import summarize\n",
    "#from acquire import get_store_data\n",
    "#from prepare import prep_store_data, split_store_data\n",
    "# from summarize import df_summary"
   ]
  },
  {
   "cell_type": "markdown",
   "metadata": {},
   "source": [
    "# Acquisition"
   ]
  },
  {
   "cell_type": "code",
   "execution_count": 7,
   "metadata": {},
   "outputs": [],
   "source": [
    "df = acquire.acquire()"
   ]
  },
  {
   "cell_type": "code",
   "execution_count": 8,
   "metadata": {},
   "outputs": [],
   "source": [
    "df = acquire.handle_obj_type(df)"
   ]
  },
  {
   "cell_type": "code",
   "execution_count": 9,
   "metadata": {},
   "outputs": [
    {
     "name": "stdout",
     "output_type": "stream",
     "text": [
      "Total length of df is: 225\n",
      "Total length of none-repeating dates is: 225\n"
     ]
    }
   ],
   "source": [
    "df = acquire.basic_clean(df)"
   ]
  },
  {
   "cell_type": "code",
   "execution_count": 10,
   "metadata": {},
   "outputs": [
    {
     "name": "stdout",
     "output_type": "stream",
     "text": [
      "            cal_burn  steps  distance  floors  min_sed  min_active_light  \\\n",
      "date                                                                       \n",
      "2018-04-26      2635   2931      1.38       2     1347                93   \n",
      "2018-04-27      3649   9971      4.70      19     1158               219   \n",
      "2018-04-28      3379   3521      1.66       2      702               155   \n",
      "2018-04-29      2851   1639      0.77       0      891               122   \n",
      "2018-04-30      2825   1323      0.62       0      880               104   \n",
      "\n",
      "            min_active_fairly  min_active_very  cal_activity  \n",
      "date                                                          \n",
      "2018-04-26                  0                0           566  \n",
      "2018-04-27                 46               17          1752  \n",
      "2018-04-28                 22               11          1124  \n",
      "2018-04-29                  0                0           602  \n",
      "2018-04-30                  0                0           540  \n",
      "            cal_burn  steps  distance  floors  min_sed  min_active_light  \\\n",
      "date                                                                       \n",
      "2018-07-11      3553   6997      3.30       7      701               214   \n",
      "2018-07-12      3750   7520      3.55       1      576               294   \n",
      "2018-07-13      3641   7432      3.51       1      798               206   \n",
      "2018-07-14      3622  11239      5.30      10      709               203   \n",
      "2018-07-15      3315   6077      2.87      10      654               169   \n",
      "\n",
      "            min_active_fairly  min_active_very  cal_activity  \n",
      "date                                                          \n",
      "2018-07-11                 21               14          1495  \n",
      "2018-07-12                  0                0          1787  \n",
      "2018-07-13                 32               27          1627  \n",
      "2018-07-14                 39               35          1770  \n",
      "2018-07-15                 29               20          1354  \n",
      "            cal_burn  steps  distance  floors  min_sed  min_active_light  \\\n",
      "date                                                                       \n",
      "2018-07-16      4037  10551      4.98       4      714               204   \n",
      "2018-07-17      3760   8377      3.95      12      646               258   \n",
      "2018-07-18      3509   7504      3.54       4      754               222   \n",
      "2018-07-19      3993   9484      4.47       4     1116               243   \n",
      "2018-07-20      3110   6680      3.15       3     1262               136   \n",
      "\n",
      "            min_active_fairly  min_active_very  cal_activity  \n",
      "date                                                          \n",
      "2018-07-16                 51               47          2084  \n",
      "2018-07-17                  8               25          1803  \n",
      "2018-07-18                 20                3          1502  \n",
      "2018-07-19                 57               24          2093  \n",
      "2018-07-20                 28               14          1172  \n",
      "            cal_burn  steps  distance  floors  min_sed  min_active_light  \\\n",
      "date                                                                       \n",
      "2018-12-02      3957  13257      6.23     195      725               265   \n",
      "2018-12-03      3660  12915      6.12       6      782               219   \n",
      "2018-12-04      3384  13763      6.49      13      608               199   \n",
      "2018-12-05      3670  13865      6.52      12      739               200   \n",
      "2018-12-06      3669  14774      6.96       9      647               198   \n",
      "\n",
      "            min_active_fairly  min_active_very  cal_activity  \n",
      "date                                                          \n",
      "2018-12-02                 13               70          2305  \n",
      "2018-12-03                 40               51          1993  \n",
      "2018-12-04                 11               67          1663  \n",
      "2018-12-05                 12               69          1968  \n",
      "2018-12-06                  4               78          1962  \n"
     ]
    }
   ],
   "source": [
    "train, test = acquire.split_date(df)"
   ]
  },
  {
   "cell_type": "markdown",
   "metadata": {},
   "source": [
    "# Explore and Prepare"
   ]
  },
  {
   "cell_type": "code",
   "execution_count": null,
   "metadata": {},
   "outputs": [],
   "source": []
  },
  {
   "cell_type": "code",
   "execution_count": null,
   "metadata": {},
   "outputs": [],
   "source": [
    "# explore"
   ]
  },
  {
   "cell_type": "code",
   "execution_count": null,
   "metadata": {},
   "outputs": [],
   "source": [
    "def prep_data(df: pd.DataFrame) -> pd.DataFrame:\n",
    "    return (df.assign(ds=pd.to_datetime(df.Month_Invoiced)).sort_values('ds')\n",
    "            .assign(y=df.Amount)\\\n",
    "            .groupby(['ds'])['y'].sum().reset_index().set_index('ds'))"
   ]
  },
  {
   "cell_type": "code",
   "execution_count": null,
   "metadata": {},
   "outputs": [],
   "source": [
    "df = prep_data(df)"
   ]
  },
  {
   "cell_type": "code",
   "execution_count": null,
   "metadata": {},
   "outputs": [],
   "source": [
    "def split_store_data(df, train_prop): \n",
    "    train_size = int(len(df) * train_prop)\n",
    "    train, test = df[0:train_size].reset_index(), df[train_size:len(df)].reset_index()\n",
    "    return train, test"
   ]
  },
  {
   "cell_type": "code",
   "execution_count": null,
   "metadata": {},
   "outputs": [],
   "source": [
    "train, test = split_store_data(df2, train_prop=.80)\n",
    "\n",
    "print('Observations: %d' % (len(df2)))\n",
    "print('Training Observations: %d' % (len(train)))\n",
    "print('Testing Observations: %d' % (len(test)))"
   ]
  },
  {
   "cell_type": "code",
   "execution_count": null,
   "metadata": {},
   "outputs": [],
   "source": [
    "train = train.set_index('ds')\n",
    "test = test.set_index('ds')"
   ]
  },
  {
   "cell_type": "code",
   "execution_count": null,
   "metadata": {},
   "outputs": [],
   "source": []
  },
  {
   "cell_type": "code",
   "execution_count": null,
   "metadata": {},
   "outputs": [],
   "source": [
    "# peek data\n",
    "plt.figure(figsize=(12, 4))\n",
    "plt.plot(train)\n",
    "plt.plot(test)"
   ]
  },
  {
   "cell_type": "markdown",
   "metadata": {},
   "source": [
    "# Model"
   ]
  },
  {
   "cell_type": "code",
   "execution_count": null,
   "metadata": {},
   "outputs": [],
   "source": [
    "def evaluate(target_var, train = train, test = test, output=True):\n",
    "    mse = metrics.mean_squared_error(test[target_var], yhat[target_var])\n",
    "    rmse = math.sqrt(mse)\n",
    "\n",
    "    if output:\n",
    "        print('MSE:  {}'.format(mse))\n",
    "        print('RMSE: {}'.format(rmse))\n",
    "    else:\n",
    "        return mse, rmse\n",
    "\n",
    "def plot_and_eval(target_vars, train = train, test = test, metric_fmt = '{:.2f}', linewidth = 4):\n",
    "    if type(target_vars) is not list:\n",
    "        target_vars = [target_vars]\n",
    "\n",
    "    plt.figure(figsize=(16, 8))\n",
    "    plt.plot(train[target_vars],label='Train')\n",
    "    plt.plot(test[target_vars], label='Test')\n",
    "\n",
    "    for var in target_vars:\n",
    "        mse, rmse = evaluate(target_var = var, train = train, test = test, output=False)\n",
    "        plt.plot(yhat[var], linewidth=linewidth)\n",
    "        print(f'{var} -- MSE: {metric_fmt} RMSE: {metric_fmt}'.format(mse, rmse))\n",
    "\n",
    "    plt.show()"
   ]
  },
  {
   "cell_type": "code",
   "execution_count": null,
   "metadata": {},
   "outputs": [],
   "source": [
    "eval_df = pd.DataFrame(columns=['model_type', 'target_var', 'metric', 'value'])\n",
    "eval_df"
   ]
  },
  {
   "cell_type": "code",
   "execution_count": null,
   "metadata": {},
   "outputs": [],
   "source": [
    "# create df to store MSE & RMSE\n",
    "def append_eval_df(model_type, target_vars, train = train, test = test):\n",
    "    temp_eval_df = pd.concat([pd.DataFrame([[model_type, i, 'mse', evaluate(target_var = i, \n",
    "                                                                            train = train, \n",
    "                                                                            test = test, \n",
    "                                                                            output=False)[0]],\n",
    "                                            [model_type, i, 'rmse', evaluate(target_var = i, \n",
    "                                                                             train = train, \n",
    "                                                                             test = test, \n",
    "                                                                             output=False)[1]]],\n",
    "                                           columns=['model_type', 'target_var', 'metric', 'value']) \n",
    "                              for i in target_vars], ignore_index=True)\n",
    "    return eval_df.append(temp_eval_df, ignore_index=True)"
   ]
  },
  {
   "cell_type": "code",
   "execution_count": null,
   "metadata": {},
   "outputs": [],
   "source": [
    "periods = 30\n",
    "yhat['y'] = train.y.rolling(periods).mean().iloc[-1]\n",
    "\n",
    "# plot_and_eval(target_vars, train, test)\n",
    "# eval_df = append_eval_df(model_type='moving_average', target_vars=['y'], train = train, test = test)\n",
    "\n",
    "plt.figure(figsize=(16, 8))\n",
    "plt.plot(train[target_vars],label='Train')\n",
    "plt.plot(test[target_vars], label='Test')\n",
    "period_vals = [1, 4, 12, 26, 52, 104]\n",
    "for p in period_vals:\n",
    "    yhat['y'] = train.y.rolling(p).mean().iloc[-1]\n",
    "    plt.plot(yhat.y)\n",
    "    print('\\nrolling averge period:',p)\n",
    "    print('\\nitem sales\\n')\n",
    "    evaluate('y', train = train, test = test)"
   ]
  },
  {
   "cell_type": "code",
   "execution_count": null,
   "metadata": {},
   "outputs": [],
   "source": []
  }
 ],
 "metadata": {
  "kernelspec": {
   "display_name": "Python 3",
   "language": "python",
   "name": "python3"
  },
  "language_info": {
   "codemirror_mode": {
    "name": "ipython",
    "version": 3
   },
   "file_extension": ".py",
   "mimetype": "text/x-python",
   "name": "python",
   "nbconvert_exporter": "python",
   "pygments_lexer": "ipython3",
   "version": "3.7.3"
  },
  "toc": {
   "base_numbering": 1,
   "nav_menu": {},
   "number_sections": true,
   "sideBar": true,
   "skip_h1_title": false,
   "title_cell": "Table of Contents",
   "title_sidebar": "Contents",
   "toc_cell": false,
   "toc_position": {},
   "toc_section_display": true,
   "toc_window_display": false
  },
  "varInspector": {
   "cols": {
    "lenName": 16,
    "lenType": 16,
    "lenVar": 40
   },
   "kernels_config": {
    "python": {
     "delete_cmd_postfix": "",
     "delete_cmd_prefix": "del ",
     "library": "var_list.py",
     "varRefreshCmd": "print(var_dic_list())"
    },
    "r": {
     "delete_cmd_postfix": ") ",
     "delete_cmd_prefix": "rm(",
     "library": "var_list.r",
     "varRefreshCmd": "cat(var_dic_list()) "
    }
   },
   "types_to_exclude": [
    "module",
    "function",
    "builtin_function_or_method",
    "instance",
    "_Feature"
   ],
   "window_display": false
  }
 },
 "nbformat": 4,
 "nbformat_minor": 2
}
