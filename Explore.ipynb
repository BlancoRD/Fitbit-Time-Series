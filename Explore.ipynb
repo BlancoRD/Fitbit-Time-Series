{
 "cells": [
  {
   "cell_type": "markdown",
   "metadata": {},
   "source": [
    "# Predicting Missing Fitbit Data"
   ]
  },
  {
   "cell_type": "markdown",
   "metadata": {},
   "source": [
    "## Summary of Findings"
   ]
  },
  {
   "cell_type": "markdown",
   "metadata": {},
   "source": [
    "---\n",
    "## Project Plan\n",
    "\n",
    "### Goals\n",
    " - Predict missing values from the data set using clustering\n",
    " - Derive insights on \"Armstrong\", the person from whom the fitness data was generated\n",
    "\n",
    "### Hypotheses\n",
    " - There are patterns on Armstrong's daily activities.\n",
    " - Armstrong's fitness activity is affected by the month/season of the year.\n",
    "\n",
    "### Data Science Skills Used\n",
    " - Data prep and cleaning\n",
    " - Time Series Analysis\n",
    " - Visualization\n",
    " - Modeling using Parametric Methods\n",
    " - Modeling using the Prophet algorithm\n",
    " - Evaluation of Models"
   ]
  },
  {
   "cell_type": "markdown",
   "metadata": {},
   "source": [
    "---\n",
    "## Data Dictionary"
   ]
  },
  {
   "cell_type": "markdown",
   "metadata": {},
   "source": [
    "---\n",
    "## Notes on the Fitbit Data:\n",
    "\n",
    "We are given eight .csv files that hold monthly data of an individual, whom we elect to call \"Armstrong\". Before we begin wrangling the data, we peruse all the files and made initial notes as follows:\n",
    "\n",
    "1. The \"missing\" data is from 6/27/2018 - 7/6/2018 on the following variables:\n",
    "  - Steps\n",
    "  - Distance\n",
    "  - Floors\n",
    "  - Lightly Active in Minutes\n",
    "  - Fairly Active in Minutes\n",
    "  - Very Active in Minutes\n",
    "2. Food/ Food log data is almost empty. There are only 1 record available in May-June data, and 7 records in the October-November data.\n",
    "3. The data range covers April 26, 2018 to December 6, 2018."
   ]
  },
  {
   "cell_type": "markdown",
   "metadata": {},
   "source": [
    "### Packages"
   ]
  },
  {
   "cell_type": "code",
   "execution_count": 68,
   "metadata": {},
   "outputs": [],
   "source": [
    "# data manipulation \n",
    "import numpy as np\n",
    "import pandas as pd\n",
    "\n",
    "from statsmodels.tsa.api import ExponentialSmoothing, SimpleExpSmoothing, Holt\n",
    "from statsmodels.tsa.holtwinters import ExponentialSmoothing\n",
    "import statsmodels.api as sm\n",
    "from statsmodels.tsa.ar_model import AR\n",
    "\n",
    "from sklearn.model_selection import TimeSeriesSplit\n",
    "from sklearn import metrics\n",
    "\n",
    "import math\n",
    "\n",
    "# data visualization \n",
    "import matplotlib\n",
    "import matplotlib.pyplot as plt\n",
    "import seaborn as sns\n",
    "%matplotlib inline\n",
    "\n",
    "# ignore warning\n",
    "import warnings\n",
    "warnings.filterwarnings(\"ignore\")\n",
    "\n",
    "# project_specific modules\n",
    "import acquire\n",
    "# import model"
   ]
  },
  {
   "cell_type": "markdown",
   "metadata": {},
   "source": [
    "## I. Acquire and Preprocess"
   ]
  },
  {
   "cell_type": "markdown",
   "metadata": {},
   "source": [
    "### A. Acquire"
   ]
  },
  {
   "cell_type": "markdown",
   "metadata": {},
   "source": [
    "We manipulated the individual csv files from Excel, and decided to create a single .csv file as the size of the data is manageable. We only wanted the activity data, and not the food/food log data which barely contain any data.\n",
    "\n",
    "`act.csv` is the csv file that integrates all relevant activitiy data from the eight .csv files provided.\n",
    "\n",
    "`get_activity` function from the acquire.py module produces a data frame out of `act.csv` and renames the columns for efficiency."
   ]
  },
  {
   "cell_type": "code",
   "execution_count": 4,
   "metadata": {},
   "outputs": [],
   "source": [
    "df = acquire.get_activity()"
   ]
  },
  {
   "cell_type": "markdown",
   "metadata": {},
   "source": [
    "Look at data and see if there are nulls and inappropriate data types."
   ]
  },
  {
   "cell_type": "code",
   "execution_count": 5,
   "metadata": {},
   "outputs": [
    {
     "name": "stdout",
     "output_type": "stream",
     "text": [
      "<class 'pandas.core.frame.DataFrame'>\n",
      "RangeIndex: 225 entries, 0 to 224\n",
      "Data columns (total 10 columns):\n",
      "date                 225 non-null object\n",
      "cal_burn             225 non-null object\n",
      "steps                225 non-null object\n",
      "distance             225 non-null float64\n",
      "floors               225 non-null int64\n",
      "min_sed              225 non-null object\n",
      "min_active_light     225 non-null int64\n",
      "min_active_fairly    225 non-null int64\n",
      "min_active_very      225 non-null int64\n",
      "cal_activity         225 non-null object\n",
      "dtypes: float64(1), int64(4), object(5)\n",
      "memory usage: 17.7+ KB\n"
     ]
    }
   ],
   "source": [
    "df.info()"
   ]
  },
  {
   "cell_type": "markdown",
   "metadata": {},
   "source": [
    "- There are no nulls in the data set.\n",
    "- Apart from `date` which will be handled later, there are four columns that are object type, namely.\n",
    "  - cal_burn\n",
    "  - steps\n",
    "  - min_sed\n",
    "  - cal_activity"
   ]
  },
  {
   "cell_type": "code",
   "execution_count": 6,
   "metadata": {},
   "outputs": [
    {
     "data": {
      "text/html": [
       "<div>\n",
       "<style scoped>\n",
       "    .dataframe tbody tr th:only-of-type {\n",
       "        vertical-align: middle;\n",
       "    }\n",
       "\n",
       "    .dataframe tbody tr th {\n",
       "        vertical-align: top;\n",
       "    }\n",
       "\n",
       "    .dataframe thead th {\n",
       "        text-align: right;\n",
       "    }\n",
       "</style>\n",
       "<table border=\"1\" class=\"dataframe\">\n",
       "  <thead>\n",
       "    <tr style=\"text-align: right;\">\n",
       "      <th></th>\n",
       "      <th>date</th>\n",
       "      <th>cal_burn</th>\n",
       "      <th>steps</th>\n",
       "      <th>distance</th>\n",
       "      <th>floors</th>\n",
       "      <th>min_sed</th>\n",
       "      <th>min_active_light</th>\n",
       "      <th>min_active_fairly</th>\n",
       "      <th>min_active_very</th>\n",
       "      <th>cal_activity</th>\n",
       "    </tr>\n",
       "  </thead>\n",
       "  <tbody>\n",
       "    <tr>\n",
       "      <th>35</th>\n",
       "      <td>5/31/18</td>\n",
       "      <td>3,420</td>\n",
       "      <td>5,879</td>\n",
       "      <td>2.77</td>\n",
       "      <td>3</td>\n",
       "      <td>735</td>\n",
       "      <td>230</td>\n",
       "      <td>5</td>\n",
       "      <td>6</td>\n",
       "      <td>1,349</td>\n",
       "    </tr>\n",
       "    <tr>\n",
       "      <th>201</th>\n",
       "      <td>11/13/18</td>\n",
       "      <td>3,202</td>\n",
       "      <td>10,330</td>\n",
       "      <td>4.87</td>\n",
       "      <td>16</td>\n",
       "      <td>615</td>\n",
       "      <td>199</td>\n",
       "      <td>10</td>\n",
       "      <td>26</td>\n",
       "      <td>1,376</td>\n",
       "    </tr>\n",
       "    <tr>\n",
       "      <th>122</th>\n",
       "      <td>8/26/18</td>\n",
       "      <td>799</td>\n",
       "      <td>207</td>\n",
       "      <td>0.10</td>\n",
       "      <td>1</td>\n",
       "      <td>28</td>\n",
       "      <td>13</td>\n",
       "      <td>0</td>\n",
       "      <td>0</td>\n",
       "      <td>51</td>\n",
       "    </tr>\n",
       "    <tr>\n",
       "      <th>32</th>\n",
       "      <td>5/28/18</td>\n",
       "      <td>3,213</td>\n",
       "      <td>3,875</td>\n",
       "      <td>1.83</td>\n",
       "      <td>2</td>\n",
       "      <td>668</td>\n",
       "      <td>164</td>\n",
       "      <td>0</td>\n",
       "      <td>0</td>\n",
       "      <td>922</td>\n",
       "    </tr>\n",
       "    <tr>\n",
       "      <th>58</th>\n",
       "      <td>6/23/18</td>\n",
       "      <td>3,134</td>\n",
       "      <td>2,996</td>\n",
       "      <td>1.41</td>\n",
       "      <td>2</td>\n",
       "      <td>801</td>\n",
       "      <td>130</td>\n",
       "      <td>10</td>\n",
       "      <td>18</td>\n",
       "      <td>1,079</td>\n",
       "    </tr>\n",
       "  </tbody>\n",
       "</table>\n",
       "</div>"
      ],
      "text/plain": [
       "         date cal_burn   steps  distance  floors min_sed  min_active_light  \\\n",
       "35    5/31/18    3,420   5,879      2.77       3     735               230   \n",
       "201  11/13/18    3,202  10,330      4.87      16     615               199   \n",
       "122   8/26/18      799     207      0.10       1      28                13   \n",
       "32    5/28/18    3,213   3,875      1.83       2     668               164   \n",
       "58    6/23/18    3,134   2,996      1.41       2     801               130   \n",
       "\n",
       "     min_active_fairly  min_active_very cal_activity  \n",
       "35                   5                6        1,349  \n",
       "201                 10               26        1,376  \n",
       "122                  0                0           51  \n",
       "32                   0                0          922  \n",
       "58                  10               18        1,079  "
      ]
     },
     "execution_count": 6,
     "metadata": {},
     "output_type": "execute_result"
    }
   ],
   "source": [
    "df.sample(5) #inspect the object-type attributes, why are they being read as string/object?"
   ]
  },
  {
   "cell_type": "markdown",
   "metadata": {},
   "source": [
    "It seems that commas are making these numeric attributes as object types. To remove commas and cast these columns from object into integer types, call the `handle_obj_type` function from the acquire.py module."
   ]
  },
  {
   "cell_type": "code",
   "execution_count": 7,
   "metadata": {},
   "outputs": [],
   "source": [
    "df = acquire.handle_obj_type(df)"
   ]
  },
  {
   "cell_type": "markdown",
   "metadata": {},
   "source": [
    "### B. Split Data"
   ]
  },
  {
   "cell_type": "markdown",
   "metadata": {},
   "source": [
    "Split the data into train and test using the `split_activity` from the acquire module.\n",
    "  \n",
    "Train = 70%  (Beginning to September 29,2018)  \n",
    "Test = 30% (September 30,2018 to End)"
   ]
  },
  {
   "cell_type": "code",
   "execution_count": 8,
   "metadata": {},
   "outputs": [],
   "source": [
    "train, test = acquire.split_activity(df, train_prop=.7)"
   ]
  },
  {
   "cell_type": "markdown",
   "metadata": {},
   "source": [
    "### C. Set Date as Index "
   ]
  },
  {
   "cell_type": "markdown",
   "metadata": {},
   "source": [
    "To facilitate our analysis, cast `date` column into datetime data type, and set it as the index of our data frame. Call `set_date_as_index` function to execute these."
   ]
  },
  {
   "cell_type": "code",
   "execution_count": 9,
   "metadata": {},
   "outputs": [],
   "source": [
    "train = acquire.set_date_as_index(train)\n",
    "test = acquire.set_date_as_index(test)"
   ]
  },
  {
   "cell_type": "markdown",
   "metadata": {},
   "source": [
    "## II. Impute Missing Data"
   ]
  },
  {
   "cell_type": "markdown",
   "metadata": {},
   "source": [
    "Basal Metabolic Rate (BMR) is defined as the rate at which your body uses energy when you are resting in order to keep vital functions going such as breathing and staying warm.\n",
    "\n",
    "BMR is the difference between the calories that are burned and the calories expended during activity.\n",
    "\n",
    "Knowing Armstrong's average BMR (which is a relative constant for him as an individual) informs us of how we can impute one attribute `cal_activity` that contain missing data. We will use this formula to derive values for `cal_activity`.\n",
    "\n",
    "$BMR$ = $\\mu_{cal\\_burn - cal\\_activity}$\n",
    "\n",
    "The plot below confirms the interdependence of `cal_activity` and `cal_burn`."
   ]
  },
  {
   "cell_type": "code",
   "execution_count": 10,
   "metadata": {},
   "outputs": [
    {
     "data": {
      "text/plain": [
       "<seaborn.axisgrid.FacetGrid at 0x1c1c5275f8>"
      ]
     },
     "execution_count": 10,
     "metadata": {},
     "output_type": "execute_result"
    },
    {
     "data": {
      "image/png": "[encoded data removed]",
      "text/plain": [
       "<Figure size 360x360 with 1 Axes>"
      ]
     },
     "metadata": {
      "needs_background": "light"
     },
     "output_type": "display_data"
    }
   ],
   "source": [
    "sns.lmplot(data=train,x=\"cal_burn\",y=\"cal_activity\")"
   ]
  },
  {
   "cell_type": "markdown",
   "metadata": {},
   "source": [
    "### A. Impute `cal_activity` using BMR"
   ]
  },
  {
   "cell_type": "markdown",
   "metadata": {},
   "source": [
    "Process:\n",
    "1. Get median_bmr to get Armstrong's constant BMR.\n",
    "2. Subset the week with missing values and zero in on the `cal_activity`.\n",
    "3. If `cal_activity` = 0, impute calculated `cal_activity` using the formula. Otherwise, use the true `cal_activity` value."
   ]
  },
  {
   "cell_type": "code",
   "execution_count": 11,
   "metadata": {},
   "outputs": [
    {
     "name": "stdout",
     "output_type": "stream",
     "text": [
      "Armstrong's Median BMR is: 1986.0\n"
     ]
    }
   ],
   "source": [
    "median_bmr = (train.cal_burn - train.cal_activity).median()\n",
    "print(f\"Armstrong's Median BMR is: {median_bmr}\")"
   ]
  },
  {
   "cell_type": "markdown",
   "metadata": {},
   "source": [
    "Add a column in train with a computed `cal_activity` based on formula."
   ]
  },
  {
   "cell_type": "code",
   "execution_count": 12,
   "metadata": {},
   "outputs": [],
   "source": [
    "train[\"calculated_cal_activity\"] = train.cal_burn - median_bmr"
   ]
  },
  {
   "cell_type": "markdown",
   "metadata": {},
   "source": [
    "Subset the days with missing values"
   ]
  },
  {
   "cell_type": "code",
   "execution_count": 13,
   "metadata": {},
   "outputs": [],
   "source": [
    "missing_subset = train[\"2018-06-26\":\"2018-07-06\"]"
   ]
  },
  {
   "cell_type": "markdown",
   "metadata": {},
   "source": [
    "Use `np.where` to replace 0 with calculated cal_activity, and retain actual values if not 0."
   ]
  },
  {
   "cell_type": "code",
   "execution_count": 14,
   "metadata": {},
   "outputs": [],
   "source": [
    "missing_subset[\"cal_activity\"] = np.where(missing_subset.cal_activity == 0, missing_subset.calculated_cal_activity, missing_subset.cal_activity)"
   ]
  },
  {
   "cell_type": "markdown",
   "metadata": {},
   "source": [
    "Attach the subset back to train."
   ]
  },
  {
   "cell_type": "code",
   "execution_count": 15,
   "metadata": {},
   "outputs": [],
   "source": [
    "train.loc[\"2018-06-26\":\"2018-07-06\",\"cal_activity\"] = missing_subset.cal_activity"
   ]
  },
  {
   "cell_type": "code",
   "execution_count": 16,
   "metadata": {},
   "outputs": [
    {
     "data": {
      "text/html": [
       "<div>\n",
       "<style scoped>\n",
       "    .dataframe tbody tr th:only-of-type {\n",
       "        vertical-align: middle;\n",
       "    }\n",
       "\n",
       "    .dataframe tbody tr th {\n",
       "        vertical-align: top;\n",
       "    }\n",
       "\n",
       "    .dataframe thead th {\n",
       "        text-align: right;\n",
       "    }\n",
       "</style>\n",
       "<table border=\"1\" class=\"dataframe\">\n",
       "  <thead>\n",
       "    <tr style=\"text-align: right;\">\n",
       "      <th></th>\n",
       "      <th>index</th>\n",
       "      <th>cal_burn</th>\n",
       "      <th>steps</th>\n",
       "      <th>distance</th>\n",
       "      <th>floors</th>\n",
       "      <th>min_sed</th>\n",
       "      <th>min_active_light</th>\n",
       "      <th>min_active_fairly</th>\n",
       "      <th>min_active_very</th>\n",
       "      <th>cal_activity</th>\n",
       "      <th>calculated_cal_activity</th>\n",
       "    </tr>\n",
       "    <tr>\n",
       "      <th>date</th>\n",
       "      <th></th>\n",
       "      <th></th>\n",
       "      <th></th>\n",
       "      <th></th>\n",
       "      <th></th>\n",
       "      <th></th>\n",
       "      <th></th>\n",
       "      <th></th>\n",
       "      <th></th>\n",
       "      <th></th>\n",
       "      <th></th>\n",
       "    </tr>\n",
       "  </thead>\n",
       "  <tbody>\n",
       "    <tr>\n",
       "      <th>2018-06-26</th>\n",
       "      <td>61</td>\n",
       "      <td>2144</td>\n",
       "      <td>0</td>\n",
       "      <td>0.00</td>\n",
       "      <td>0</td>\n",
       "      <td>1440</td>\n",
       "      <td>0</td>\n",
       "      <td>0</td>\n",
       "      <td>0</td>\n",
       "      <td>158.0</td>\n",
       "      <td>158.0</td>\n",
       "    </tr>\n",
       "    <tr>\n",
       "      <th>2018-06-27</th>\n",
       "      <td>62</td>\n",
       "      <td>2145</td>\n",
       "      <td>0</td>\n",
       "      <td>0.00</td>\n",
       "      <td>0</td>\n",
       "      <td>1440</td>\n",
       "      <td>0</td>\n",
       "      <td>0</td>\n",
       "      <td>0</td>\n",
       "      <td>159.0</td>\n",
       "      <td>159.0</td>\n",
       "    </tr>\n",
       "    <tr>\n",
       "      <th>2018-06-28</th>\n",
       "      <td>63</td>\n",
       "      <td>2145</td>\n",
       "      <td>0</td>\n",
       "      <td>0.00</td>\n",
       "      <td>0</td>\n",
       "      <td>1440</td>\n",
       "      <td>0</td>\n",
       "      <td>0</td>\n",
       "      <td>0</td>\n",
       "      <td>159.0</td>\n",
       "      <td>159.0</td>\n",
       "    </tr>\n",
       "    <tr>\n",
       "      <th>2018-06-29</th>\n",
       "      <td>64</td>\n",
       "      <td>2180</td>\n",
       "      <td>0</td>\n",
       "      <td>0.00</td>\n",
       "      <td>0</td>\n",
       "      <td>1437</td>\n",
       "      <td>3</td>\n",
       "      <td>0</td>\n",
       "      <td>0</td>\n",
       "      <td>39.0</td>\n",
       "      <td>194.0</td>\n",
       "    </tr>\n",
       "    <tr>\n",
       "      <th>2018-06-30</th>\n",
       "      <td>65</td>\n",
       "      <td>2145</td>\n",
       "      <td>0</td>\n",
       "      <td>0.00</td>\n",
       "      <td>0</td>\n",
       "      <td>1440</td>\n",
       "      <td>0</td>\n",
       "      <td>0</td>\n",
       "      <td>0</td>\n",
       "      <td>159.0</td>\n",
       "      <td>159.0</td>\n",
       "    </tr>\n",
       "    <tr>\n",
       "      <th>2018-07-01</th>\n",
       "      <td>66</td>\n",
       "      <td>3090</td>\n",
       "      <td>4714</td>\n",
       "      <td>2.22</td>\n",
       "      <td>4</td>\n",
       "      <td>1005</td>\n",
       "      <td>232</td>\n",
       "      <td>0</td>\n",
       "      <td>0</td>\n",
       "      <td>1125.0</td>\n",
       "      <td>1104.0</td>\n",
       "    </tr>\n",
       "    <tr>\n",
       "      <th>2018-07-02</th>\n",
       "      <td>67</td>\n",
       "      <td>2204</td>\n",
       "      <td>172</td>\n",
       "      <td>0.08</td>\n",
       "      <td>0</td>\n",
       "      <td>1024</td>\n",
       "      <td>12</td>\n",
       "      <td>0</td>\n",
       "      <td>0</td>\n",
       "      <td>67.0</td>\n",
       "      <td>218.0</td>\n",
       "    </tr>\n",
       "    <tr>\n",
       "      <th>2018-07-03</th>\n",
       "      <td>68</td>\n",
       "      <td>2144</td>\n",
       "      <td>0</td>\n",
       "      <td>0.00</td>\n",
       "      <td>0</td>\n",
       "      <td>1440</td>\n",
       "      <td>0</td>\n",
       "      <td>0</td>\n",
       "      <td>0</td>\n",
       "      <td>158.0</td>\n",
       "      <td>158.0</td>\n",
       "    </tr>\n",
       "    <tr>\n",
       "      <th>2018-07-04</th>\n",
       "      <td>69</td>\n",
       "      <td>2183</td>\n",
       "      <td>0</td>\n",
       "      <td>0.00</td>\n",
       "      <td>0</td>\n",
       "      <td>1438</td>\n",
       "      <td>2</td>\n",
       "      <td>0</td>\n",
       "      <td>0</td>\n",
       "      <td>42.0</td>\n",
       "      <td>197.0</td>\n",
       "    </tr>\n",
       "    <tr>\n",
       "      <th>2018-07-05</th>\n",
       "      <td>70</td>\n",
       "      <td>2153</td>\n",
       "      <td>0</td>\n",
       "      <td>0.00</td>\n",
       "      <td>0</td>\n",
       "      <td>1439</td>\n",
       "      <td>1</td>\n",
       "      <td>0</td>\n",
       "      <td>0</td>\n",
       "      <td>10.0</td>\n",
       "      <td>167.0</td>\n",
       "    </tr>\n",
       "    <tr>\n",
       "      <th>2018-07-06</th>\n",
       "      <td>71</td>\n",
       "      <td>2144</td>\n",
       "      <td>0</td>\n",
       "      <td>0.00</td>\n",
       "      <td>0</td>\n",
       "      <td>1440</td>\n",
       "      <td>0</td>\n",
       "      <td>0</td>\n",
       "      <td>0</td>\n",
       "      <td>158.0</td>\n",
       "      <td>158.0</td>\n",
       "    </tr>\n",
       "  </tbody>\n",
       "</table>\n",
       "</div>"
      ],
      "text/plain": [
       "            index  cal_burn  steps  distance  floors  min_sed  \\\n",
       "date                                                            \n",
       "2018-06-26     61      2144      0      0.00       0     1440   \n",
       "2018-06-27     62      2145      0      0.00       0     1440   \n",
       "2018-06-28     63      2145      0      0.00       0     1440   \n",
       "2018-06-29     64      2180      0      0.00       0     1437   \n",
       "2018-06-30     65      2145      0      0.00       0     1440   \n",
       "2018-07-01     66      3090   4714      2.22       4     1005   \n",
       "2018-07-02     67      2204    172      0.08       0     1024   \n",
       "2018-07-03     68      2144      0      0.00       0     1440   \n",
       "2018-07-04     69      2183      0      0.00       0     1438   \n",
       "2018-07-05     70      2153      0      0.00       0     1439   \n",
       "2018-07-06     71      2144      0      0.00       0     1440   \n",
       "\n",
       "            min_active_light  min_active_fairly  min_active_very  \\\n",
       "date                                                               \n",
       "2018-06-26                 0                  0                0   \n",
       "2018-06-27                 0                  0                0   \n",
       "2018-06-28                 0                  0                0   \n",
       "2018-06-29                 3                  0                0   \n",
       "2018-06-30                 0                  0                0   \n",
       "2018-07-01               232                  0                0   \n",
       "2018-07-02                12                  0                0   \n",
       "2018-07-03                 0                  0                0   \n",
       "2018-07-04                 2                  0                0   \n",
       "2018-07-05                 1                  0                0   \n",
       "2018-07-06                 0                  0                0   \n",
       "\n",
       "            cal_activity  calculated_cal_activity  \n",
       "date                                               \n",
       "2018-06-26         158.0                    158.0  \n",
       "2018-06-27         159.0                    159.0  \n",
       "2018-06-28         159.0                    159.0  \n",
       "2018-06-29          39.0                    194.0  \n",
       "2018-06-30         159.0                    159.0  \n",
       "2018-07-01        1125.0                   1104.0  \n",
       "2018-07-02          67.0                    218.0  \n",
       "2018-07-03         158.0                    158.0  \n",
       "2018-07-04          42.0                    197.0  \n",
       "2018-07-05          10.0                    167.0  \n",
       "2018-07-06         158.0                    158.0  "
      ]
     },
     "execution_count": 16,
     "metadata": {},
     "output_type": "execute_result"
    }
   ],
   "source": [
    "train[\"2018-06-26\":\"2018-07-06\"] #Check if we have successfully imputed cal_activity"
   ]
  },
  {
   "cell_type": "markdown",
   "metadata": {},
   "source": [
    "### B. Impute the Rest of the Missing Data"
   ]
  },
  {
   "cell_type": "markdown",
   "metadata": {},
   "source": [
    "We still have other missing data from the following attributes:\n",
    "- `steps`\n",
    "- `distance`\n",
    "- `floors`\n",
    "- `min_active_light`\n",
    "- `min_active_fairly`\n",
    "- `min_active_very`\n",
    "\n",
    "Unlike the `cal_activity` with heavy interdependence with known values in `cal_burn` (i.e., using BMR), the attributes above can be calculated using the mean of observations with similar daily profile to the ones missing.\n",
    "\n",
    "The days with missing values is what we loosely described as \"Lazy Days\" where the `cal_burn` and `cal_activity` values are below the median. Specifically, the days with missing values have cal_burn of 2000-2500, when the median `cal_burn` is 3302.5 in train.\n",
    "\n",
    "Armstrong was generally \"lazy\" on the days that we lost the data from!\n",
    "\n",
    "With these in mind, we decide the imputation process to be as follows:\n",
    " 1. Find similar-looking \"Lazy Days\" observations.\n",
    " 2. Limit the observations with similar-looking \"Lazy Days\", that is, with `cal_burn` between 2000-2500.\n",
    " 3. Get the mean values of attributes of \"Lazy Days\". These values are going to be the imputed constants for our missing values.\n",
    " 5. Excluding values from July 1 and 2, 2018 which contain true values, impute the mean constants."
   ]
  },
  {
   "cell_type": "code",
   "execution_count": 17,
   "metadata": {},
   "outputs": [],
   "source": [
    "#Steps Mean Constant\n",
    "mean_lds_steps = train[(train.cal_burn < 2500) & (train.cal_burn > 2000)].steps.mean()\n",
    "\n",
    "#Distance Mean Constant\n",
    "mean_lds_distance = train[(train.cal_burn < 2500) & (train.cal_burn > 2000)].distance.mean()\n",
    "\n",
    "#Floors Mean Constant\n",
    "mean_lds_floor = train[(train.cal_burn < 2500) & (train.cal_burn > 2000)].floors.mean()\n",
    "\n",
    "#Lightly Active Minutes Mean Constant\n",
    "mean_lds_light = train[(train.cal_burn < 2500) & (train.cal_burn > 2000)].min_active_light.mean()\n",
    "\n",
    "#Fairly Active Minutes Mean Constant\n",
    "mean_lds_fairly = train[(train.cal_burn < 2500) & (train.cal_burn > 2000)].min_active_fairly.mean()\n",
    "\n",
    "#Very Active Minutes Mean Constant\n",
    "mean_lds_very = train[(train.cal_burn < 2500) & (train.cal_burn > 2000)].min_active_very.mean()"
   ]
  },
  {
   "cell_type": "code",
   "execution_count": 18,
   "metadata": {},
   "outputs": [],
   "source": [
    "missing_subset_21 = train[\"2018-06-26\":\"2018-06-30\"]\n",
    "missing_subset_22 = train[\"2018-07-03\":\"2018-07-06\"]"
   ]
  },
  {
   "cell_type": "code",
   "execution_count": 19,
   "metadata": {},
   "outputs": [],
   "source": [
    "missing_subset_21[\"steps\"] = mean_lds_steps\n",
    "missing_subset_21[\"distance\"] = mean_lds_steps\n",
    "missing_subset_21[\"floors\"] = mean_lds_steps\n",
    "missing_subset_21[\"min_active_light\"] = mean_lds_light\n",
    "missing_subset_21[\"min_active_fairly\"] = mean_lds_fairly\n",
    "missing_subset_21[\"min_active_very\"] = mean_lds_very"
   ]
  },
  {
   "cell_type": "code",
   "execution_count": 20,
   "metadata": {},
   "outputs": [],
   "source": [
    "missing_subset_22[\"steps\"] = mean_lds_steps\n",
    "missing_subset_22[\"distance\"] = mean_lds_steps\n",
    "missing_subset_22[\"floors\"] = mean_lds_steps\n",
    "missing_subset_22[\"min_active_light\"] = mean_lds_light\n",
    "missing_subset_22[\"min_active_fairly\"] = mean_lds_fairly\n",
    "missing_subset_22[\"min_active_very\"] = mean_lds_very"
   ]
  },
  {
   "cell_type": "code",
   "execution_count": 21,
   "metadata": {},
   "outputs": [
    {
     "data": {
      "text/html": [
       "<div>\n",
       "<style scoped>\n",
       "    .dataframe tbody tr th:only-of-type {\n",
       "        vertical-align: middle;\n",
       "    }\n",
       "\n",
       "    .dataframe tbody tr th {\n",
       "        vertical-align: top;\n",
       "    }\n",
       "\n",
       "    .dataframe thead th {\n",
       "        text-align: right;\n",
       "    }\n",
       "</style>\n",
       "<table border=\"1\" class=\"dataframe\">\n",
       "  <thead>\n",
       "    <tr style=\"text-align: right;\">\n",
       "      <th></th>\n",
       "      <th>index</th>\n",
       "      <th>cal_burn</th>\n",
       "      <th>steps</th>\n",
       "      <th>distance</th>\n",
       "      <th>floors</th>\n",
       "      <th>min_sed</th>\n",
       "      <th>min_active_light</th>\n",
       "      <th>min_active_fairly</th>\n",
       "      <th>min_active_very</th>\n",
       "      <th>cal_activity</th>\n",
       "      <th>calculated_cal_activity</th>\n",
       "    </tr>\n",
       "    <tr>\n",
       "      <th>date</th>\n",
       "      <th></th>\n",
       "      <th></th>\n",
       "      <th></th>\n",
       "      <th></th>\n",
       "      <th></th>\n",
       "      <th></th>\n",
       "      <th></th>\n",
       "      <th></th>\n",
       "      <th></th>\n",
       "      <th></th>\n",
       "      <th></th>\n",
       "    </tr>\n",
       "  </thead>\n",
       "  <tbody>\n",
       "    <tr>\n",
       "      <th>2018-07-03</th>\n",
       "      <td>68</td>\n",
       "      <td>2144</td>\n",
       "      <td>149.823529</td>\n",
       "      <td>149.823529</td>\n",
       "      <td>149.823529</td>\n",
       "      <td>1440</td>\n",
       "      <td>7.235294</td>\n",
       "      <td>0.0</td>\n",
       "      <td>0.0</td>\n",
       "      <td>158.0</td>\n",
       "      <td>158.0</td>\n",
       "    </tr>\n",
       "    <tr>\n",
       "      <th>2018-07-04</th>\n",
       "      <td>69</td>\n",
       "      <td>2183</td>\n",
       "      <td>149.823529</td>\n",
       "      <td>149.823529</td>\n",
       "      <td>149.823529</td>\n",
       "      <td>1438</td>\n",
       "      <td>7.235294</td>\n",
       "      <td>0.0</td>\n",
       "      <td>0.0</td>\n",
       "      <td>42.0</td>\n",
       "      <td>197.0</td>\n",
       "    </tr>\n",
       "    <tr>\n",
       "      <th>2018-07-05</th>\n",
       "      <td>70</td>\n",
       "      <td>2153</td>\n",
       "      <td>149.823529</td>\n",
       "      <td>149.823529</td>\n",
       "      <td>149.823529</td>\n",
       "      <td>1439</td>\n",
       "      <td>7.235294</td>\n",
       "      <td>0.0</td>\n",
       "      <td>0.0</td>\n",
       "      <td>10.0</td>\n",
       "      <td>167.0</td>\n",
       "    </tr>\n",
       "    <tr>\n",
       "      <th>2018-07-06</th>\n",
       "      <td>71</td>\n",
       "      <td>2144</td>\n",
       "      <td>149.823529</td>\n",
       "      <td>149.823529</td>\n",
       "      <td>149.823529</td>\n",
       "      <td>1440</td>\n",
       "      <td>7.235294</td>\n",
       "      <td>0.0</td>\n",
       "      <td>0.0</td>\n",
       "      <td>158.0</td>\n",
       "      <td>158.0</td>\n",
       "    </tr>\n",
       "  </tbody>\n",
       "</table>\n",
       "</div>"
      ],
      "text/plain": [
       "            index  cal_burn       steps    distance      floors  min_sed  \\\n",
       "date                                                                       \n",
       "2018-07-03     68      2144  149.823529  149.823529  149.823529     1440   \n",
       "2018-07-04     69      2183  149.823529  149.823529  149.823529     1438   \n",
       "2018-07-05     70      2153  149.823529  149.823529  149.823529     1439   \n",
       "2018-07-06     71      2144  149.823529  149.823529  149.823529     1440   \n",
       "\n",
       "            min_active_light  min_active_fairly  min_active_very  \\\n",
       "date                                                               \n",
       "2018-07-03          7.235294                0.0              0.0   \n",
       "2018-07-04          7.235294                0.0              0.0   \n",
       "2018-07-05          7.235294                0.0              0.0   \n",
       "2018-07-06          7.235294                0.0              0.0   \n",
       "\n",
       "            cal_activity  calculated_cal_activity  \n",
       "date                                               \n",
       "2018-07-03         158.0                    158.0  \n",
       "2018-07-04          42.0                    197.0  \n",
       "2018-07-05          10.0                    167.0  \n",
       "2018-07-06         158.0                    158.0  "
      ]
     },
     "execution_count": 21,
     "metadata": {},
     "output_type": "execute_result"
    }
   ],
   "source": [
    "missing_subset_22"
   ]
  },
  {
   "cell_type": "code",
   "execution_count": 22,
   "metadata": {},
   "outputs": [],
   "source": [
    "#attach the missing_subset_21 and 22 back to train\n",
    "train.loc[\"2018-06-26\":\"2018-06-30\"] = missing_subset_21\n",
    "train.loc[\"2018-07-03\":\"2018-07-06\"] = missing_subset_22"
   ]
  },
  {
   "cell_type": "code",
   "execution_count": 23,
   "metadata": {},
   "outputs": [],
   "source": [
    "train.drop(columns=\"calculated_cal_activity\",inplace=True)"
   ]
  },
  {
   "cell_type": "code",
   "execution_count": 24,
   "metadata": {},
   "outputs": [],
   "source": [
    "train.drop(columns=\"index\",inplace=True)"
   ]
  },
  {
   "cell_type": "markdown",
   "metadata": {},
   "source": [
    "## III. Model"
   ]
  },
  {
   "cell_type": "markdown",
   "metadata": {},
   "source": [
    "1. Model `cal_activity`"
   ]
  },
  {
   "cell_type": "code",
   "execution_count": 50,
   "metadata": {},
   "outputs": [],
   "source": [
    "simple_ca = train.cal_activity.mean()"
   ]
  },
  {
   "cell_type": "code",
   "execution_count": 57,
   "metadata": {},
   "outputs": [],
   "source": [
    "moving_ca = train.cal_activity.rolling(7).mean().iloc[-1]"
   ]
  },
  {
   "cell_type": "markdown",
   "metadata": {},
   "source": [
    "---"
   ]
  },
  {
   "cell_type": "code",
   "execution_count": 139,
   "metadata": {},
   "outputs": [],
   "source": [
    "holt_ca = Holt(train.cal_activity).fit(smoothing_level=.5, smoothing_slope=.5, optimized=False)"
   ]
  },
  {
   "cell_type": "code",
   "execution_count": 140,
   "metadata": {},
   "outputs": [],
   "source": [
    "holt_ca_yhat = holt_ca.forecast(train.cal_activity.shape[0]) #series"
   ]
  },
  {
   "cell_type": "markdown",
   "metadata": {},
   "source": [
    "---"
   ]
  },
  {
   "cell_type": "code",
   "execution_count": 159,
   "metadata": {},
   "outputs": [],
   "source": [
    "holtes_ca = ExponentialSmoothing(train.cal_activity).fit(smoothing_level=.5, smoothing_slope=.8, optimized=False)"
   ]
  },
  {
   "cell_type": "code",
   "execution_count": 160,
   "metadata": {},
   "outputs": [],
   "source": [
    "holtes_ca_yhat = holtes_ca.forecast(train.cal_activity.shape[0]) #series"
   ]
  },
  {
   "cell_type": "markdown",
   "metadata": {},
   "source": [
    "---"
   ]
  },
  {
   "cell_type": "code",
   "execution_count": 161,
   "metadata": {},
   "outputs": [],
   "source": [
    "predictions = pd.DataFrame(train.cal_activity, index=train.index)"
   ]
  },
  {
   "cell_type": "code",
   "execution_count": 162,
   "metadata": {},
   "outputs": [],
   "source": [
    "predictions[\"simple\"] = simple_ca"
   ]
  },
  {
   "cell_type": "code",
   "execution_count": 163,
   "metadata": {},
   "outputs": [],
   "source": [
    "predictions[\"moving\"] = moving_ca"
   ]
  },
  {
   "cell_type": "code",
   "execution_count": 164,
   "metadata": {},
   "outputs": [],
   "source": [
    "predictions[\"holt_linear\"] = holt_ca_yhat.ravel()"
   ]
  },
  {
   "cell_type": "code",
   "execution_count": 165,
   "metadata": {},
   "outputs": [],
   "source": [
    "predictions[\"holt_es\"] = holtes_ca_yhat.ravel()"
   ]
  },
  {
   "cell_type": "code",
   "execution_count": 166,
   "metadata": {},
   "outputs": [
    {
     "data": {
      "text/html": [
       "<div>\n",
       "<style scoped>\n",
       "    .dataframe tbody tr th:only-of-type {\n",
       "        vertical-align: middle;\n",
       "    }\n",
       "\n",
       "    .dataframe tbody tr th {\n",
       "        vertical-align: top;\n",
       "    }\n",
       "\n",
       "    .dataframe thead th {\n",
       "        text-align: right;\n",
       "    }\n",
       "</style>\n",
       "<table border=\"1\" class=\"dataframe\">\n",
       "  <thead>\n",
       "    <tr style=\"text-align: right;\">\n",
       "      <th></th>\n",
       "      <th>cal_activity</th>\n",
       "      <th>simple</th>\n",
       "      <th>moving</th>\n",
       "      <th>holt_linear</th>\n",
       "      <th>holt_es</th>\n",
       "    </tr>\n",
       "    <tr>\n",
       "      <th>date</th>\n",
       "      <th></th>\n",
       "      <th></th>\n",
       "      <th></th>\n",
       "      <th></th>\n",
       "      <th></th>\n",
       "    </tr>\n",
       "  </thead>\n",
       "  <tbody>\n",
       "    <tr>\n",
       "      <th>2018-04-26</th>\n",
       "      <td>566.0</td>\n",
       "      <td>1286.210191</td>\n",
       "      <td>1116.0</td>\n",
       "      <td>1159.861500</td>\n",
       "      <td>1224.502983</td>\n",
       "    </tr>\n",
       "    <tr>\n",
       "      <th>2018-04-27</th>\n",
       "      <td>1752.0</td>\n",
       "      <td>1286.210191</td>\n",
       "      <td>1116.0</td>\n",
       "      <td>1143.042581</td>\n",
       "      <td>1224.502983</td>\n",
       "    </tr>\n",
       "    <tr>\n",
       "      <th>2018-04-28</th>\n",
       "      <td>1124.0</td>\n",
       "      <td>1286.210191</td>\n",
       "      <td>1116.0</td>\n",
       "      <td>1126.223663</td>\n",
       "      <td>1224.502983</td>\n",
       "    </tr>\n",
       "    <tr>\n",
       "      <th>2018-04-29</th>\n",
       "      <td>602.0</td>\n",
       "      <td>1286.210191</td>\n",
       "      <td>1116.0</td>\n",
       "      <td>1109.404744</td>\n",
       "      <td>1224.502983</td>\n",
       "    </tr>\n",
       "    <tr>\n",
       "      <th>2018-04-30</th>\n",
       "      <td>540.0</td>\n",
       "      <td>1286.210191</td>\n",
       "      <td>1116.0</td>\n",
       "      <td>1092.585826</td>\n",
       "      <td>1224.502983</td>\n",
       "    </tr>\n",
       "    <tr>\n",
       "      <th>2018-05-01</th>\n",
       "      <td>1068.0</td>\n",
       "      <td>1286.210191</td>\n",
       "      <td>1116.0</td>\n",
       "      <td>1075.766907</td>\n",
       "      <td>1224.502983</td>\n",
       "    </tr>\n",
       "    <tr>\n",
       "      <th>2018-05-02</th>\n",
       "      <td>419.0</td>\n",
       "      <td>1286.210191</td>\n",
       "      <td>1116.0</td>\n",
       "      <td>1058.947989</td>\n",
       "      <td>1224.502983</td>\n",
       "    </tr>\n",
       "    <tr>\n",
       "      <th>2018-05-03</th>\n",
       "      <td>1006.0</td>\n",
       "      <td>1286.210191</td>\n",
       "      <td>1116.0</td>\n",
       "      <td>1042.129070</td>\n",
       "      <td>1224.502983</td>\n",
       "    </tr>\n",
       "    <tr>\n",
       "      <th>2018-05-04</th>\n",
       "      <td>269.0</td>\n",
       "      <td>1286.210191</td>\n",
       "      <td>1116.0</td>\n",
       "      <td>1025.310152</td>\n",
       "      <td>1224.502983</td>\n",
       "    </tr>\n",
       "    <tr>\n",
       "      <th>2018-05-05</th>\n",
       "      <td>326.0</td>\n",
       "      <td>1286.210191</td>\n",
       "      <td>1116.0</td>\n",
       "      <td>1008.491233</td>\n",
       "      <td>1224.502983</td>\n",
       "    </tr>\n",
       "    <tr>\n",
       "      <th>2018-05-06</th>\n",
       "      <td>506.0</td>\n",
       "      <td>1286.210191</td>\n",
       "      <td>1116.0</td>\n",
       "      <td>991.672314</td>\n",
       "      <td>1224.502983</td>\n",
       "    </tr>\n",
       "    <tr>\n",
       "      <th>2018-05-07</th>\n",
       "      <td>283.0</td>\n",
       "      <td>1286.210191</td>\n",
       "      <td>1116.0</td>\n",
       "      <td>974.853396</td>\n",
       "      <td>1224.502983</td>\n",
       "    </tr>\n",
       "    <tr>\n",
       "      <th>2018-05-08</th>\n",
       "      <td>410.0</td>\n",
       "      <td>1286.210191</td>\n",
       "      <td>1116.0</td>\n",
       "      <td>958.034477</td>\n",
       "      <td>1224.502983</td>\n",
       "    </tr>\n",
       "    <tr>\n",
       "      <th>2018-05-09</th>\n",
       "      <td>8.0</td>\n",
       "      <td>1286.210191</td>\n",
       "      <td>1116.0</td>\n",
       "      <td>941.215559</td>\n",
       "      <td>1224.502983</td>\n",
       "    </tr>\n",
       "    <tr>\n",
       "      <th>2018-05-10</th>\n",
       "      <td>924.0</td>\n",
       "      <td>1286.210191</td>\n",
       "      <td>1116.0</td>\n",
       "      <td>924.396640</td>\n",
       "      <td>1224.502983</td>\n",
       "    </tr>\n",
       "    <tr>\n",
       "      <th>2018-05-11</th>\n",
       "      <td>727.0</td>\n",
       "      <td>1286.210191</td>\n",
       "      <td>1116.0</td>\n",
       "      <td>907.577722</td>\n",
       "      <td>1224.502983</td>\n",
       "    </tr>\n",
       "    <tr>\n",
       "      <th>2018-05-12</th>\n",
       "      <td>1113.0</td>\n",
       "      <td>1286.210191</td>\n",
       "      <td>1116.0</td>\n",
       "      <td>890.758803</td>\n",
       "      <td>1224.502983</td>\n",
       "    </tr>\n",
       "    <tr>\n",
       "      <th>2018-05-13</th>\n",
       "      <td>394.0</td>\n",
       "      <td>1286.210191</td>\n",
       "      <td>1116.0</td>\n",
       "      <td>873.939885</td>\n",
       "      <td>1224.502983</td>\n",
       "    </tr>\n",
       "    <tr>\n",
       "      <th>2018-05-14</th>\n",
       "      <td>794.0</td>\n",
       "      <td>1286.210191</td>\n",
       "      <td>1116.0</td>\n",
       "      <td>857.120966</td>\n",
       "      <td>1224.502983</td>\n",
       "    </tr>\n",
       "    <tr>\n",
       "      <th>2018-05-15</th>\n",
       "      <td>1011.0</td>\n",
       "      <td>1286.210191</td>\n",
       "      <td>1116.0</td>\n",
       "      <td>840.302048</td>\n",
       "      <td>1224.502983</td>\n",
       "    </tr>\n",
       "    <tr>\n",
       "      <th>2018-05-16</th>\n",
       "      <td>1396.0</td>\n",
       "      <td>1286.210191</td>\n",
       "      <td>1116.0</td>\n",
       "      <td>823.483129</td>\n",
       "      <td>1224.502983</td>\n",
       "    </tr>\n",
       "    <tr>\n",
       "      <th>2018-05-17</th>\n",
       "      <td>897.0</td>\n",
       "      <td>1286.210191</td>\n",
       "      <td>1116.0</td>\n",
       "      <td>806.664210</td>\n",
       "      <td>1224.502983</td>\n",
       "    </tr>\n",
       "    <tr>\n",
       "      <th>2018-05-18</th>\n",
       "      <td>2549.0</td>\n",
       "      <td>1286.210191</td>\n",
       "      <td>1116.0</td>\n",
       "      <td>789.845292</td>\n",
       "      <td>1224.502983</td>\n",
       "    </tr>\n",
       "    <tr>\n",
       "      <th>2018-05-19</th>\n",
       "      <td>2228.0</td>\n",
       "      <td>1286.210191</td>\n",
       "      <td>1116.0</td>\n",
       "      <td>773.026373</td>\n",
       "      <td>1224.502983</td>\n",
       "    </tr>\n",
       "    <tr>\n",
       "      <th>2018-05-20</th>\n",
       "      <td>978.0</td>\n",
       "      <td>1286.210191</td>\n",
       "      <td>1116.0</td>\n",
       "      <td>756.207455</td>\n",
       "      <td>1224.502983</td>\n",
       "    </tr>\n",
       "    <tr>\n",
       "      <th>2018-05-21</th>\n",
       "      <td>932.0</td>\n",
       "      <td>1286.210191</td>\n",
       "      <td>1116.0</td>\n",
       "      <td>739.388536</td>\n",
       "      <td>1224.502983</td>\n",
       "    </tr>\n",
       "    <tr>\n",
       "      <th>2018-05-22</th>\n",
       "      <td>1460.0</td>\n",
       "      <td>1286.210191</td>\n",
       "      <td>1116.0</td>\n",
       "      <td>722.569618</td>\n",
       "      <td>1224.502983</td>\n",
       "    </tr>\n",
       "    <tr>\n",
       "      <th>2018-05-23</th>\n",
       "      <td>1765.0</td>\n",
       "      <td>1286.210191</td>\n",
       "      <td>1116.0</td>\n",
       "      <td>705.750699</td>\n",
       "      <td>1224.502983</td>\n",
       "    </tr>\n",
       "    <tr>\n",
       "      <th>2018-05-24</th>\n",
       "      <td>723.0</td>\n",
       "      <td>1286.210191</td>\n",
       "      <td>1116.0</td>\n",
       "      <td>688.931781</td>\n",
       "      <td>1224.502983</td>\n",
       "    </tr>\n",
       "    <tr>\n",
       "      <th>2018-05-25</th>\n",
       "      <td>1127.0</td>\n",
       "      <td>1286.210191</td>\n",
       "      <td>1116.0</td>\n",
       "      <td>672.112862</td>\n",
       "      <td>1224.502983</td>\n",
       "    </tr>\n",
       "    <tr>\n",
       "      <th>...</th>\n",
       "      <td>...</td>\n",
       "      <td>...</td>\n",
       "      <td>...</td>\n",
       "      <td>...</td>\n",
       "      <td>...</td>\n",
       "    </tr>\n",
       "    <tr>\n",
       "      <th>2018-08-31</th>\n",
       "      <td>2640.0</td>\n",
       "      <td>1286.210191</td>\n",
       "      <td>1116.0</td>\n",
       "      <td>-976.141155</td>\n",
       "      <td>1224.502983</td>\n",
       "    </tr>\n",
       "    <tr>\n",
       "      <th>2018-09-01</th>\n",
       "      <td>852.0</td>\n",
       "      <td>1286.210191</td>\n",
       "      <td>1116.0</td>\n",
       "      <td>-992.960073</td>\n",
       "      <td>1224.502983</td>\n",
       "    </tr>\n",
       "    <tr>\n",
       "      <th>2018-09-02</th>\n",
       "      <td>811.0</td>\n",
       "      <td>1286.210191</td>\n",
       "      <td>1116.0</td>\n",
       "      <td>-1009.778992</td>\n",
       "      <td>1224.502983</td>\n",
       "    </tr>\n",
       "    <tr>\n",
       "      <th>2018-09-03</th>\n",
       "      <td>915.0</td>\n",
       "      <td>1286.210191</td>\n",
       "      <td>1116.0</td>\n",
       "      <td>-1026.597911</td>\n",
       "      <td>1224.502983</td>\n",
       "    </tr>\n",
       "    <tr>\n",
       "      <th>2018-09-04</th>\n",
       "      <td>1374.0</td>\n",
       "      <td>1286.210191</td>\n",
       "      <td>1116.0</td>\n",
       "      <td>-1043.416829</td>\n",
       "      <td>1224.502983</td>\n",
       "    </tr>\n",
       "    <tr>\n",
       "      <th>2018-09-05</th>\n",
       "      <td>1514.0</td>\n",
       "      <td>1286.210191</td>\n",
       "      <td>1116.0</td>\n",
       "      <td>-1060.235748</td>\n",
       "      <td>1224.502983</td>\n",
       "    </tr>\n",
       "    <tr>\n",
       "      <th>2018-09-06</th>\n",
       "      <td>983.0</td>\n",
       "      <td>1286.210191</td>\n",
       "      <td>1116.0</td>\n",
       "      <td>-1077.054666</td>\n",
       "      <td>1224.502983</td>\n",
       "    </tr>\n",
       "    <tr>\n",
       "      <th>2018-09-07</th>\n",
       "      <td>1922.0</td>\n",
       "      <td>1286.210191</td>\n",
       "      <td>1116.0</td>\n",
       "      <td>-1093.873585</td>\n",
       "      <td>1224.502983</td>\n",
       "    </tr>\n",
       "    <tr>\n",
       "      <th>2018-09-08</th>\n",
       "      <td>2230.0</td>\n",
       "      <td>1286.210191</td>\n",
       "      <td>1116.0</td>\n",
       "      <td>-1110.692503</td>\n",
       "      <td>1224.502983</td>\n",
       "    </tr>\n",
       "    <tr>\n",
       "      <th>2018-09-09</th>\n",
       "      <td>1872.0</td>\n",
       "      <td>1286.210191</td>\n",
       "      <td>1116.0</td>\n",
       "      <td>-1127.511422</td>\n",
       "      <td>1224.502983</td>\n",
       "    </tr>\n",
       "    <tr>\n",
       "      <th>2018-09-10</th>\n",
       "      <td>1002.0</td>\n",
       "      <td>1286.210191</td>\n",
       "      <td>1116.0</td>\n",
       "      <td>-1144.330340</td>\n",
       "      <td>1224.502983</td>\n",
       "    </tr>\n",
       "    <tr>\n",
       "      <th>2018-09-11</th>\n",
       "      <td>829.0</td>\n",
       "      <td>1286.210191</td>\n",
       "      <td>1116.0</td>\n",
       "      <td>-1161.149259</td>\n",
       "      <td>1224.502983</td>\n",
       "    </tr>\n",
       "    <tr>\n",
       "      <th>2018-09-12</th>\n",
       "      <td>1175.0</td>\n",
       "      <td>1286.210191</td>\n",
       "      <td>1116.0</td>\n",
       "      <td>-1177.968177</td>\n",
       "      <td>1224.502983</td>\n",
       "    </tr>\n",
       "    <tr>\n",
       "      <th>2018-09-13</th>\n",
       "      <td>1118.0</td>\n",
       "      <td>1286.210191</td>\n",
       "      <td>1116.0</td>\n",
       "      <td>-1194.787096</td>\n",
       "      <td>1224.502983</td>\n",
       "    </tr>\n",
       "    <tr>\n",
       "      <th>2018-09-14</th>\n",
       "      <td>1125.0</td>\n",
       "      <td>1286.210191</td>\n",
       "      <td>1116.0</td>\n",
       "      <td>-1211.606014</td>\n",
       "      <td>1224.502983</td>\n",
       "    </tr>\n",
       "    <tr>\n",
       "      <th>2018-09-15</th>\n",
       "      <td>1287.0</td>\n",
       "      <td>1286.210191</td>\n",
       "      <td>1116.0</td>\n",
       "      <td>-1228.424933</td>\n",
       "      <td>1224.502983</td>\n",
       "    </tr>\n",
       "    <tr>\n",
       "      <th>2018-09-16</th>\n",
       "      <td>1494.0</td>\n",
       "      <td>1286.210191</td>\n",
       "      <td>1116.0</td>\n",
       "      <td>-1245.243852</td>\n",
       "      <td>1224.502983</td>\n",
       "    </tr>\n",
       "    <tr>\n",
       "      <th>2018-09-17</th>\n",
       "      <td>985.0</td>\n",
       "      <td>1286.210191</td>\n",
       "      <td>1116.0</td>\n",
       "      <td>-1262.062770</td>\n",
       "      <td>1224.502983</td>\n",
       "    </tr>\n",
       "    <tr>\n",
       "      <th>2018-09-18</th>\n",
       "      <td>1074.0</td>\n",
       "      <td>1286.210191</td>\n",
       "      <td>1116.0</td>\n",
       "      <td>-1278.881689</td>\n",
       "      <td>1224.502983</td>\n",
       "    </tr>\n",
       "    <tr>\n",
       "      <th>2018-09-19</th>\n",
       "      <td>1195.0</td>\n",
       "      <td>1286.210191</td>\n",
       "      <td>1116.0</td>\n",
       "      <td>-1295.700607</td>\n",
       "      <td>1224.502983</td>\n",
       "    </tr>\n",
       "    <tr>\n",
       "      <th>2018-09-20</th>\n",
       "      <td>1565.0</td>\n",
       "      <td>1286.210191</td>\n",
       "      <td>1116.0</td>\n",
       "      <td>-1312.519526</td>\n",
       "      <td>1224.502983</td>\n",
       "    </tr>\n",
       "    <tr>\n",
       "      <th>2018-09-21</th>\n",
       "      <td>1172.0</td>\n",
       "      <td>1286.210191</td>\n",
       "      <td>1116.0</td>\n",
       "      <td>-1329.338444</td>\n",
       "      <td>1224.502983</td>\n",
       "    </tr>\n",
       "    <tr>\n",
       "      <th>2018-09-22</th>\n",
       "      <td>3596.0</td>\n",
       "      <td>1286.210191</td>\n",
       "      <td>1116.0</td>\n",
       "      <td>-1346.157363</td>\n",
       "      <td>1224.502983</td>\n",
       "    </tr>\n",
       "    <tr>\n",
       "      <th>2018-09-23</th>\n",
       "      <td>745.0</td>\n",
       "      <td>1286.210191</td>\n",
       "      <td>1116.0</td>\n",
       "      <td>-1362.976281</td>\n",
       "      <td>1224.502983</td>\n",
       "    </tr>\n",
       "    <tr>\n",
       "      <th>2018-09-24</th>\n",
       "      <td>822.0</td>\n",
       "      <td>1286.210191</td>\n",
       "      <td>1116.0</td>\n",
       "      <td>-1379.795200</td>\n",
       "      <td>1224.502983</td>\n",
       "    </tr>\n",
       "    <tr>\n",
       "      <th>2018-09-25</th>\n",
       "      <td>853.0</td>\n",
       "      <td>1286.210191</td>\n",
       "      <td>1116.0</td>\n",
       "      <td>-1396.614118</td>\n",
       "      <td>1224.502983</td>\n",
       "    </tr>\n",
       "    <tr>\n",
       "      <th>2018-09-26</th>\n",
       "      <td>1677.0</td>\n",
       "      <td>1286.210191</td>\n",
       "      <td>1116.0</td>\n",
       "      <td>-1413.433037</td>\n",
       "      <td>1224.502983</td>\n",
       "    </tr>\n",
       "    <tr>\n",
       "      <th>2018-09-27</th>\n",
       "      <td>1427.0</td>\n",
       "      <td>1286.210191</td>\n",
       "      <td>1116.0</td>\n",
       "      <td>-1430.251956</td>\n",
       "      <td>1224.502983</td>\n",
       "    </tr>\n",
       "    <tr>\n",
       "      <th>2018-09-28</th>\n",
       "      <td>1068.0</td>\n",
       "      <td>1286.210191</td>\n",
       "      <td>1116.0</td>\n",
       "      <td>-1447.070874</td>\n",
       "      <td>1224.502983</td>\n",
       "    </tr>\n",
       "    <tr>\n",
       "      <th>2018-09-29</th>\n",
       "      <td>1220.0</td>\n",
       "      <td>1286.210191</td>\n",
       "      <td>1116.0</td>\n",
       "      <td>-1463.889793</td>\n",
       "      <td>1224.502983</td>\n",
       "    </tr>\n",
       "  </tbody>\n",
       "</table>\n",
       "<p>157 rows × 5 columns</p>\n",
       "</div>"
      ],
      "text/plain": [
       "            cal_activity       simple  moving  holt_linear      holt_es\n",
       "date                                                                   \n",
       "2018-04-26         566.0  1286.210191  1116.0  1159.861500  1224.502983\n",
       "2018-04-27        1752.0  1286.210191  1116.0  1143.042581  1224.502983\n",
       "2018-04-28        1124.0  1286.210191  1116.0  1126.223663  1224.502983\n",
       "2018-04-29         602.0  1286.210191  1116.0  1109.404744  1224.502983\n",
       "2018-04-30         540.0  1286.210191  1116.0  1092.585826  1224.502983\n",
       "2018-05-01        1068.0  1286.210191  1116.0  1075.766907  1224.502983\n",
       "2018-05-02         419.0  1286.210191  1116.0  1058.947989  1224.502983\n",
       "2018-05-03        1006.0  1286.210191  1116.0  1042.129070  1224.502983\n",
       "2018-05-04         269.0  1286.210191  1116.0  1025.310152  1224.502983\n",
       "2018-05-05         326.0  1286.210191  1116.0  1008.491233  1224.502983\n",
       "2018-05-06         506.0  1286.210191  1116.0   991.672314  1224.502983\n",
       "2018-05-07         283.0  1286.210191  1116.0   974.853396  1224.502983\n",
       "2018-05-08         410.0  1286.210191  1116.0   958.034477  1224.502983\n",
       "2018-05-09           8.0  1286.210191  1116.0   941.215559  1224.502983\n",
       "2018-05-10         924.0  1286.210191  1116.0   924.396640  1224.502983\n",
       "2018-05-11         727.0  1286.210191  1116.0   907.577722  1224.502983\n",
       "2018-05-12        1113.0  1286.210191  1116.0   890.758803  1224.502983\n",
       "2018-05-13         394.0  1286.210191  1116.0   873.939885  1224.502983\n",
       "2018-05-14         794.0  1286.210191  1116.0   857.120966  1224.502983\n",
       "2018-05-15        1011.0  1286.210191  1116.0   840.302048  1224.502983\n",
       "2018-05-16        1396.0  1286.210191  1116.0   823.483129  1224.502983\n",
       "2018-05-17         897.0  1286.210191  1116.0   806.664210  1224.502983\n",
       "2018-05-18        2549.0  1286.210191  1116.0   789.845292  1224.502983\n",
       "2018-05-19        2228.0  1286.210191  1116.0   773.026373  1224.502983\n",
       "2018-05-20         978.0  1286.210191  1116.0   756.207455  1224.502983\n",
       "2018-05-21         932.0  1286.210191  1116.0   739.388536  1224.502983\n",
       "2018-05-22        1460.0  1286.210191  1116.0   722.569618  1224.502983\n",
       "2018-05-23        1765.0  1286.210191  1116.0   705.750699  1224.502983\n",
       "2018-05-24         723.0  1286.210191  1116.0   688.931781  1224.502983\n",
       "2018-05-25        1127.0  1286.210191  1116.0   672.112862  1224.502983\n",
       "...                  ...          ...     ...          ...          ...\n",
       "2018-08-31        2640.0  1286.210191  1116.0  -976.141155  1224.502983\n",
       "2018-09-01         852.0  1286.210191  1116.0  -992.960073  1224.502983\n",
       "2018-09-02         811.0  1286.210191  1116.0 -1009.778992  1224.502983\n",
       "2018-09-03         915.0  1286.210191  1116.0 -1026.597911  1224.502983\n",
       "2018-09-04        1374.0  1286.210191  1116.0 -1043.416829  1224.502983\n",
       "2018-09-05        1514.0  1286.210191  1116.0 -1060.235748  1224.502983\n",
       "2018-09-06         983.0  1286.210191  1116.0 -1077.054666  1224.502983\n",
       "2018-09-07        1922.0  1286.210191  1116.0 -1093.873585  1224.502983\n",
       "2018-09-08        2230.0  1286.210191  1116.0 -1110.692503  1224.502983\n",
       "2018-09-09        1872.0  1286.210191  1116.0 -1127.511422  1224.502983\n",
       "2018-09-10        1002.0  1286.210191  1116.0 -1144.330340  1224.502983\n",
       "2018-09-11         829.0  1286.210191  1116.0 -1161.149259  1224.502983\n",
       "2018-09-12        1175.0  1286.210191  1116.0 -1177.968177  1224.502983\n",
       "2018-09-13        1118.0  1286.210191  1116.0 -1194.787096  1224.502983\n",
       "2018-09-14        1125.0  1286.210191  1116.0 -1211.606014  1224.502983\n",
       "2018-09-15        1287.0  1286.210191  1116.0 -1228.424933  1224.502983\n",
       "2018-09-16        1494.0  1286.210191  1116.0 -1245.243852  1224.502983\n",
       "2018-09-17         985.0  1286.210191  1116.0 -1262.062770  1224.502983\n",
       "2018-09-18        1074.0  1286.210191  1116.0 -1278.881689  1224.502983\n",
       "2018-09-19        1195.0  1286.210191  1116.0 -1295.700607  1224.502983\n",
       "2018-09-20        1565.0  1286.210191  1116.0 -1312.519526  1224.502983\n",
       "2018-09-21        1172.0  1286.210191  1116.0 -1329.338444  1224.502983\n",
       "2018-09-22        3596.0  1286.210191  1116.0 -1346.157363  1224.502983\n",
       "2018-09-23         745.0  1286.210191  1116.0 -1362.976281  1224.502983\n",
       "2018-09-24         822.0  1286.210191  1116.0 -1379.795200  1224.502983\n",
       "2018-09-25         853.0  1286.210191  1116.0 -1396.614118  1224.502983\n",
       "2018-09-26        1677.0  1286.210191  1116.0 -1413.433037  1224.502983\n",
       "2018-09-27        1427.0  1286.210191  1116.0 -1430.251956  1224.502983\n",
       "2018-09-28        1068.0  1286.210191  1116.0 -1447.070874  1224.502983\n",
       "2018-09-29        1220.0  1286.210191  1116.0 -1463.889793  1224.502983\n",
       "\n",
       "[157 rows x 5 columns]"
      ]
     },
     "execution_count": 166,
     "metadata": {},
     "output_type": "execute_result"
    }
   ],
   "source": [
    "predictions"
   ]
  },
  {
   "cell_type": "code",
   "execution_count": null,
   "metadata": {},
   "outputs": [],
   "source": []
  },
  {
   "cell_type": "code",
   "execution_count": null,
   "metadata": {},
   "outputs": [],
   "source": [
    "for var in target_vars:\n",
    "        from statsmodels.tsa.holtwinters import ExponentialSmoothing\n",
    "        model = ExponentialSmoothing(train[var], trend= 'additive').fit(smoothing_level=.3, smoothing_slope=.1, optimized=False)\n",
    "        yhat[var] = pd.DataFrame(model.forecast(test[var].shape[0]), columns=[var])"
   ]
  },
  {
   "cell_type": "code",
   "execution_count": 49,
   "metadata": {},
   "outputs": [
    {
     "ename": "TypeError",
     "evalue": "evaluate() got an unexpected keyword argument 'target_var'",
     "output_type": "error",
     "traceback": [
      "\u001b[0;31m---------------------------------------------------------------------------\u001b[0m",
      "\u001b[0;31mTypeError\u001b[0m                                 Traceback (most recent call last)",
      "\u001b[0;32m<ipython-input-49-391b4a6795ac>\u001b[0m in \u001b[0;36m<module>\u001b[0;34m\u001b[0m\n\u001b[1;32m      3\u001b[0m \u001b[0;32mfor\u001b[0m \u001b[0mvar\u001b[0m \u001b[0;32min\u001b[0m \u001b[0mtarget_vars\u001b[0m\u001b[0;34m:\u001b[0m\u001b[0;34m\u001b[0m\u001b[0;34m\u001b[0m\u001b[0m\n\u001b[1;32m      4\u001b[0m     \u001b[0myhat\u001b[0m\u001b[0;34m[\u001b[0m\u001b[0mvar\u001b[0m\u001b[0;34m]\u001b[0m \u001b[0;34m=\u001b[0m \u001b[0mtrain\u001b[0m\u001b[0;34m[\u001b[0m\u001b[0mvar\u001b[0m\u001b[0;34m]\u001b[0m\u001b[0;34m.\u001b[0m\u001b[0mmean\u001b[0m\u001b[0;34m(\u001b[0m\u001b[0;34m)\u001b[0m\u001b[0;34m\u001b[0m\u001b[0;34m\u001b[0m\u001b[0m\n\u001b[0;32m----> 5\u001b[0;31m     \u001b[0meval_df\u001b[0m \u001b[0;34m=\u001b[0m \u001b[0mappend_eval_df\u001b[0m\u001b[0;34m(\u001b[0m\u001b[0;34m'simple_avg'\u001b[0m\u001b[0;34m,\u001b[0m \u001b[0mtarget_vars\u001b[0m\u001b[0;34m,\u001b[0m \u001b[0mtrain\u001b[0m \u001b[0;34m=\u001b[0m \u001b[0mtrain\u001b[0m\u001b[0;34m,\u001b[0m \u001b[0mtest\u001b[0m \u001b[0;34m=\u001b[0m \u001b[0mtest\u001b[0m\u001b[0;34m)\u001b[0m\u001b[0;34m\u001b[0m\u001b[0;34m\u001b[0m\u001b[0m\n\u001b[0m",
      "\u001b[0;32m<ipython-input-44-f961fe622cd4>\u001b[0m in \u001b[0;36mappend_eval_df\u001b[0;34m(model_type, target_vars, train, test)\u001b[0m\n\u001b[1;32m      9\u001b[0m                                                                              output=False)[1]]],\n\u001b[1;32m     10\u001b[0m                                            columns=['model_type', 'target_var', 'metric', 'value']) \n\u001b[0;32m---> 11\u001b[0;31m                               for i in target_vars], ignore_index=True)\n\u001b[0m\u001b[1;32m     12\u001b[0m     \u001b[0;32mreturn\u001b[0m \u001b[0meval_df\u001b[0m\u001b[0;34m.\u001b[0m\u001b[0mappend\u001b[0m\u001b[0;34m(\u001b[0m\u001b[0mtemp_eval_df\u001b[0m\u001b[0;34m,\u001b[0m \u001b[0mignore_index\u001b[0m\u001b[0;34m=\u001b[0m\u001b[0;32mTrue\u001b[0m\u001b[0;34m)\u001b[0m\u001b[0;34m\u001b[0m\u001b[0;34m\u001b[0m\u001b[0m\n",
      "\u001b[0;32m<ipython-input-44-f961fe622cd4>\u001b[0m in \u001b[0;36m<listcomp>\u001b[0;34m(.0)\u001b[0m\n\u001b[1;32m      9\u001b[0m                                                                              output=False)[1]]],\n\u001b[1;32m     10\u001b[0m                                            columns=['model_type', 'target_var', 'metric', 'value']) \n\u001b[0;32m---> 11\u001b[0;31m                               for i in target_vars], ignore_index=True)\n\u001b[0m\u001b[1;32m     12\u001b[0m     \u001b[0;32mreturn\u001b[0m \u001b[0meval_df\u001b[0m\u001b[0;34m.\u001b[0m\u001b[0mappend\u001b[0m\u001b[0;34m(\u001b[0m\u001b[0mtemp_eval_df\u001b[0m\u001b[0;34m,\u001b[0m \u001b[0mignore_index\u001b[0m\u001b[0;34m=\u001b[0m\u001b[0;32mTrue\u001b[0m\u001b[0;34m)\u001b[0m\u001b[0;34m\u001b[0m\u001b[0;34m\u001b[0m\u001b[0m\n",
      "\u001b[0;31mTypeError\u001b[0m: evaluate() got an unexpected keyword argument 'target_var'"
     ]
    }
   ],
   "source": [
    "yhat = pd.DataFrame(test[target_vars])\n",
    "\n",
    "for var in target_vars:\n",
    "    yhat[var] = train[var].mean()\n",
    "#     eval_df = append_eval_df('simple_avg', target_vars, train = train, test = test)"
   ]
  },
  {
   "cell_type": "code",
   "execution_count": 46,
   "metadata": {},
   "outputs": [],
   "source": [
    "def simple_avg():\n",
    "    yhat = pd.DataFrame(test[target_vars])\n",
    "    for var in target_vars:\n",
    "        yhat[var] = train[var].mean()\n",
    "    eval_df = append_eval_df('simple_avg', target_vars, train = train, test = test)\n",
    "    return eval_df"
   ]
  },
  {
   "cell_type": "code",
   "execution_count": 47,
   "metadata": {},
   "outputs": [
    {
     "ename": "TypeError",
     "evalue": "evaluate() got an unexpected keyword argument 'target_var'",
     "output_type": "error",
     "traceback": [
      "\u001b[0;31m---------------------------------------------------------------------------\u001b[0m",
      "\u001b[0;31mTypeError\u001b[0m                                 Traceback (most recent call last)",
      "\u001b[0;32m<ipython-input-47-a4850734f8ce>\u001b[0m in \u001b[0;36m<module>\u001b[0;34m\u001b[0m\n\u001b[0;32m----> 1\u001b[0;31m \u001b[0msimple_avg\u001b[0m\u001b[0;34m(\u001b[0m\u001b[0;34m)\u001b[0m\u001b[0;34m\u001b[0m\u001b[0;34m\u001b[0m\u001b[0m\n\u001b[0m",
      "\u001b[0;32m<ipython-input-46-088d1451a446>\u001b[0m in \u001b[0;36msimple_avg\u001b[0;34m()\u001b[0m\n\u001b[1;32m      3\u001b[0m     \u001b[0;32mfor\u001b[0m \u001b[0mvar\u001b[0m \u001b[0;32min\u001b[0m \u001b[0mtarget_vars\u001b[0m\u001b[0;34m:\u001b[0m\u001b[0;34m\u001b[0m\u001b[0;34m\u001b[0m\u001b[0m\n\u001b[1;32m      4\u001b[0m         \u001b[0myhat\u001b[0m\u001b[0;34m[\u001b[0m\u001b[0mvar\u001b[0m\u001b[0;34m]\u001b[0m \u001b[0;34m=\u001b[0m \u001b[0mtrain\u001b[0m\u001b[0;34m[\u001b[0m\u001b[0mvar\u001b[0m\u001b[0;34m]\u001b[0m\u001b[0;34m.\u001b[0m\u001b[0mmean\u001b[0m\u001b[0;34m(\u001b[0m\u001b[0;34m)\u001b[0m\u001b[0;34m\u001b[0m\u001b[0;34m\u001b[0m\u001b[0m\n\u001b[0;32m----> 5\u001b[0;31m     \u001b[0meval_df\u001b[0m \u001b[0;34m=\u001b[0m \u001b[0mappend_eval_df\u001b[0m\u001b[0;34m(\u001b[0m\u001b[0;34m'simple_avg'\u001b[0m\u001b[0;34m,\u001b[0m \u001b[0mtarget_vars\u001b[0m\u001b[0;34m,\u001b[0m \u001b[0mtrain\u001b[0m \u001b[0;34m=\u001b[0m \u001b[0mtrain\u001b[0m\u001b[0;34m,\u001b[0m \u001b[0mtest\u001b[0m \u001b[0;34m=\u001b[0m \u001b[0mtest\u001b[0m\u001b[0;34m)\u001b[0m\u001b[0;34m\u001b[0m\u001b[0;34m\u001b[0m\u001b[0m\n\u001b[0m\u001b[1;32m      6\u001b[0m     \u001b[0;32mreturn\u001b[0m \u001b[0meval_df\u001b[0m\u001b[0;34m\u001b[0m\u001b[0;34m\u001b[0m\u001b[0m\n",
      "\u001b[0;32m<ipython-input-44-f961fe622cd4>\u001b[0m in \u001b[0;36mappend_eval_df\u001b[0;34m(model_type, target_vars, train, test)\u001b[0m\n\u001b[1;32m      9\u001b[0m                                                                              output=False)[1]]],\n\u001b[1;32m     10\u001b[0m                                            columns=['model_type', 'target_var', 'metric', 'value']) \n\u001b[0;32m---> 11\u001b[0;31m                               for i in target_vars], ignore_index=True)\n\u001b[0m\u001b[1;32m     12\u001b[0m     \u001b[0;32mreturn\u001b[0m \u001b[0meval_df\u001b[0m\u001b[0;34m.\u001b[0m\u001b[0mappend\u001b[0m\u001b[0;34m(\u001b[0m\u001b[0mtemp_eval_df\u001b[0m\u001b[0;34m,\u001b[0m \u001b[0mignore_index\u001b[0m\u001b[0;34m=\u001b[0m\u001b[0;32mTrue\u001b[0m\u001b[0;34m)\u001b[0m\u001b[0;34m\u001b[0m\u001b[0;34m\u001b[0m\u001b[0m\n",
      "\u001b[0;32m<ipython-input-44-f961fe622cd4>\u001b[0m in \u001b[0;36m<listcomp>\u001b[0;34m(.0)\u001b[0m\n\u001b[1;32m      9\u001b[0m                                                                              output=False)[1]]],\n\u001b[1;32m     10\u001b[0m                                            columns=['model_type', 'target_var', 'metric', 'value']) \n\u001b[0;32m---> 11\u001b[0;31m                               for i in target_vars], ignore_index=True)\n\u001b[0m\u001b[1;32m     12\u001b[0m     \u001b[0;32mreturn\u001b[0m \u001b[0meval_df\u001b[0m\u001b[0;34m.\u001b[0m\u001b[0mappend\u001b[0m\u001b[0;34m(\u001b[0m\u001b[0mtemp_eval_df\u001b[0m\u001b[0;34m,\u001b[0m \u001b[0mignore_index\u001b[0m\u001b[0;34m=\u001b[0m\u001b[0;32mTrue\u001b[0m\u001b[0;34m)\u001b[0m\u001b[0;34m\u001b[0m\u001b[0;34m\u001b[0m\u001b[0m\n",
      "\u001b[0;31mTypeError\u001b[0m: evaluate() got an unexpected keyword argument 'target_var'"
     ]
    }
   ],
   "source": [
    "simple_avg()"
   ]
  },
  {
   "cell_type": "code",
   "execution_count": 40,
   "metadata": {},
   "outputs": [
    {
     "data": {
      "text/html": [
       "<div>\n",
       "<style scoped>\n",
       "    .dataframe tbody tr th:only-of-type {\n",
       "        vertical-align: middle;\n",
       "    }\n",
       "\n",
       "    .dataframe tbody tr th {\n",
       "        vertical-align: top;\n",
       "    }\n",
       "\n",
       "    .dataframe thead th {\n",
       "        text-align: right;\n",
       "    }\n",
       "</style>\n",
       "<table border=\"1\" class=\"dataframe\">\n",
       "  <thead>\n",
       "    <tr style=\"text-align: right;\">\n",
       "      <th></th>\n",
       "      <th>model_type</th>\n",
       "      <th>target_var</th>\n",
       "      <th>metric</th>\n",
       "      <th>value</th>\n",
       "    </tr>\n",
       "  </thead>\n",
       "  <tbody>\n",
       "  </tbody>\n",
       "</table>\n",
       "</div>"
      ],
      "text/plain": [
       "Empty DataFrame\n",
       "Columns: [model_type, target_var, metric, value]\n",
       "Index: []"
      ]
     },
     "execution_count": 40,
     "metadata": {},
     "output_type": "execute_result"
    }
   ],
   "source": [
    "eval_df = pd.DataFrame(columns=['model_type', 'target_var', 'metric', 'value'])\n",
    "eval_df"
   ]
  },
  {
   "cell_type": "code",
   "execution_count": 36,
   "metadata": {},
   "outputs": [],
   "source": [
    "def evaluate(y, df, output=True):\n",
    "    mse = metrics.mean_squared_error(test[target_vars], yhat[target_vars])\n",
    "    rmse = math.sqrt(mse)\n",
    "\n",
    "    if output:\n",
    "        print('MSE:  {}'.format(mse))\n",
    "        print('RMSE: {}'.format(rmse))\n",
    "    else:\n",
    "        return mse, rmse"
   ]
  },
  {
   "cell_type": "code",
   "execution_count": 37,
   "metadata": {},
   "outputs": [
    {
     "ename": "NameError",
     "evalue": "name 'yhat' is not defined",
     "output_type": "error",
     "traceback": [
      "\u001b[0;31m---------------------------------------------------------------------------\u001b[0m",
      "\u001b[0;31mNameError\u001b[0m                                 Traceback (most recent call last)",
      "\u001b[0;32m<ipython-input-37-53f38155522a>\u001b[0m in \u001b[0;36m<module>\u001b[0;34m\u001b[0m\n\u001b[0;32m----> 1\u001b[0;31m \u001b[0mevaluate\u001b[0m\u001b[0;34m(\u001b[0m\u001b[0mtarget_vars\u001b[0m\u001b[0;34m,\u001b[0m\u001b[0mtrain\u001b[0m\u001b[0;34m,\u001b[0m\u001b[0mtest\u001b[0m\u001b[0;34m)\u001b[0m\u001b[0;34m\u001b[0m\u001b[0;34m\u001b[0m\u001b[0m\n\u001b[0m",
      "\u001b[0;32m<ipython-input-36-88f1b0e49826>\u001b[0m in \u001b[0;36mevaluate\u001b[0;34m(target_vars, train, test, output)\u001b[0m\n\u001b[1;32m      1\u001b[0m \u001b[0;32mdef\u001b[0m \u001b[0mevaluate\u001b[0m\u001b[0;34m(\u001b[0m\u001b[0mtarget_vars\u001b[0m\u001b[0;34m,\u001b[0m \u001b[0mtrain\u001b[0m\u001b[0;34m,\u001b[0m \u001b[0mtest\u001b[0m\u001b[0;34m,\u001b[0m \u001b[0moutput\u001b[0m\u001b[0;34m=\u001b[0m\u001b[0;32mTrue\u001b[0m\u001b[0;34m)\u001b[0m\u001b[0;34m:\u001b[0m\u001b[0;34m\u001b[0m\u001b[0;34m\u001b[0m\u001b[0m\n\u001b[0;32m----> 2\u001b[0;31m     \u001b[0mmse\u001b[0m \u001b[0;34m=\u001b[0m \u001b[0mmetrics\u001b[0m\u001b[0;34m.\u001b[0m\u001b[0mmean_squared_error\u001b[0m\u001b[0;34m(\u001b[0m\u001b[0mtest\u001b[0m\u001b[0;34m[\u001b[0m\u001b[0mtarget_vars\u001b[0m\u001b[0;34m]\u001b[0m\u001b[0;34m,\u001b[0m \u001b[0myhat\u001b[0m\u001b[0;34m[\u001b[0m\u001b[0mtarget_vars\u001b[0m\u001b[0;34m]\u001b[0m\u001b[0;34m)\u001b[0m\u001b[0;34m\u001b[0m\u001b[0;34m\u001b[0m\u001b[0m\n\u001b[0m\u001b[1;32m      3\u001b[0m     \u001b[0mrmse\u001b[0m \u001b[0;34m=\u001b[0m \u001b[0mmath\u001b[0m\u001b[0;34m.\u001b[0m\u001b[0msqrt\u001b[0m\u001b[0;34m(\u001b[0m\u001b[0mmse\u001b[0m\u001b[0;34m)\u001b[0m\u001b[0;34m\u001b[0m\u001b[0;34m\u001b[0m\u001b[0m\n\u001b[1;32m      4\u001b[0m \u001b[0;34m\u001b[0m\u001b[0m\n\u001b[1;32m      5\u001b[0m     \u001b[0;32mif\u001b[0m \u001b[0moutput\u001b[0m\u001b[0;34m:\u001b[0m\u001b[0;34m\u001b[0m\u001b[0;34m\u001b[0m\u001b[0m\n",
      "\u001b[0;31mNameError\u001b[0m: name 'yhat' is not defined"
     ]
    }
   ],
   "source": [
    "evaluate(target_vars,train,test)"
   ]
  },
  {
   "cell_type": "code",
   "execution_count": 44,
   "metadata": {},
   "outputs": [],
   "source": [
    "def append_eval_df(model_type, target_vars, train = train, test = test):\n",
    "    temp_eval_df = pd.concat([pd.DataFrame([[model_type, i, 'mse', evaluate(target_var = i, \n",
    "                                                                            train = train, \n",
    "                                                                            test = test, \n",
    "                                                                            output=False)[0]],\n",
    "                                            [model_type, i, 'rmse', evaluate(target_var = i, \n",
    "                                                                             train = train, \n",
    "                                                                             test = test, \n",
    "                                                                             output=False)[1]]],\n",
    "                                           columns=['model_type', 'target_var', 'metric', 'value']) \n",
    "                              for i in target_vars], ignore_index=True)\n",
    "    return eval_df.append(temp_eval_df, ignore_index=True)"
   ]
  },
  {
   "cell_type": "code",
   "execution_count": 45,
   "metadata": {},
   "outputs": [],
   "source": [
    "def last_observed():\n",
    "    yhat = pd.DataFrame(test[target_vars])\n",
    "    for var in target_vars:\n",
    "        yhat[var] = int(train[var][-1:])\n",
    "    eval_df = append_eval_df('last_observed', target_vars, train = train, test = test)\n",
    "    return eval_df"
   ]
  },
  {
   "cell_type": "code",
   "execution_count": 30,
   "metadata": {},
   "outputs": [],
   "source": [
    "def plot_and_eval(target_vars, train = train, test = test,metric_fmt = '{:.2f}', linewidth = 4):\n",
    "    if type(target_vars) is not list:\n",
    "        target_vars = [target_vars]\n",
    "\n",
    "    plt.figure(figsize=(16, 8))\n",
    "    plt.plot(train[target_vars],label='Train', linewidth=1)\n",
    "    #plt.plot(test[target_vars], label='Test', linewidth=1)\n",
    "\n",
    "    for var in target_vars:\n",
    "        mse, rmse = evaluate(target_var = var, train = train, test = test, output=False)\n",
    "        plt.plot(yhat[var], linewidth=linewidth)\n",
    "        print(f'{var} -- MSE: {metric_fmt} RMSE: {metric_fmt}'.format(mse, rmse))\n",
    "    \n",
    "    plt.show()"
   ]
  },
  {
   "cell_type": "code",
   "execution_count": 32,
   "metadata": {},
   "outputs": [
    {
     "ename": "NameError",
     "evalue": "name 'yhat' is not defined",
     "output_type": "error",
     "traceback": [
      "\u001b[0;31m---------------------------------------------------------------------------\u001b[0m",
      "\u001b[0;31mNameError\u001b[0m                                 Traceback (most recent call last)",
      "\u001b[0;32m<ipython-input-32-125069f046f9>\u001b[0m in \u001b[0;36m<module>\u001b[0;34m\u001b[0m\n\u001b[0;32m----> 1\u001b[0;31m \u001b[0mlast_observed\u001b[0m\u001b[0;34m(\u001b[0m\u001b[0;34m)\u001b[0m\u001b[0;34m\u001b[0m\u001b[0;34m\u001b[0m\u001b[0m\n\u001b[0m",
      "\u001b[0;32m<ipython-input-31-89c5d14876a0>\u001b[0m in \u001b[0;36mlast_observed\u001b[0;34m()\u001b[0m\n\u001b[1;32m      3\u001b[0m     \u001b[0;32mfor\u001b[0m \u001b[0mvar\u001b[0m \u001b[0;32min\u001b[0m \u001b[0mtarget_vars\u001b[0m\u001b[0;34m:\u001b[0m\u001b[0;34m\u001b[0m\u001b[0;34m\u001b[0m\u001b[0m\n\u001b[1;32m      4\u001b[0m         \u001b[0myhat\u001b[0m\u001b[0;34m[\u001b[0m\u001b[0mvar\u001b[0m\u001b[0;34m]\u001b[0m \u001b[0;34m=\u001b[0m \u001b[0mint\u001b[0m\u001b[0;34m(\u001b[0m\u001b[0mtrain\u001b[0m\u001b[0;34m[\u001b[0m\u001b[0mvar\u001b[0m\u001b[0;34m]\u001b[0m\u001b[0;34m[\u001b[0m\u001b[0;34m-\u001b[0m\u001b[0;36m1\u001b[0m\u001b[0;34m:\u001b[0m\u001b[0;34m]\u001b[0m\u001b[0;34m)\u001b[0m\u001b[0;34m\u001b[0m\u001b[0;34m\u001b[0m\u001b[0m\n\u001b[0;32m----> 5\u001b[0;31m     \u001b[0meval_df\u001b[0m \u001b[0;34m=\u001b[0m \u001b[0mappend_eval_df\u001b[0m\u001b[0;34m(\u001b[0m\u001b[0;34m'last_observed'\u001b[0m\u001b[0;34m,\u001b[0m \u001b[0mtarget_vars\u001b[0m\u001b[0;34m,\u001b[0m \u001b[0mtrain\u001b[0m \u001b[0;34m=\u001b[0m \u001b[0mtrain\u001b[0m\u001b[0;34m,\u001b[0m \u001b[0mtest\u001b[0m \u001b[0;34m=\u001b[0m \u001b[0mtest\u001b[0m\u001b[0;34m)\u001b[0m\u001b[0;34m\u001b[0m\u001b[0;34m\u001b[0m\u001b[0m\n\u001b[0m\u001b[1;32m      6\u001b[0m     \u001b[0;32mreturn\u001b[0m \u001b[0meval_df\u001b[0m\u001b[0;34m\u001b[0m\u001b[0;34m\u001b[0m\u001b[0m\n",
      "\u001b[0;32m<ipython-input-29-f961fe622cd4>\u001b[0m in \u001b[0;36mappend_eval_df\u001b[0;34m(model_type, target_vars, train, test)\u001b[0m\n\u001b[1;32m      9\u001b[0m                                                                              output=False)[1]]],\n\u001b[1;32m     10\u001b[0m                                            columns=['model_type', 'target_var', 'metric', 'value']) \n\u001b[0;32m---> 11\u001b[0;31m                               for i in target_vars], ignore_index=True)\n\u001b[0m\u001b[1;32m     12\u001b[0m     \u001b[0;32mreturn\u001b[0m \u001b[0meval_df\u001b[0m\u001b[0;34m.\u001b[0m\u001b[0mappend\u001b[0m\u001b[0;34m(\u001b[0m\u001b[0mtemp_eval_df\u001b[0m\u001b[0;34m,\u001b[0m \u001b[0mignore_index\u001b[0m\u001b[0;34m=\u001b[0m\u001b[0;32mTrue\u001b[0m\u001b[0;34m)\u001b[0m\u001b[0;34m\u001b[0m\u001b[0;34m\u001b[0m\u001b[0m\n",
      "\u001b[0;32m<ipython-input-29-f961fe622cd4>\u001b[0m in \u001b[0;36m<listcomp>\u001b[0;34m(.0)\u001b[0m\n\u001b[1;32m      9\u001b[0m                                                                              output=False)[1]]],\n\u001b[1;32m     10\u001b[0m                                            columns=['model_type', 'target_var', 'metric', 'value']) \n\u001b[0;32m---> 11\u001b[0;31m                               for i in target_vars], ignore_index=True)\n\u001b[0m\u001b[1;32m     12\u001b[0m     \u001b[0;32mreturn\u001b[0m \u001b[0meval_df\u001b[0m\u001b[0;34m.\u001b[0m\u001b[0mappend\u001b[0m\u001b[0;34m(\u001b[0m\u001b[0mtemp_eval_df\u001b[0m\u001b[0;34m,\u001b[0m \u001b[0mignore_index\u001b[0m\u001b[0;34m=\u001b[0m\u001b[0;32mTrue\u001b[0m\u001b[0;34m)\u001b[0m\u001b[0;34m\u001b[0m\u001b[0;34m\u001b[0m\u001b[0m\n",
      "\u001b[0;32m<ipython-input-28-110f270b5d78>\u001b[0m in \u001b[0;36mevaluate\u001b[0;34m(target_var, train, test, output)\u001b[0m\n\u001b[1;32m      1\u001b[0m \u001b[0;32mdef\u001b[0m \u001b[0mevaluate\u001b[0m\u001b[0;34m(\u001b[0m\u001b[0mtarget_var\u001b[0m\u001b[0;34m,\u001b[0m \u001b[0mtrain\u001b[0m \u001b[0;34m=\u001b[0m \u001b[0mtrain\u001b[0m\u001b[0;34m,\u001b[0m \u001b[0mtest\u001b[0m \u001b[0;34m=\u001b[0m \u001b[0mtest\u001b[0m\u001b[0;34m,\u001b[0m \u001b[0moutput\u001b[0m\u001b[0;34m=\u001b[0m\u001b[0;32mTrue\u001b[0m\u001b[0;34m)\u001b[0m\u001b[0;34m:\u001b[0m\u001b[0;34m\u001b[0m\u001b[0;34m\u001b[0m\u001b[0m\n\u001b[0;32m----> 2\u001b[0;31m     \u001b[0mmse\u001b[0m \u001b[0;34m=\u001b[0m \u001b[0mmetrics\u001b[0m\u001b[0;34m.\u001b[0m\u001b[0mmean_squared_error\u001b[0m\u001b[0;34m(\u001b[0m\u001b[0mtest\u001b[0m\u001b[0;34m[\u001b[0m\u001b[0mtarget_var\u001b[0m\u001b[0;34m]\u001b[0m\u001b[0;34m,\u001b[0m \u001b[0myhat\u001b[0m\u001b[0;34m[\u001b[0m\u001b[0mtarget_var\u001b[0m\u001b[0;34m]\u001b[0m\u001b[0;34m)\u001b[0m\u001b[0;34m\u001b[0m\u001b[0;34m\u001b[0m\u001b[0m\n\u001b[0m\u001b[1;32m      3\u001b[0m     \u001b[0mrmse\u001b[0m \u001b[0;34m=\u001b[0m \u001b[0mmath\u001b[0m\u001b[0;34m.\u001b[0m\u001b[0msqrt\u001b[0m\u001b[0;34m(\u001b[0m\u001b[0mmse\u001b[0m\u001b[0;34m)\u001b[0m\u001b[0;34m\u001b[0m\u001b[0;34m\u001b[0m\u001b[0m\n\u001b[1;32m      4\u001b[0m \u001b[0;34m\u001b[0m\u001b[0m\n\u001b[1;32m      5\u001b[0m     \u001b[0;32mif\u001b[0m \u001b[0moutput\u001b[0m\u001b[0;34m:\u001b[0m\u001b[0;34m\u001b[0m\u001b[0;34m\u001b[0m\u001b[0m\n",
      "\u001b[0;31mNameError\u001b[0m: name 'yhat' is not defined"
     ]
    }
   ],
   "source": [
    "last_observed()"
   ]
  },
  {
   "cell_type": "markdown",
   "metadata": {},
   "source": [
    "## II. Explore"
   ]
  },
  {
   "cell_type": "markdown",
   "metadata": {},
   "source": [
    "**Questions**\n",
    "\n",
    "1. Are there any day of the week where Armstrong is particularly more active or sedentary?\n",
    "2. Do Armstrong have weekly patterns of activity?\n",
    "3. During which months is Armstrong more/less active?\n",
    "4. What is Armstrong's average statistics? Use moving average, so non or less-active/non or less-recorded days will not affect the overall averages of :\n",
    "  - Calories burned\n",
    "  - Steps taken\n",
    "  - Distance\n",
    "  - Floors\n",
    "  - Sedentary or not active in minutes\n",
    "  - Lightly active in minutes\n",
    "  - Very active in minutes\n",
    "  - Calories burned by activity\n",
    "5. Is Armstrong more active in a particular season of the year (cool, hot, cold months)?\n",
    "6. What is Armstrong's time series decompostion look like?\n",
    "7. What is Armstrong's daily and weekly activity frequencies look like?\n",
    "8. What's the correlation between activity from yesterday-today (lag)?"
   ]
  },
  {
   "cell_type": "code",
   "execution_count": null,
   "metadata": {},
   "outputs": [],
   "source": [
    "train_month = train.resample(\"M\").mean()"
   ]
  },
  {
   "cell_type": "code",
   "execution_count": null,
   "metadata": {},
   "outputs": [],
   "source": [
    "train.columns"
   ]
  },
  {
   "cell_type": "code",
   "execution_count": null,
   "metadata": {},
   "outputs": [],
   "source": [
    "train_month.index.unique()"
   ]
  },
  {
   "cell_type": "code",
   "execution_count": null,
   "metadata": {},
   "outputs": [],
   "source": [
    "plt.figure(figsize=(10,4))\n",
    "plt.plot(train_month.loc[:,['cal_burn','steps','distance','floors']], marker='o')\n",
    "plt.legend(['cal_burn', 'steps','distance','floors'],loc='center left', bbox_to_anchor=(1, 0.5))\n",
    "# plt.xticks([\"2018-0\",\"2018-11\",\"2018-10\",\"2018-09\",\"2018-08\"],[\"Dec\",\"Nov\",\"Oct\",\"Sept\",\"Aug\",\"Jul\"])\n",
    "\n",
    "plt.show()"
   ]
  },
  {
   "cell_type": "code",
   "execution_count": null,
   "metadata": {},
   "outputs": [],
   "source": [
    "plt.figure(figsize=(10,4))\n",
    "plt.plot(train_month.loc[:,['min_sed', 'min_active_light','min_active_fairly','min_active_very']], marker='o')\n",
    "plt.legend(['min_sed','min_active_light', 'min_active_fairly', 'min_active_very'],loc='center left', bbox_to_anchor=(1, 0.5))\n",
    "plt.xticks([\"2018-08\",\"2018-09\",\"2018-10\",\"2018-11\",\"2018-12\"],[\"Jul\",\"Aug\",\"Sep\",\"Oct\",\"Nov\",\"Dec\"])\n",
    "\n",
    "plt.show()"
   ]
  },
  {
   "cell_type": "markdown",
   "metadata": {},
   "source": [
    "<div class=\"alert alert-block alert-warning\">\n",
    "<b>Answer:</b>\n",
    "Armstrong has a generally sedentary lifestyle with an activity level of \"light\". We see a heightened steps count in Oct-Dec (colder months). He was least active in July and September, which are summer months.\n",
    "</div>"
   ]
  },
  {
   "cell_type": "code",
   "execution_count": null,
   "metadata": {},
   "outputs": [],
   "source": [
    "decomposition = sm.tsa.seasonal_decompose(train.cal_burn.resample(\"D\").mean(), model='additive')\n",
    "\n",
    "fig = decomposition.plot()\n",
    "plt.show()"
   ]
  },
  {
   "cell_type": "code",
   "execution_count": null,
   "metadata": {},
   "outputs": [],
   "source": [
    "# sns.barplot(x=train_month.index, y=\"cal_burn\", data=train_month, palette=[\"gray\"]*6)\n",
    "\n",
    "for att in train.columns:\n",
    "    train.groupby(train.index.month)[att].mean().plot.bar(edgecolor='black', width=.9, figsize=(12, 7))\n",
    "    plt.title(f\"{att} by month\")\n",
    "    plt.show()\n",
    "# flights.groupby('weekday').delay.mean().plot.bar(edgecolor='black', width=.9, figsize=(12, 7))\n",
    "# # flights.groupby(flights.index.weekday_name).delay.mean().plot.bar(edgecolor='black', width=.9, figsize=(12, 7))\n",
    "# plt.xticks(rotation=0)"
   ]
  },
  {
   "cell_type": "markdown",
   "metadata": {},
   "source": [
    "## III. Model"
   ]
  },
  {
   "cell_type": "code",
   "execution_count": null,
   "metadata": {},
   "outputs": [],
   "source": [
    "def evaluate(target_var, train = train, test = test, output=True):\n",
    "    mse = metrics.mean_squared_error(test[target_var], yhat[target_var])\n",
    "    rmse = math.sqrt(mse)\n",
    "\n",
    "    if output:\n",
    "        print('MSE:  {}'.format(mse))\n",
    "        print('RMSE: {}'.format(rmse))\n",
    "    else:\n",
    "        return mse, rmse\n",
    "\n",
    "def plot_and_eval(target_vars, train = train, test = test, metric_fmt = '{:.2f}', linewidth = 4):\n",
    "    if type(target_vars) is not list:\n",
    "        target_vars = [target_vars]\n",
    "\n",
    "    plt.figure(figsize=(16, 8))\n",
    "    plt.plot(train[target_vars],label='Train')\n",
    "    plt.plot(test[target_vars], label='Test')\n",
    "\n",
    "    for var in target_vars:\n",
    "        mse, rmse = evaluate(target_var = var, train = train, test = test, output=False)\n",
    "        plt.plot(yhat[var], linewidth=linewidth)\n",
    "        print(f'{var} -- MSE: {metric_fmt} RMSE: {metric_fmt}'.format(mse, rmse))\n",
    "\n",
    "    plt.show()"
   ]
  },
  {
   "cell_type": "code",
   "execution_count": null,
   "metadata": {},
   "outputs": [],
   "source": [
    "eval_df = pd.DataFrame(columns=['model_type', 'target_var', 'metric', 'value'])\n",
    "eval_df"
   ]
  },
  {
   "cell_type": "code",
   "execution_count": null,
   "metadata": {},
   "outputs": [],
   "source": [
    "# create df to store MSE & RMSE\n",
    "def append_eval_df(model_type, target_vars, train = train, test = test):\n",
    "    temp_eval_df = pd.concat([pd.DataFrame([[model_type, i, 'mse', evaluate(target_var = i, \n",
    "                                                                            train = train, \n",
    "                                                                            test = test, \n",
    "                                                                            output=False)[0]],\n",
    "                                            [model_type, i, 'rmse', evaluate(target_var = i, \n",
    "                                                                             train = train, \n",
    "                                                                             test = test, \n",
    "                                                                             output=False)[1]]],\n",
    "                                           columns=['model_type', 'target_var', 'metric', 'value']) \n",
    "                              for i in target_vars], ignore_index=True)\n",
    "    return eval_df.append(temp_eval_df, ignore_index=True)"
   ]
  },
  {
   "cell_type": "code",
   "execution_count": null,
   "metadata": {},
   "outputs": [],
   "source": [
    "periods = 30\n",
    "yhat['y'] = train.y.rolling(periods).mean().iloc[-1]\n",
    "\n",
    "# plot_and_eval(target_vars, train, test)\n",
    "# eval_df = append_eval_df(model_type='moving_average', target_vars=['y'], train = train, test = test)\n",
    "\n",
    "plt.figure(figsize=(16, 8))\n",
    "plt.plot(train[target_vars],label='Train')\n",
    "plt.plot(test[target_vars], label='Test')\n",
    "period_vals = [1, 4, 12, 26, 52, 104]\n",
    "for p in period_vals:\n",
    "    yhat['y'] = train.y.rolling(p).mean().iloc[-1]\n",
    "    plt.plot(yhat.y)\n",
    "    print('\\nrolling averge period:',p)\n",
    "    print('\\nitem sales\\n')\n",
    "    evaluate('y', train = train, test = test)"
   ]
  },
  {
   "cell_type": "code",
   "execution_count": null,
   "metadata": {},
   "outputs": [],
   "source": []
  }
 ],
 "metadata": {
  "kernelspec": {
   "display_name": "Python 3",
   "language": "python",
   "name": "python3"
  },
  "language_info": {
   "codemirror_mode": {
    "name": "ipython",
    "version": 3
   },
   "file_extension": ".py",
   "mimetype": "text/x-python",
   "name": "python",
   "nbconvert_exporter": "python",
   "pygments_lexer": "ipython3",
   "version": "3.7.3"
  },
  "toc": {
   "base_numbering": 1,
   "nav_menu": {},
   "number_sections": true,
   "sideBar": true,
   "skip_h1_title": false,
   "title_cell": "Table of Contents",
   "title_sidebar": "Contents",
   "toc_cell": false,
   "toc_position": {},
   "toc_section_display": true,
   "toc_window_display": true
  },
  "varInspector": {
   "cols": {
    "lenName": 16,
    "lenType": 16,
    "lenVar": 40
   },
   "kernels_config": {
    "python": {
     "delete_cmd_postfix": "",
     "delete_cmd_prefix": "del ",
     "library": "var_list.py",
     "varRefreshCmd": "print(var_dic_list())"
    },
    "r": {
     "delete_cmd_postfix": ") ",
     "delete_cmd_prefix": "rm(",
     "library": "var_list.r",
     "varRefreshCmd": "cat(var_dic_list()) "
    }
   },
   "types_to_exclude": [
    "module",
    "function",
    "builtin_function_or_method",
    "instance",
    "_Feature"
   ],
   "window_display": false
  }
 },
 "nbformat": 4,
 "nbformat_minor": 2
}
