{
 "cells": [
  {
   "cell_type": "markdown",
   "metadata": {},
   "source": [
    "**Train and Test Split**\n",
    "1. How does our train and test split look like?\n",
    "\n",
    "**Hypothesis Testing**\n",
    "1. What attributes are correlated with the following attributes with missing data:\n",
    " - Steps\n",
    " - Distance\n",
    " - Floors\n",
    " - Min_Active_Light\n",
    " - Min_Active_Fairly\n",
    " - Min_Active_Very\n",
    "\n",
    "**Exploration Questions**\n",
    "\n",
    "1. Are there any day of the week where Armstrong is particularly more active or sedentary?\n",
    "2. Do Armstrong have weekly patterns of activity?\n",
    "3. During which months is Armstrong more/less active?\n",
    "4. What is Armstrong's average statistics? Use moving average, so non or less-active/non or less-recorded days will not affect the overall averages of :\n",
    "  - Calories burned\n",
    "  - Steps taken\n",
    "  - Distance\n",
    "  - Floors\n",
    "  - Sedentary or not active in minutes\n",
    "  - Lightly active in minutes\n",
    "  - Very active in minutes\n",
    "  - Calories burned by activity\n",
    "5. Is Armstrong more active in a particular season of the year (cool, hot, cold months)?\n",
    "6. What is Armstrong's time series decompostion look like?\n",
    "7. What is Armstrong's daily and weekly activity frequencies look like?\n",
    "8. What's the correlation between activity from yesterday-today (lag)?"
   ]
  },
  {
   "cell_type": "markdown",
   "metadata": {},
   "source": []
  },
  {
   "cell_type": "code",
   "execution_count": null,
   "metadata": {},
   "outputs": [],
   "source": []
  }
 ],
 "metadata": {
  "kernelspec": {
   "display_name": "Python 3",
   "language": "python",
   "name": "python3"
  },
  "language_info": {
   "codemirror_mode": {
    "name": "ipython",
    "version": 3
   },
   "file_extension": ".py",
   "mimetype": "text/x-python",
   "name": "python",
   "nbconvert_exporter": "python",
   "pygments_lexer": "ipython3",
   "version": "3.7.3"
  }
 },
 "nbformat": 4,
 "nbformat_minor": 2
}
