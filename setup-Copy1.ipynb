{
 "cells": [
  {
   "cell_type": "markdown",
   "metadata": {},
   "source": [
    "# Predicting Missing Fitbit Data"
   ]
  },
  {
   "cell_type": "markdown",
   "metadata": {},
   "source": [
    "## Summary of Findings"
   ]
  },
  {
   "cell_type": "markdown",
   "metadata": {},
   "source": [
    "---\n",
    "## Project Plan\n",
    "\n",
    "### Goals\n",
    " - Predict missing values from the data set using clustering\n",
    " - Derive insights on \"Armstrong\", the person from whom the fitness data was generated\n",
    "\n",
    "### Hypotheses\n",
    " - There are patterns on Armstrong's daily activities.\n",
    " - Armstrong's fitness activity is affected by the month/season of the year.\n",
    "\n",
    "### Data Science Skills Used\n",
    " - Data prep and cleaning\n",
    " - Time Series Analysis\n",
    " - Visualization\n",
    " - Modeling using Parametric Methods\n",
    " - Modeling using the Prophet algorithm\n",
    " - Evaluation of Models"
   ]
  },
  {
   "cell_type": "markdown",
   "metadata": {},
   "source": [
    "---\n",
    "## Data Dictionary"
   ]
  },
  {
   "cell_type": "markdown",
   "metadata": {},
   "source": [
    "---\n",
    "## Notes on the Fitbit Data:\n",
    "\n",
    "We are given eight .csv files that hold monthly data of an individual, whom we elect to call \"Armstrong\". Before we begin wrangling the data, we peruse all the files and made initial notes as follows:\n",
    "\n",
    "1. The \"missing\" data is from 6/27/2018 - 7/6/2018 on the following variables:\n",
    "  - Steps\n",
    "  - Distance\n",
    "  - Floors\n",
    "  - Lightly Active in Minutes\n",
    "  - Fairly Active in Minutes\n",
    "  - Very Active in Minutes\n",
    "2. Food/ Food log data is almost empty. There are only 1 record available in May-June data, and 7 records in the October-November data.\n",
    "3. The data range covers April 26, 2018 to December 6, 2018."
   ]
  },
  {
   "cell_type": "markdown",
   "metadata": {},
   "source": [
    "### Packages"
   ]
  },
  {
   "cell_type": "code",
   "execution_count": 1,
   "metadata": {},
   "outputs": [],
   "source": [
    "# data manipulation \n",
    "import numpy as np\n",
    "import pandas as pd\n",
    "\n",
    "from datetime import datetime\n",
    "import itertools as it\n",
    "\n",
    "from statsmodels.tsa.api import ExponentialSmoothing, SimpleExpSmoothing, Holt\n",
    "import statsmodels.api as sm\n",
    "from statsmodels.tsa.ar_model import AR\n",
    "\n",
    "from sklearn.model_selection import TimeSeriesSplit\n",
    "from sklearn import metrics\n",
    "\n",
    "import math\n",
    "\n",
    "# data visualization \n",
    "import matplotlib\n",
    "import matplotlib.pyplot as plt\n",
    "import seaborn as sns\n",
    "%matplotlib inline\n",
    "\n",
    "# ignore warnings\n",
    "import warnings\n",
    "warnings.filterwarnings(\"ignore\")\n",
    "import acquire\n",
    "#import prepare\n",
    "#import summarize\n",
    "#from acquire import get_store_data\n",
    "#from prepare import prep_store_data, split_store_data\n",
    "# from summarize import df_summary"
   ]
  },
  {
   "cell_type": "markdown",
   "metadata": {},
   "source": [
    "## I. Acquire and Preprocess"
   ]
  },
  {
   "cell_type": "markdown",
   "metadata": {},
   "source": [
    "We manipulated the individual csv files from Excel, and decided to create a single .csv file as the size of the data is manageable. We only wanted the activity data, and not the food/food log data which barely contain any data.\n",
    "\n",
    "`act.csv` is the csv file that integrates all relevant activitiy data from the eight .csv files provided.\n",
    "\n",
    "The `acquire` function from the acquire.py module produces a data frame out of `act.csv` and renames the columns for efficiency."
   ]
  },
  {
   "cell_type": "code",
   "execution_count": 2,
   "metadata": {},
   "outputs": [],
   "source": [
    "df = pd.read_csv('act.csv', header=0,usecols=[0,1,2,3,4,5,6,7,8,9],names=[\"date\",\"cal_burn\",\"steps\",\"distance\",\"floors\",\"min_sed\",\"min_active_light\",\"min_active_fairly\",\"min_active_very\",\"cal_activity\"])"
   ]
  },
  {
   "cell_type": "code",
   "execution_count": 3,
   "metadata": {},
   "outputs": [
    {
     "data": {
      "text/html": [
       "<div>\n",
       "<style scoped>\n",
       "    .dataframe tbody tr th:only-of-type {\n",
       "        vertical-align: middle;\n",
       "    }\n",
       "\n",
       "    .dataframe tbody tr th {\n",
       "        vertical-align: top;\n",
       "    }\n",
       "\n",
       "    .dataframe thead th {\n",
       "        text-align: right;\n",
       "    }\n",
       "</style>\n",
       "<table border=\"1\" class=\"dataframe\">\n",
       "  <thead>\n",
       "    <tr style=\"text-align: right;\">\n",
       "      <th></th>\n",
       "      <th>date</th>\n",
       "      <th>cal_burn</th>\n",
       "      <th>steps</th>\n",
       "      <th>distance</th>\n",
       "      <th>floors</th>\n",
       "      <th>min_sed</th>\n",
       "      <th>min_active_light</th>\n",
       "      <th>min_active_fairly</th>\n",
       "      <th>min_active_very</th>\n",
       "      <th>cal_activity</th>\n",
       "    </tr>\n",
       "  </thead>\n",
       "  <tbody>\n",
       "    <tr>\n",
       "      <th>0</th>\n",
       "      <td>4/26/18</td>\n",
       "      <td>2,635</td>\n",
       "      <td>2,931</td>\n",
       "      <td>1.38</td>\n",
       "      <td>2</td>\n",
       "      <td>1,347</td>\n",
       "      <td>93</td>\n",
       "      <td>0</td>\n",
       "      <td>0</td>\n",
       "      <td>566</td>\n",
       "    </tr>\n",
       "    <tr>\n",
       "      <th>1</th>\n",
       "      <td>4/27/18</td>\n",
       "      <td>3,649</td>\n",
       "      <td>9,971</td>\n",
       "      <td>4.70</td>\n",
       "      <td>19</td>\n",
       "      <td>1,158</td>\n",
       "      <td>219</td>\n",
       "      <td>46</td>\n",
       "      <td>17</td>\n",
       "      <td>1,752</td>\n",
       "    </tr>\n",
       "    <tr>\n",
       "      <th>2</th>\n",
       "      <td>4/28/18</td>\n",
       "      <td>3,379</td>\n",
       "      <td>3,521</td>\n",
       "      <td>1.66</td>\n",
       "      <td>2</td>\n",
       "      <td>702</td>\n",
       "      <td>155</td>\n",
       "      <td>22</td>\n",
       "      <td>11</td>\n",
       "      <td>1,124</td>\n",
       "    </tr>\n",
       "    <tr>\n",
       "      <th>3</th>\n",
       "      <td>4/29/18</td>\n",
       "      <td>2,851</td>\n",
       "      <td>1,639</td>\n",
       "      <td>0.77</td>\n",
       "      <td>0</td>\n",
       "      <td>891</td>\n",
       "      <td>122</td>\n",
       "      <td>0</td>\n",
       "      <td>0</td>\n",
       "      <td>602</td>\n",
       "    </tr>\n",
       "    <tr>\n",
       "      <th>4</th>\n",
       "      <td>4/30/18</td>\n",
       "      <td>2,825</td>\n",
       "      <td>1,323</td>\n",
       "      <td>0.62</td>\n",
       "      <td>0</td>\n",
       "      <td>880</td>\n",
       "      <td>104</td>\n",
       "      <td>0</td>\n",
       "      <td>0</td>\n",
       "      <td>540</td>\n",
       "    </tr>\n",
       "  </tbody>\n",
       "</table>\n",
       "</div>"
      ],
      "text/plain": [
       "      date cal_burn  steps  distance  floors min_sed  min_active_light  \\\n",
       "0  4/26/18    2,635  2,931      1.38       2   1,347                93   \n",
       "1  4/27/18    3,649  9,971      4.70      19   1,158               219   \n",
       "2  4/28/18    3,379  3,521      1.66       2     702               155   \n",
       "3  4/29/18    2,851  1,639      0.77       0     891               122   \n",
       "4  4/30/18    2,825  1,323      0.62       0     880               104   \n",
       "\n",
       "   min_active_fairly  min_active_very cal_activity  \n",
       "0                  0                0          566  \n",
       "1                 46               17        1,752  \n",
       "2                 22               11        1,124  \n",
       "3                  0                0          602  \n",
       "4                  0                0          540  "
      ]
     },
     "execution_count": 3,
     "metadata": {},
     "output_type": "execute_result"
    }
   ],
   "source": [
    "df.head()"
   ]
  },
  {
   "cell_type": "code",
   "execution_count": 4,
   "metadata": {},
   "outputs": [],
   "source": [
    "# #### acquire function broke!!!\n",
    "# df = acquire.acquire()\n",
    "\n",
    "# #Initial look at the data.\n",
    "# #Catch presence of nulls and inappropriate data types\n",
    "# df.info()"
   ]
  },
  {
   "cell_type": "markdown",
   "metadata": {},
   "source": [
    "Apart from `date` which will be handled later, there are four columns that are object type.\n",
    " - cal_burn\n",
    " - steps\n",
    " - min_sed\n",
    " - cal_activity"
   ]
  },
  {
   "cell_type": "code",
   "execution_count": 5,
   "metadata": {},
   "outputs": [
    {
     "data": {
      "text/html": [
       "<div>\n",
       "<style scoped>\n",
       "    .dataframe tbody tr th:only-of-type {\n",
       "        vertical-align: middle;\n",
       "    }\n",
       "\n",
       "    .dataframe tbody tr th {\n",
       "        vertical-align: top;\n",
       "    }\n",
       "\n",
       "    .dataframe thead th {\n",
       "        text-align: right;\n",
       "    }\n",
       "</style>\n",
       "<table border=\"1\" class=\"dataframe\">\n",
       "  <thead>\n",
       "    <tr style=\"text-align: right;\">\n",
       "      <th></th>\n",
       "      <th>date</th>\n",
       "      <th>cal_burn</th>\n",
       "      <th>steps</th>\n",
       "      <th>distance</th>\n",
       "      <th>floors</th>\n",
       "      <th>min_sed</th>\n",
       "      <th>min_active_light</th>\n",
       "      <th>min_active_fairly</th>\n",
       "      <th>min_active_very</th>\n",
       "      <th>cal_activity</th>\n",
       "    </tr>\n",
       "  </thead>\n",
       "  <tbody>\n",
       "    <tr>\n",
       "      <th>12</th>\n",
       "      <td>5/8/18</td>\n",
       "      <td>2,591</td>\n",
       "      <td>1,187</td>\n",
       "      <td>0.56</td>\n",
       "      <td>2</td>\n",
       "      <td>1,221</td>\n",
       "      <td>53</td>\n",
       "      <td>17</td>\n",
       "      <td>2</td>\n",
       "      <td>410</td>\n",
       "    </tr>\n",
       "    <tr>\n",
       "      <th>7</th>\n",
       "      <td>5/3/18</td>\n",
       "      <td>3,121</td>\n",
       "      <td>2,232</td>\n",
       "      <td>1.05</td>\n",
       "      <td>0</td>\n",
       "      <td>876</td>\n",
       "      <td>157</td>\n",
       "      <td>16</td>\n",
       "      <td>0</td>\n",
       "      <td>1,006</td>\n",
       "    </tr>\n",
       "    <tr>\n",
       "      <th>124</th>\n",
       "      <td>8/28/18</td>\n",
       "      <td>3,757</td>\n",
       "      <td>12,569</td>\n",
       "      <td>5.93</td>\n",
       "      <td>14</td>\n",
       "      <td>717</td>\n",
       "      <td>218</td>\n",
       "      <td>8</td>\n",
       "      <td>58</td>\n",
       "      <td>1,874</td>\n",
       "    </tr>\n",
       "    <tr>\n",
       "      <th>35</th>\n",
       "      <td>5/31/18</td>\n",
       "      <td>3,420</td>\n",
       "      <td>5,879</td>\n",
       "      <td>2.77</td>\n",
       "      <td>3</td>\n",
       "      <td>735</td>\n",
       "      <td>230</td>\n",
       "      <td>5</td>\n",
       "      <td>6</td>\n",
       "      <td>1,349</td>\n",
       "    </tr>\n",
       "    <tr>\n",
       "      <th>179</th>\n",
       "      <td>10/22/18</td>\n",
       "      <td>3,149</td>\n",
       "      <td>8,328</td>\n",
       "      <td>3.93</td>\n",
       "      <td>7</td>\n",
       "      <td>747</td>\n",
       "      <td>172</td>\n",
       "      <td>4</td>\n",
       "      <td>28</td>\n",
       "      <td>1,239</td>\n",
       "    </tr>\n",
       "  </tbody>\n",
       "</table>\n",
       "</div>"
      ],
      "text/plain": [
       "         date cal_burn   steps  distance  floors min_sed  min_active_light  \\\n",
       "12     5/8/18    2,591   1,187      0.56       2   1,221                53   \n",
       "7      5/3/18    3,121   2,232      1.05       0     876               157   \n",
       "124   8/28/18    3,757  12,569      5.93      14     717               218   \n",
       "35    5/31/18    3,420   5,879      2.77       3     735               230   \n",
       "179  10/22/18    3,149   8,328      3.93       7     747               172   \n",
       "\n",
       "     min_active_fairly  min_active_very cal_activity  \n",
       "12                  17                2          410  \n",
       "7                   16                0        1,006  \n",
       "124                  8               58        1,874  \n",
       "35                   5                6        1,349  \n",
       "179                  4               28        1,239  "
      ]
     },
     "execution_count": 5,
     "metadata": {},
     "output_type": "execute_result"
    }
   ],
   "source": [
    "df.sample(5) #inspect the object-type attributes"
   ]
  },
  {
   "cell_type": "markdown",
   "metadata": {},
   "source": [
    "It seems that commas are making these numeric attributes as object types. To remove commas and cast these columns from object into integer types, call the `handle_obj_type` function from the acquire.py module."
   ]
  },
  {
   "cell_type": "code",
   "execution_count": 6,
   "metadata": {},
   "outputs": [],
   "source": [
    "df = acquire.handle_obj_type(df)"
   ]
  },
  {
   "cell_type": "code",
   "execution_count": 7,
   "metadata": {},
   "outputs": [
    {
     "name": "stdout",
     "output_type": "stream",
     "text": [
      "Total length of df is: 225\n",
      "Total length of non-repeating dates is: 225\n"
     ]
    }
   ],
   "source": [
    "df = acquire.basic_clean(df)"
   ]
  },
  {
   "cell_type": "code",
   "execution_count": 8,
   "metadata": {},
   "outputs": [],
   "source": [
    "def split_store_data(df, train_prop=.7): \n",
    "    train_size = int(len(df) * train_prop)\n",
    "    train, test = df[0:train_size].reset_index(), df[train_size:len(df)].reset_index()\n",
    "    return train, test"
   ]
  },
  {
   "cell_type": "code",
   "execution_count": 9,
   "metadata": {},
   "outputs": [],
   "source": [
    "train, test = split_store_data(df, train_prop=.7)"
   ]
  },
  {
   "cell_type": "code",
   "execution_count": 10,
   "metadata": {},
   "outputs": [
    {
     "name": "stdout",
     "output_type": "stream",
     "text": [
      "Observations: 225\n",
      "Training Observations: 157\n",
      "Testing Observations: 68\n"
     ]
    }
   ],
   "source": [
    "print('Observations: %d' % (len(df)))\n",
    "print('Training Observations: %d' % (len(train)))\n",
    "print('Testing Observations: %d' % (len(test)))"
   ]
  },
  {
   "cell_type": "code",
   "execution_count": 11,
   "metadata": {},
   "outputs": [],
   "source": [
    "# train = (df.loc[:int(len(df)*.70)])\n",
    "# test = (df.loc[train.shape[0]:])"
   ]
  },
  {
   "cell_type": "code",
   "execution_count": 12,
   "metadata": {},
   "outputs": [],
   "source": [
    "# train.date = pd.to_datetime(train.date)\n",
    "# test.date = pd.to_datetime(test.date)\n",
    "# train = train.set_index(\"date\")\n",
    "# test = test.set_index(\"date\")"
   ]
  },
  {
   "cell_type": "code",
   "execution_count": 13,
   "metadata": {},
   "outputs": [],
   "source": [
    "train = train.set_index('date')\n",
    "test = test.set_index('date')"
   ]
  },
  {
   "cell_type": "code",
   "execution_count": 14,
   "metadata": {},
   "outputs": [
    {
     "data": {
      "text/html": [
       "<div>\n",
       "<style scoped>\n",
       "    .dataframe tbody tr th:only-of-type {\n",
       "        vertical-align: middle;\n",
       "    }\n",
       "\n",
       "    .dataframe tbody tr th {\n",
       "        vertical-align: top;\n",
       "    }\n",
       "\n",
       "    .dataframe thead th {\n",
       "        text-align: right;\n",
       "    }\n",
       "</style>\n",
       "<table border=\"1\" class=\"dataframe\">\n",
       "  <thead>\n",
       "    <tr style=\"text-align: right;\">\n",
       "      <th></th>\n",
       "      <th>cal_burn</th>\n",
       "      <th>steps</th>\n",
       "      <th>distance</th>\n",
       "      <th>floors</th>\n",
       "      <th>min_sed</th>\n",
       "      <th>min_active_light</th>\n",
       "      <th>min_active_fairly</th>\n",
       "      <th>min_active_very</th>\n",
       "      <th>cal_activity</th>\n",
       "    </tr>\n",
       "    <tr>\n",
       "      <th>date</th>\n",
       "      <th></th>\n",
       "      <th></th>\n",
       "      <th></th>\n",
       "      <th></th>\n",
       "      <th></th>\n",
       "      <th></th>\n",
       "      <th></th>\n",
       "      <th></th>\n",
       "      <th></th>\n",
       "    </tr>\n",
       "  </thead>\n",
       "  <tbody>\n",
       "    <tr>\n",
       "      <th>2018-04-26</th>\n",
       "      <td>2635</td>\n",
       "      <td>2931</td>\n",
       "      <td>1.38</td>\n",
       "      <td>2</td>\n",
       "      <td>1347</td>\n",
       "      <td>93</td>\n",
       "      <td>0</td>\n",
       "      <td>0</td>\n",
       "      <td>566</td>\n",
       "    </tr>\n",
       "  </tbody>\n",
       "</table>\n",
       "</div>"
      ],
      "text/plain": [
       "            cal_burn  steps  distance  floors  min_sed  min_active_light  \\\n",
       "date                                                                       \n",
       "2018-04-26      2635   2931      1.38       2     1347                93   \n",
       "\n",
       "            min_active_fairly  min_active_very  cal_activity  \n",
       "date                                                          \n",
       "2018-04-26                  0                0           566  "
      ]
     },
     "execution_count": 14,
     "metadata": {},
     "output_type": "execute_result"
    }
   ],
   "source": [
    "train.head(1)"
   ]
  },
  {
   "cell_type": "markdown",
   "metadata": {},
   "source": [
    "Finally, to facilitate our analysis, cast `date` column into datetime data type, and set it as the index of our data frame. Call `basic_clean` function to execute these, as well as validate that the days are distinct, i.e. no duplicate records."
   ]
  },
  {
   "cell_type": "markdown",
   "metadata": {},
   "source": [
    "### Split Data"
   ]
  },
  {
   "cell_type": "markdown",
   "metadata": {},
   "source": [
    "Split the data into train and test using the `split_date` from the acquire module.\n",
    "  \n",
    "**Composition of Test and Train**    \n",
    "**Test**\n",
    " - April 26 to July 15, 2018\n",
    " - Includes the period of missing values, June 27 to July 6, 2018  \n",
    "\n",
    "**Train**\n",
    " - July 16 to Dec 6, 2018"
   ]
  },
  {
   "cell_type": "code",
   "execution_count": 15,
   "metadata": {},
   "outputs": [],
   "source": [
    "target_vars = train.columns.to_list()"
   ]
  },
  {
   "cell_type": "code",
   "execution_count": 16,
   "metadata": {},
   "outputs": [
    {
     "data": {
      "text/html": [
       "<div>\n",
       "<style scoped>\n",
       "    .dataframe tbody tr th:only-of-type {\n",
       "        vertical-align: middle;\n",
       "    }\n",
       "\n",
       "    .dataframe tbody tr th {\n",
       "        vertical-align: top;\n",
       "    }\n",
       "\n",
       "    .dataframe thead th {\n",
       "        text-align: right;\n",
       "    }\n",
       "</style>\n",
       "<table border=\"1\" class=\"dataframe\">\n",
       "  <thead>\n",
       "    <tr style=\"text-align: right;\">\n",
       "      <th></th>\n",
       "      <th>model_type</th>\n",
       "      <th>target_var</th>\n",
       "      <th>metric</th>\n",
       "      <th>value</th>\n",
       "    </tr>\n",
       "  </thead>\n",
       "  <tbody>\n",
       "  </tbody>\n",
       "</table>\n",
       "</div>"
      ],
      "text/plain": [
       "Empty DataFrame\n",
       "Columns: [model_type, target_var, metric, value]\n",
       "Index: []"
      ]
     },
     "execution_count": 16,
     "metadata": {},
     "output_type": "execute_result"
    }
   ],
   "source": [
    "eval_df = pd.DataFrame(columns=['model_type', 'target_var', 'metric', 'value'])\n",
    "eval_df"
   ]
  },
  {
   "cell_type": "code",
   "execution_count": 17,
   "metadata": {},
   "outputs": [],
   "source": [
    "def evaluate(target_var, train = train, test = test, output=True):\n",
    "    mse = metrics.mean_squared_error(test[target_var], yhat[target_var])\n",
    "    rmse = math.sqrt(mse)\n",
    "\n",
    "    if output:\n",
    "        print('MSE:  {}'.format(mse))\n",
    "        print('RMSE: {}'.format(rmse))\n",
    "    else:\n",
    "        return mse, rmse\n",
    "    \n",
    "def append_eval_df(model_type, target_vars, train = train, test = test):\n",
    "    temp_eval_df = pd.concat([pd.DataFrame([[model_type, i, 'mse', evaluate(target_var = i, \n",
    "                                                                            train = train, \n",
    "                                                                            test = test, \n",
    "                                                                            output=False)[0]],\n",
    "                                            [model_type, i, 'rmse', evaluate(target_var = i, \n",
    "                                                                             train = train, \n",
    "                                                                             test = test, \n",
    "                                                                             output=False)[1]]],\n",
    "                                           columns=['model_type', 'target_var', 'metric', 'value']) \n",
    "                              for i in target_vars], ignore_index=True)\n",
    "    return eval_df.append(temp_eval_df, ignore_index=True)\n",
    "\n",
    "def plot_and_eval(target_vars, train = train, test = test,metric_fmt = '{:.2f}', linewidth = 4):\n",
    "    if type(target_vars) is not list:\n",
    "        target_vars = [target_vars]\n",
    "\n",
    "    plt.figure(figsize=(16, 8))\n",
    "    plt.plot(train[target_vars],label='Train', linewidth=1)\n",
    "    #plt.plot(test[target_vars], label='Test', linewidth=1)\n",
    "\n",
    "    for var in target_vars:\n",
    "        mse, rmse = evaluate(target_var = var, train = train, test = test, output=False)\n",
    "        plt.plot(yhat[var], linewidth=linewidth)\n",
    "        print(f'{var} -- MSE: {metric_fmt} RMSE: {metric_fmt}'.format(mse, rmse))\n",
    "    \n",
    "    plt.show()\n",
    "    \n"
   ]
  },
  {
   "cell_type": "code",
   "execution_count": 43,
   "metadata": {},
   "outputs": [],
   "source": [
    "def last_observed():\n",
    "    yhat = pd.DataFrame(test[target_vars])\n",
    "    for var in target_vars:\n",
    "        yhat[var] = int(train[var][-1:])\n",
    "    eval_df = append_eval_df('last_observed', target_vars, train = train, test = test)\n",
    "    return eval_df"
   ]
  },
  {
   "cell_type": "code",
   "execution_count": 44,
   "metadata": {},
   "outputs": [
    {
     "data": {
      "text/html": [
       "<div>\n",
       "<style scoped>\n",
       "    .dataframe tbody tr th:only-of-type {\n",
       "        vertical-align: middle;\n",
       "    }\n",
       "\n",
       "    .dataframe tbody tr th {\n",
       "        vertical-align: top;\n",
       "    }\n",
       "\n",
       "    .dataframe thead th {\n",
       "        text-align: right;\n",
       "    }\n",
       "</style>\n",
       "<table border=\"1\" class=\"dataframe\">\n",
       "  <thead>\n",
       "    <tr style=\"text-align: right;\">\n",
       "      <th></th>\n",
       "      <th>model_type</th>\n",
       "      <th>target_var</th>\n",
       "      <th>metric</th>\n",
       "      <th>value</th>\n",
       "    </tr>\n",
       "  </thead>\n",
       "  <tbody>\n",
       "    <tr>\n",
       "      <th>0</th>\n",
       "      <td>last_observed</td>\n",
       "      <td>cal_burn</td>\n",
       "      <td>mse</td>\n",
       "      <td>3.815530e+05</td>\n",
       "    </tr>\n",
       "    <tr>\n",
       "      <th>1</th>\n",
       "      <td>last_observed</td>\n",
       "      <td>cal_burn</td>\n",
       "      <td>rmse</td>\n",
       "      <td>6.176997e+02</td>\n",
       "    </tr>\n",
       "    <tr>\n",
       "      <th>2</th>\n",
       "      <td>last_observed</td>\n",
       "      <td>steps</td>\n",
       "      <td>mse</td>\n",
       "      <td>5.707205e+07</td>\n",
       "    </tr>\n",
       "    <tr>\n",
       "      <th>3</th>\n",
       "      <td>last_observed</td>\n",
       "      <td>steps</td>\n",
       "      <td>rmse</td>\n",
       "      <td>7.554604e+03</td>\n",
       "    </tr>\n",
       "    <tr>\n",
       "      <th>4</th>\n",
       "      <td>last_observed</td>\n",
       "      <td>distance</td>\n",
       "      <td>mse</td>\n",
       "      <td>1.319972e+01</td>\n",
       "    </tr>\n",
       "    <tr>\n",
       "      <th>5</th>\n",
       "      <td>last_observed</td>\n",
       "      <td>distance</td>\n",
       "      <td>rmse</td>\n",
       "      <td>3.633143e+00</td>\n",
       "    </tr>\n",
       "    <tr>\n",
       "      <th>6</th>\n",
       "      <td>last_observed</td>\n",
       "      <td>floors</td>\n",
       "      <td>mse</td>\n",
       "      <td>1.939545e+03</td>\n",
       "    </tr>\n",
       "    <tr>\n",
       "      <th>7</th>\n",
       "      <td>last_observed</td>\n",
       "      <td>floors</td>\n",
       "      <td>rmse</td>\n",
       "      <td>4.404026e+01</td>\n",
       "    </tr>\n",
       "    <tr>\n",
       "      <th>8</th>\n",
       "      <td>last_observed</td>\n",
       "      <td>min_sed</td>\n",
       "      <td>mse</td>\n",
       "      <td>5.567194e+04</td>\n",
       "    </tr>\n",
       "    <tr>\n",
       "      <th>9</th>\n",
       "      <td>last_observed</td>\n",
       "      <td>min_sed</td>\n",
       "      <td>rmse</td>\n",
       "      <td>2.359490e+02</td>\n",
       "    </tr>\n",
       "    <tr>\n",
       "      <th>10</th>\n",
       "      <td>last_observed</td>\n",
       "      <td>min_active_light</td>\n",
       "      <td>mse</td>\n",
       "      <td>5.077699e+03</td>\n",
       "    </tr>\n",
       "    <tr>\n",
       "      <th>11</th>\n",
       "      <td>last_observed</td>\n",
       "      <td>min_active_light</td>\n",
       "      <td>rmse</td>\n",
       "      <td>7.125797e+01</td>\n",
       "    </tr>\n",
       "    <tr>\n",
       "      <th>12</th>\n",
       "      <td>last_observed</td>\n",
       "      <td>min_active_fairly</td>\n",
       "      <td>mse</td>\n",
       "      <td>3.059981e+02</td>\n",
       "    </tr>\n",
       "    <tr>\n",
       "      <th>13</th>\n",
       "      <td>last_observed</td>\n",
       "      <td>min_active_fairly</td>\n",
       "      <td>rmse</td>\n",
       "      <td>1.749280e+01</td>\n",
       "    </tr>\n",
       "    <tr>\n",
       "      <th>14</th>\n",
       "      <td>last_observed</td>\n",
       "      <td>min_active_very</td>\n",
       "      <td>mse</td>\n",
       "      <td>2.742150e+03</td>\n",
       "    </tr>\n",
       "    <tr>\n",
       "      <th>15</th>\n",
       "      <td>last_observed</td>\n",
       "      <td>min_active_very</td>\n",
       "      <td>rmse</td>\n",
       "      <td>5.236554e+01</td>\n",
       "    </tr>\n",
       "    <tr>\n",
       "      <th>16</th>\n",
       "      <td>last_observed</td>\n",
       "      <td>cal_activity</td>\n",
       "      <td>mse</td>\n",
       "      <td>7.385698e+05</td>\n",
       "    </tr>\n",
       "    <tr>\n",
       "      <th>17</th>\n",
       "      <td>last_observed</td>\n",
       "      <td>cal_activity</td>\n",
       "      <td>rmse</td>\n",
       "      <td>8.594008e+02</td>\n",
       "    </tr>\n",
       "  </tbody>\n",
       "</table>\n",
       "</div>"
      ],
      "text/plain": [
       "       model_type         target_var metric         value\n",
       "0   last_observed           cal_burn    mse  3.815530e+05\n",
       "1   last_observed           cal_burn   rmse  6.176997e+02\n",
       "2   last_observed              steps    mse  5.707205e+07\n",
       "3   last_observed              steps   rmse  7.554604e+03\n",
       "4   last_observed           distance    mse  1.319972e+01\n",
       "5   last_observed           distance   rmse  3.633143e+00\n",
       "6   last_observed             floors    mse  1.939545e+03\n",
       "7   last_observed             floors   rmse  4.404026e+01\n",
       "8   last_observed            min_sed    mse  5.567194e+04\n",
       "9   last_observed            min_sed   rmse  2.359490e+02\n",
       "10  last_observed   min_active_light    mse  5.077699e+03\n",
       "11  last_observed   min_active_light   rmse  7.125797e+01\n",
       "12  last_observed  min_active_fairly    mse  3.059981e+02\n",
       "13  last_observed  min_active_fairly   rmse  1.749280e+01\n",
       "14  last_observed    min_active_very    mse  2.742150e+03\n",
       "15  last_observed    min_active_very   rmse  5.236554e+01\n",
       "16  last_observed       cal_activity    mse  7.385698e+05\n",
       "17  last_observed       cal_activity   rmse  8.594008e+02"
      ]
     },
     "execution_count": 44,
     "metadata": {},
     "output_type": "execute_result"
    }
   ],
   "source": [
    "last_observed()"
   ]
  },
  {
   "cell_type": "code",
   "execution_count": 50,
   "metadata": {},
   "outputs": [],
   "source": [
    "def simple_avg():\n",
    "    yhat = pd.DataFrame(test[target_vars])\n",
    "    for var in target_vars:\n",
    "        yhat[var] = train[var].mean()\n",
    "    eval_df = append_eval_df('simple_avg', target_vars, train = train, test = test)\n",
    "    return eval_df"
   ]
  },
  {
   "cell_type": "code",
   "execution_count": 51,
   "metadata": {},
   "outputs": [
    {
     "data": {
      "text/html": [
       "<div>\n",
       "<style scoped>\n",
       "    .dataframe tbody tr th:only-of-type {\n",
       "        vertical-align: middle;\n",
       "    }\n",
       "\n",
       "    .dataframe tbody tr th {\n",
       "        vertical-align: top;\n",
       "    }\n",
       "\n",
       "    .dataframe thead th {\n",
       "        text-align: right;\n",
       "    }\n",
       "</style>\n",
       "<table border=\"1\" class=\"dataframe\">\n",
       "  <thead>\n",
       "    <tr style=\"text-align: right;\">\n",
       "      <th></th>\n",
       "      <th>model_type</th>\n",
       "      <th>target_var</th>\n",
       "      <th>metric</th>\n",
       "      <th>value</th>\n",
       "    </tr>\n",
       "  </thead>\n",
       "  <tbody>\n",
       "    <tr>\n",
       "      <th>0</th>\n",
       "      <td>simple_avg</td>\n",
       "      <td>cal_burn</td>\n",
       "      <td>mse</td>\n",
       "      <td>3.815530e+05</td>\n",
       "    </tr>\n",
       "    <tr>\n",
       "      <th>1</th>\n",
       "      <td>simple_avg</td>\n",
       "      <td>cal_burn</td>\n",
       "      <td>rmse</td>\n",
       "      <td>6.176997e+02</td>\n",
       "    </tr>\n",
       "    <tr>\n",
       "      <th>2</th>\n",
       "      <td>simple_avg</td>\n",
       "      <td>steps</td>\n",
       "      <td>mse</td>\n",
       "      <td>5.707205e+07</td>\n",
       "    </tr>\n",
       "    <tr>\n",
       "      <th>3</th>\n",
       "      <td>simple_avg</td>\n",
       "      <td>steps</td>\n",
       "      <td>rmse</td>\n",
       "      <td>7.554604e+03</td>\n",
       "    </tr>\n",
       "    <tr>\n",
       "      <th>4</th>\n",
       "      <td>simple_avg</td>\n",
       "      <td>distance</td>\n",
       "      <td>mse</td>\n",
       "      <td>1.319972e+01</td>\n",
       "    </tr>\n",
       "    <tr>\n",
       "      <th>5</th>\n",
       "      <td>simple_avg</td>\n",
       "      <td>distance</td>\n",
       "      <td>rmse</td>\n",
       "      <td>3.633143e+00</td>\n",
       "    </tr>\n",
       "    <tr>\n",
       "      <th>6</th>\n",
       "      <td>simple_avg</td>\n",
       "      <td>floors</td>\n",
       "      <td>mse</td>\n",
       "      <td>1.939545e+03</td>\n",
       "    </tr>\n",
       "    <tr>\n",
       "      <th>7</th>\n",
       "      <td>simple_avg</td>\n",
       "      <td>floors</td>\n",
       "      <td>rmse</td>\n",
       "      <td>4.404026e+01</td>\n",
       "    </tr>\n",
       "    <tr>\n",
       "      <th>8</th>\n",
       "      <td>simple_avg</td>\n",
       "      <td>min_sed</td>\n",
       "      <td>mse</td>\n",
       "      <td>5.567194e+04</td>\n",
       "    </tr>\n",
       "    <tr>\n",
       "      <th>9</th>\n",
       "      <td>simple_avg</td>\n",
       "      <td>min_sed</td>\n",
       "      <td>rmse</td>\n",
       "      <td>2.359490e+02</td>\n",
       "    </tr>\n",
       "    <tr>\n",
       "      <th>10</th>\n",
       "      <td>simple_avg</td>\n",
       "      <td>min_active_light</td>\n",
       "      <td>mse</td>\n",
       "      <td>5.077699e+03</td>\n",
       "    </tr>\n",
       "    <tr>\n",
       "      <th>11</th>\n",
       "      <td>simple_avg</td>\n",
       "      <td>min_active_light</td>\n",
       "      <td>rmse</td>\n",
       "      <td>7.125797e+01</td>\n",
       "    </tr>\n",
       "    <tr>\n",
       "      <th>12</th>\n",
       "      <td>simple_avg</td>\n",
       "      <td>min_active_fairly</td>\n",
       "      <td>mse</td>\n",
       "      <td>3.059981e+02</td>\n",
       "    </tr>\n",
       "    <tr>\n",
       "      <th>13</th>\n",
       "      <td>simple_avg</td>\n",
       "      <td>min_active_fairly</td>\n",
       "      <td>rmse</td>\n",
       "      <td>1.749280e+01</td>\n",
       "    </tr>\n",
       "    <tr>\n",
       "      <th>14</th>\n",
       "      <td>simple_avg</td>\n",
       "      <td>min_active_very</td>\n",
       "      <td>mse</td>\n",
       "      <td>2.742150e+03</td>\n",
       "    </tr>\n",
       "    <tr>\n",
       "      <th>15</th>\n",
       "      <td>simple_avg</td>\n",
       "      <td>min_active_very</td>\n",
       "      <td>rmse</td>\n",
       "      <td>5.236554e+01</td>\n",
       "    </tr>\n",
       "    <tr>\n",
       "      <th>16</th>\n",
       "      <td>simple_avg</td>\n",
       "      <td>cal_activity</td>\n",
       "      <td>mse</td>\n",
       "      <td>7.385698e+05</td>\n",
       "    </tr>\n",
       "    <tr>\n",
       "      <th>17</th>\n",
       "      <td>simple_avg</td>\n",
       "      <td>cal_activity</td>\n",
       "      <td>rmse</td>\n",
       "      <td>8.594008e+02</td>\n",
       "    </tr>\n",
       "  </tbody>\n",
       "</table>\n",
       "</div>"
      ],
      "text/plain": [
       "    model_type         target_var metric         value\n",
       "0   simple_avg           cal_burn    mse  3.815530e+05\n",
       "1   simple_avg           cal_burn   rmse  6.176997e+02\n",
       "2   simple_avg              steps    mse  5.707205e+07\n",
       "3   simple_avg              steps   rmse  7.554604e+03\n",
       "4   simple_avg           distance    mse  1.319972e+01\n",
       "5   simple_avg           distance   rmse  3.633143e+00\n",
       "6   simple_avg             floors    mse  1.939545e+03\n",
       "7   simple_avg             floors   rmse  4.404026e+01\n",
       "8   simple_avg            min_sed    mse  5.567194e+04\n",
       "9   simple_avg            min_sed   rmse  2.359490e+02\n",
       "10  simple_avg   min_active_light    mse  5.077699e+03\n",
       "11  simple_avg   min_active_light   rmse  7.125797e+01\n",
       "12  simple_avg  min_active_fairly    mse  3.059981e+02\n",
       "13  simple_avg  min_active_fairly   rmse  1.749280e+01\n",
       "14  simple_avg    min_active_very    mse  2.742150e+03\n",
       "15  simple_avg    min_active_very   rmse  5.236554e+01\n",
       "16  simple_avg       cal_activity    mse  7.385698e+05\n",
       "17  simple_avg       cal_activity   rmse  8.594008e+02"
      ]
     },
     "execution_count": 51,
     "metadata": {},
     "output_type": "execute_result"
    }
   ],
   "source": [
    "simple_avg()"
   ]
  },
  {
   "cell_type": "code",
   "execution_count": null,
   "metadata": {},
   "outputs": [],
   "source": [
    "def simple_avg():\n",
    "    periods = 30\n",
    "    periods = 30\n",
    "    for var in target_vars:\n",
    "        yhat[var] = train[var].rolling(periods).mean().iloc[-1]\n",
    "\n",
    "    plot_and_eval(target_vars, train, test)\n",
    "    eval_df = append_eval_df(model_type='moving_average', target_vars=target_vars, train = train, test = test)\n",
    "\n",
    "    plt.figure(figsize=(16, 8))\n",
    "    plt.plot(train[target_vars],label='Train')\n",
    "    plt.plot(test[target_vars], label='Test')\n",
    "    period_vals = [1, 4, 12, 26, 52, 104]\n",
    "    for p in period_vals:\n",
    "        for var in target_vars:\n",
    "            yhat[var] = train[var].rolling(p).mean().iloc[-1]\n",
    "            plt.plot(yhat[var])\n",
    "            print('\\nrolling averge period:',p)\n",
    "            print(var)\n",
    "            evaluate(var, train = train, test = test)\n",
    "    eval_df = append_eval_df('simple_avg', target_vars, train = train, test = test)\n",
    "    return eval_df"
   ]
  },
  {
   "cell_type": "code",
   "execution_count": null,
   "metadata": {},
   "outputs": [],
   "source": []
  },
  {
   "cell_type": "code",
   "execution_count": null,
   "metadata": {},
   "outputs": [],
   "source": []
  },
  {
   "cell_type": "code",
   "execution_count": null,
   "metadata": {},
   "outputs": [],
   "source": []
  },
  {
   "cell_type": "code",
   "execution_count": null,
   "metadata": {},
   "outputs": [],
   "source": []
  },
  {
   "cell_type": "code",
   "execution_count": null,
   "metadata": {},
   "outputs": [],
   "source": []
  },
  {
   "cell_type": "code",
   "execution_count": null,
   "metadata": {},
   "outputs": [],
   "source": []
  },
  {
   "cell_type": "code",
   "execution_count": 46,
   "metadata": {},
   "outputs": [],
   "source": [
    "def TS_loopy():\n",
    "    model_list = ['last_observed','simple_avg']\n",
    "    for model_type in model_list:\n",
    "        if model_type == 'last_observed':\n",
    "            yhat = last_observed()\n",
    "            #plot_and_eval(target_vars=target_vars, train = train, test = test)\n",
    "            eval_df = append_eval_df(model_type, target_vars, train = train, test = test)\n",
    "            if model_type == 'simple_avg':\n",
    "                yhat_sa = simple_avg()\n",
    "                eval_df = append_eval_df(model_type, target_vars, train = train, test = test)\n",
    "                \n",
    "    return eval_df"
   ]
  },
  {
   "cell_type": "code",
   "execution_count": 47,
   "metadata": {},
   "outputs": [
    {
     "data": {
      "text/html": [
       "<div>\n",
       "<style scoped>\n",
       "    .dataframe tbody tr th:only-of-type {\n",
       "        vertical-align: middle;\n",
       "    }\n",
       "\n",
       "    .dataframe tbody tr th {\n",
       "        vertical-align: top;\n",
       "    }\n",
       "\n",
       "    .dataframe thead th {\n",
       "        text-align: right;\n",
       "    }\n",
       "</style>\n",
       "<table border=\"1\" class=\"dataframe\">\n",
       "  <thead>\n",
       "    <tr style=\"text-align: right;\">\n",
       "      <th></th>\n",
       "      <th>model_type</th>\n",
       "      <th>target_var</th>\n",
       "      <th>metric</th>\n",
       "      <th>value</th>\n",
       "    </tr>\n",
       "  </thead>\n",
       "  <tbody>\n",
       "    <tr>\n",
       "      <th>0</th>\n",
       "      <td>last_observed</td>\n",
       "      <td>cal_burn</td>\n",
       "      <td>mse</td>\n",
       "      <td>3.815530e+05</td>\n",
       "    </tr>\n",
       "    <tr>\n",
       "      <th>1</th>\n",
       "      <td>last_observed</td>\n",
       "      <td>cal_burn</td>\n",
       "      <td>rmse</td>\n",
       "      <td>6.176997e+02</td>\n",
       "    </tr>\n",
       "    <tr>\n",
       "      <th>2</th>\n",
       "      <td>last_observed</td>\n",
       "      <td>steps</td>\n",
       "      <td>mse</td>\n",
       "      <td>5.707205e+07</td>\n",
       "    </tr>\n",
       "    <tr>\n",
       "      <th>3</th>\n",
       "      <td>last_observed</td>\n",
       "      <td>steps</td>\n",
       "      <td>rmse</td>\n",
       "      <td>7.554604e+03</td>\n",
       "    </tr>\n",
       "    <tr>\n",
       "      <th>4</th>\n",
       "      <td>last_observed</td>\n",
       "      <td>distance</td>\n",
       "      <td>mse</td>\n",
       "      <td>1.319972e+01</td>\n",
       "    </tr>\n",
       "    <tr>\n",
       "      <th>5</th>\n",
       "      <td>last_observed</td>\n",
       "      <td>distance</td>\n",
       "      <td>rmse</td>\n",
       "      <td>3.633143e+00</td>\n",
       "    </tr>\n",
       "    <tr>\n",
       "      <th>6</th>\n",
       "      <td>last_observed</td>\n",
       "      <td>floors</td>\n",
       "      <td>mse</td>\n",
       "      <td>1.939545e+03</td>\n",
       "    </tr>\n",
       "    <tr>\n",
       "      <th>7</th>\n",
       "      <td>last_observed</td>\n",
       "      <td>floors</td>\n",
       "      <td>rmse</td>\n",
       "      <td>4.404026e+01</td>\n",
       "    </tr>\n",
       "    <tr>\n",
       "      <th>8</th>\n",
       "      <td>last_observed</td>\n",
       "      <td>min_sed</td>\n",
       "      <td>mse</td>\n",
       "      <td>5.567194e+04</td>\n",
       "    </tr>\n",
       "    <tr>\n",
       "      <th>9</th>\n",
       "      <td>last_observed</td>\n",
       "      <td>min_sed</td>\n",
       "      <td>rmse</td>\n",
       "      <td>2.359490e+02</td>\n",
       "    </tr>\n",
       "    <tr>\n",
       "      <th>10</th>\n",
       "      <td>last_observed</td>\n",
       "      <td>min_active_light</td>\n",
       "      <td>mse</td>\n",
       "      <td>5.077699e+03</td>\n",
       "    </tr>\n",
       "    <tr>\n",
       "      <th>11</th>\n",
       "      <td>last_observed</td>\n",
       "      <td>min_active_light</td>\n",
       "      <td>rmse</td>\n",
       "      <td>7.125797e+01</td>\n",
       "    </tr>\n",
       "    <tr>\n",
       "      <th>12</th>\n",
       "      <td>last_observed</td>\n",
       "      <td>min_active_fairly</td>\n",
       "      <td>mse</td>\n",
       "      <td>3.059981e+02</td>\n",
       "    </tr>\n",
       "    <tr>\n",
       "      <th>13</th>\n",
       "      <td>last_observed</td>\n",
       "      <td>min_active_fairly</td>\n",
       "      <td>rmse</td>\n",
       "      <td>1.749280e+01</td>\n",
       "    </tr>\n",
       "    <tr>\n",
       "      <th>14</th>\n",
       "      <td>last_observed</td>\n",
       "      <td>min_active_very</td>\n",
       "      <td>mse</td>\n",
       "      <td>2.742150e+03</td>\n",
       "    </tr>\n",
       "    <tr>\n",
       "      <th>15</th>\n",
       "      <td>last_observed</td>\n",
       "      <td>min_active_very</td>\n",
       "      <td>rmse</td>\n",
       "      <td>5.236554e+01</td>\n",
       "    </tr>\n",
       "    <tr>\n",
       "      <th>16</th>\n",
       "      <td>last_observed</td>\n",
       "      <td>cal_activity</td>\n",
       "      <td>mse</td>\n",
       "      <td>7.385698e+05</td>\n",
       "    </tr>\n",
       "    <tr>\n",
       "      <th>17</th>\n",
       "      <td>last_observed</td>\n",
       "      <td>cal_activity</td>\n",
       "      <td>rmse</td>\n",
       "      <td>8.594008e+02</td>\n",
       "    </tr>\n",
       "  </tbody>\n",
       "</table>\n",
       "</div>"
      ],
      "text/plain": [
       "       model_type         target_var metric         value\n",
       "0   last_observed           cal_burn    mse  3.815530e+05\n",
       "1   last_observed           cal_burn   rmse  6.176997e+02\n",
       "2   last_observed              steps    mse  5.707205e+07\n",
       "3   last_observed              steps   rmse  7.554604e+03\n",
       "4   last_observed           distance    mse  1.319972e+01\n",
       "5   last_observed           distance   rmse  3.633143e+00\n",
       "6   last_observed             floors    mse  1.939545e+03\n",
       "7   last_observed             floors   rmse  4.404026e+01\n",
       "8   last_observed            min_sed    mse  5.567194e+04\n",
       "9   last_observed            min_sed   rmse  2.359490e+02\n",
       "10  last_observed   min_active_light    mse  5.077699e+03\n",
       "11  last_observed   min_active_light   rmse  7.125797e+01\n",
       "12  last_observed  min_active_fairly    mse  3.059981e+02\n",
       "13  last_observed  min_active_fairly   rmse  1.749280e+01\n",
       "14  last_observed    min_active_very    mse  2.742150e+03\n",
       "15  last_observed    min_active_very   rmse  5.236554e+01\n",
       "16  last_observed       cal_activity    mse  7.385698e+05\n",
       "17  last_observed       cal_activity   rmse  8.594008e+02"
      ]
     },
     "execution_count": 47,
     "metadata": {},
     "output_type": "execute_result"
    }
   ],
   "source": [
    "TS_loopy()"
   ]
  },
  {
   "cell_type": "code",
   "execution_count": null,
   "metadata": {},
   "outputs": [],
   "source": []
  },
  {
   "cell_type": "code",
   "execution_count": null,
   "metadata": {},
   "outputs": [],
   "source": [
    "\n",
    "    "
   ]
  },
  {
   "cell_type": "code",
   "execution_count": null,
   "metadata": {},
   "outputs": [],
   "source": []
  },
  {
   "cell_type": "code",
   "execution_count": null,
   "metadata": {},
   "outputs": [],
   "source": [
    "plot_and_eval(target_vars=target_vars, train = train, test = test)"
   ]
  },
  {
   "cell_type": "code",
   "execution_count": null,
   "metadata": {},
   "outputs": [],
   "source": [
    "#eval_df = append_eval_df(model_type, target_vars, train = train, test = test)"
   ]
  },
  {
   "cell_type": "code",
   "execution_count": null,
   "metadata": {},
   "outputs": [],
   "source": [
    "eval_df = pd.DataFrame(columns=['model_type', 'target_var', 'metric', 'value'])\n",
    "eval_df"
   ]
  },
  {
   "cell_type": "code",
   "execution_count": null,
   "metadata": {},
   "outputs": [],
   "source": [
    "for var in target_vars:\n",
    "    yhat[var] = train[var].mean()"
   ]
  },
  {
   "cell_type": "code",
   "execution_count": null,
   "metadata": {},
   "outputs": [],
   "source": [
    "plot_and_eval(target_vars, train = train, test = test)"
   ]
  },
  {
   "cell_type": "code",
   "execution_count": null,
   "metadata": {},
   "outputs": [],
   "source": []
  },
  {
   "cell_type": "code",
   "execution_count": null,
   "metadata": {},
   "outputs": [],
   "source": []
  },
  {
   "cell_type": "code",
   "execution_count": null,
   "metadata": {},
   "outputs": [],
   "source": []
  },
  {
   "cell_type": "code",
   "execution_count": null,
   "metadata": {},
   "outputs": [],
   "source": []
  },
  {
   "cell_type": "code",
   "execution_count": null,
   "metadata": {},
   "outputs": [],
   "source": [
    "decomposition = sm.tsa.seasonal_decompose(train.cal_burn.resample(\"B\").mean(), model='additive')\n",
    "\n",
    "fig = decomposition.plot()\n",
    "plt.show()"
   ]
  },
  {
   "cell_type": "code",
   "execution_count": null,
   "metadata": {},
   "outputs": [],
   "source": [
    "train.head()"
   ]
  },
  {
   "cell_type": "markdown",
   "metadata": {},
   "source": [
    "Calories Burn and Activity Calories are related.\n",
    "Confirms Hypothesis that we can use the BMR calculation to impute missing values on Activity Calories.\n",
    "-formula"
   ]
  },
  {
   "cell_type": "code",
   "execution_count": null,
   "metadata": {},
   "outputs": [],
   "source": [
    "sns.lmplot(data=train,x=\"cal_burn\",y=\"cal_activity\")"
   ]
  },
  {
   "cell_type": "code",
   "execution_count": null,
   "metadata": {},
   "outputs": [],
   "source": [
    "median_bmr = (train.cal_burn - train.cal_activity).median()"
   ]
  },
  {
   "cell_type": "code",
   "execution_count": null,
   "metadata": {},
   "outputs": [],
   "source": [
    "missing_subset = train[\"2018-06-26\":\"2018-07-06\"]"
   ]
  },
  {
   "cell_type": "code",
   "execution_count": null,
   "metadata": {},
   "outputs": [],
   "source": [
    "missing_subset[missing_subset.cal_activity==0][\"cal_activity\"] = missing_subset.cal_burn - median_bmr"
   ]
  },
  {
   "cell_type": "code",
   "execution_count": null,
   "metadata": {},
   "outputs": [],
   "source": [
    "missing_subset[missing_subset.cal_activity==0][\"cal_activity\"]"
   ]
  },
  {
   "cell_type": "code",
   "execution_count": null,
   "metadata": {},
   "outputs": [],
   "source": [
    "for row in missing_subset:\n",
    "    if row.cal_activity == 0:\n",
    "        print(\"yes\")"
   ]
  },
  {
   "cell_type": "code",
   "execution_count": null,
   "metadata": {},
   "outputs": [],
   "source": [
    "if missing_subset.cal_activity == 0:\n",
    "    missing_subset.replace(0,missing_subset.cal_burn - median_bmr,inplace=True)"
   ]
  },
  {
   "cell_type": "code",
   "execution_count": null,
   "metadata": {},
   "outputs": [],
   "source": [
    "missing_subset"
   ]
  },
  {
   "cell_type": "code",
   "execution_count": null,
   "metadata": {},
   "outputs": [],
   "source": [
    "train[\"2018-06-26\":\"2018-07-06\"][train.cal_activity==0][\"cal_activity\"] = train.cal_burn - median_bmr"
   ]
  },
  {
   "cell_type": "code",
   "execution_count": null,
   "metadata": {},
   "outputs": [],
   "source": [
    "train[\"2018-06-26\":\"2018-07-06\"].cal_activity\n",
    "\n",
    "train.cal_activity = train.cal_activity == 0]\n",
    "\n",
    "\n",
    "#impute 0 cal_activity using bmr formula\n",
    "missing_val.cal_activity = missing_val.cal_burn - median_bmr\n",
    "missing_val.cal_activity = missing_val.cal_activity.astype(\"int\")"
   ]
  },
  {
   "cell_type": "code",
   "execution_count": null,
   "metadata": {},
   "outputs": [],
   "source": [
    "#get the week with missing value, then\n",
    "#filter out the rows with 0 cal_activity\n",
    "missing_subset = train[\"2018-06-26\":\"2018-07-06\"]\n",
    "missing_subset[\"min_active_steps\"] = mean_lds_steps"
   ]
  },
  {
   "cell_type": "code",
   "execution_count": null,
   "metadata": {},
   "outputs": [],
   "source": [
    "#impute 0 cal_activity using bmr formula\n",
    "missing_val.cal_activity = missing_val.cal_burn - median_bmr\n",
    "missing_val.cal_activity = missing_val.cal_activity.astype(\"int\")"
   ]
  },
  {
   "cell_type": "code",
   "execution_count": null,
   "metadata": {},
   "outputs": [],
   "source": [
    "train[\"2018-06-26\":\"2018-07-06\"]"
   ]
  },
  {
   "cell_type": "markdown",
   "metadata": {},
   "source": [
    "Now, let us see the method for imputing steps, min_act...\n",
    "\n",
    "Lazy Days Stats"
   ]
  },
  {
   "cell_type": "code",
   "execution_count": null,
   "metadata": {},
   "outputs": [],
   "source": [
    "mean_lds_very = train[(train.cal_burn < 2500) & (train.cal_burn > 2000)].min_active_very.mean()"
   ]
  },
  {
   "cell_type": "code",
   "execution_count": null,
   "metadata": {},
   "outputs": [],
   "source": [
    "mean_lds_fairly = train[(train.cal_burn < 2500) & (train.cal_burn > 2000)].min_active_fairly.mean()"
   ]
  },
  {
   "cell_type": "code",
   "execution_count": null,
   "metadata": {},
   "outputs": [],
   "source": [
    "mean_lds_light = train[(train.cal_burn < 2500) & (train.cal_burn > 2000)].min_active_light.mean()"
   ]
  },
  {
   "cell_type": "code",
   "execution_count": null,
   "metadata": {},
   "outputs": [],
   "source": [
    "mean_lds_floor = train[(train.cal_burn < 2500) & (train.cal_burn > 2000)].floors.mean()"
   ]
  },
  {
   "cell_type": "code",
   "execution_count": null,
   "metadata": {},
   "outputs": [],
   "source": [
    "mean_lds_distance = train[(train.cal_burn < 2500) & (train.cal_burn > 2000)].distance.mean()"
   ]
  },
  {
   "cell_type": "code",
   "execution_count": null,
   "metadata": {},
   "outputs": [],
   "source": [
    "mean_lds_steps = train[(train.cal_burn < 2500) & (train.cal_burn > 2000)].steps.mean()"
   ]
  },
  {
   "cell_type": "code",
   "execution_count": null,
   "metadata": {},
   "outputs": [],
   "source": [
    "sns.lmplot(data=train,x=\"cal_burn\",y=\"steps\")\n",
    "plt.show()"
   ]
  },
  {
   "cell_type": "code",
   "execution_count": null,
   "metadata": {},
   "outputs": [],
   "source": [
    "train.cal_burn.resample(\"D\").mean().diff(periods=5).plot(figsize=(12,4))"
   ]
  },
  {
   "cell_type": "code",
   "execution_count": null,
   "metadata": {},
   "outputs": [],
   "source": [
    "#get the week with missing value, then\n",
    "#filter out the rows with 0 cal_activity\n",
    "missing_subset = train[\"2018-06-26\":\"2018-07-06\"]\n",
    "missing_subset[\"min_active_steps\"] = mean_lds_steps"
   ]
  },
  {
   "cell_type": "code",
   "execution_count": null,
   "metadata": {},
   "outputs": [],
   "source": [
    "binned_steps = pd.cut(x=train.steps,bins=10)\n",
    "binned_steps.value_counts(sort=False).plot.bar()\n",
    "plt.show()"
   ]
  },
  {
   "cell_type": "code",
   "execution_count": null,
   "metadata": {},
   "outputs": [],
   "source": [
    "train_imp_ref = train.steps.loc[\"2018-07\":]\n",
    "train_imp_ref"
   ]
  },
  {
   "cell_type": "code",
   "execution_count": null,
   "metadata": {},
   "outputs": [],
   "source": [
    "train.steps.loc[\"2018-07\":].groupby(\"weekday_name\").mean()"
   ]
  },
  {
   "cell_type": "markdown",
   "metadata": {},
   "source": [
    "No trend.\n",
    "Yes seasonality."
   ]
  },
  {
   "cell_type": "markdown",
   "metadata": {},
   "source": [
    "## II. Explore"
   ]
  },
  {
   "cell_type": "markdown",
   "metadata": {},
   "source": [
    "**Questions**\n",
    "\n",
    "1. Are there any day of the week where Armstrong is particularly more active or sedentary?\n",
    "2. Do Armstrong have weekly patterns of activity?\n",
    "3. During which months is Armstrong more/less active?\n",
    "4. What is Armstrong's average statistics? Use moving average, so non or less-active/non or less-recorded days will not affect the overall averages of :\n",
    "  - Calories burned\n",
    "  - Steps taken\n",
    "  - Distance\n",
    "  - Floors\n",
    "  - Sedentary or not active in minutes\n",
    "  - Lightly active in minutes\n",
    "  - Very active in minutes\n",
    "  - Calories burned by activity\n",
    "5. Is Armstrong more active in a particular season of the year (cool, hot, cold months)?\n",
    "6. What is Armstrong's time series decompostion look like?\n",
    "7. What is Armstrong's daily and weekly activity frequencies look like?\n",
    "8. What's the correlation between activity from yesterday-today (lag)?"
   ]
  },
  {
   "cell_type": "code",
   "execution_count": null,
   "metadata": {},
   "outputs": [],
   "source": [
    "train_month = train.resample(\"M\").mean()"
   ]
  },
  {
   "cell_type": "code",
   "execution_count": null,
   "metadata": {},
   "outputs": [],
   "source": [
    "train.columns"
   ]
  },
  {
   "cell_type": "code",
   "execution_count": null,
   "metadata": {},
   "outputs": [],
   "source": [
    "train_month.index.unique()"
   ]
  },
  {
   "cell_type": "code",
   "execution_count": null,
   "metadata": {},
   "outputs": [],
   "source": [
    "plt.figure(figsize=(10,4))\n",
    "plt.plot(train_month.loc[:,['cal_burn','steps','distance','floors']], marker='o')\n",
    "plt.legend(['cal_burn', 'steps','distance','floors'],loc='center left', bbox_to_anchor=(1, 0.5))\n",
    "# plt.xticks([\"2018-0\",\"2018-11\",\"2018-10\",\"2018-09\",\"2018-08\"],[\"Dec\",\"Nov\",\"Oct\",\"Sept\",\"Aug\",\"Jul\"])\n",
    "\n",
    "plt.show()"
   ]
  },
  {
   "cell_type": "code",
   "execution_count": null,
   "metadata": {},
   "outputs": [],
   "source": [
    "plt.figure(figsize=(10,4))\n",
    "plt.plot(train_month.loc[:,['min_sed', 'min_active_light','min_active_fairly','min_active_very']], marker='o')\n",
    "plt.legend(['min_sed','min_active_light', 'min_active_fairly', 'min_active_very'],loc='center left', bbox_to_anchor=(1, 0.5))\n",
    "plt.xticks([\"2018-08\",\"2018-09\",\"2018-10\",\"2018-11\",\"2018-12\"],[\"Jul\",\"Aug\",\"Sep\",\"Oct\",\"Nov\",\"Dec\"])\n",
    "\n",
    "plt.show()"
   ]
  },
  {
   "cell_type": "markdown",
   "metadata": {},
   "source": [
    "<div class=\"alert alert-block alert-warning\">\n",
    "<b>Answer:</b>\n",
    "Armstrong has a generally sedentary lifestyle with an activity level of \"light\". We see a heightened steps count in Oct-Dec (colder months). He was least active in July and September, which are summer months.\n",
    "</div>"
   ]
  },
  {
   "cell_type": "code",
   "execution_count": null,
   "metadata": {},
   "outputs": [],
   "source": [
    "decomposition = sm.tsa.seasonal_decompose(train.cal_burn.resample(\"D\").mean(), model='additive')\n",
    "\n",
    "fig = decomposition.plot()\n",
    "plt.show()"
   ]
  },
  {
   "cell_type": "code",
   "execution_count": null,
   "metadata": {},
   "outputs": [],
   "source": [
    "# sns.barplot(x=train_month.index, y=\"cal_burn\", data=train_month, palette=[\"gray\"]*6)\n",
    "\n",
    "for att in train.columns:\n",
    "    train.groupby(train.index.month)[att].mean().plot.bar(edgecolor='black', width=.9, figsize=(12, 7))\n",
    "    plt.title(f\"{att} by month\")\n",
    "    plt.show()\n",
    "# flights.groupby('weekday').delay.mean().plot.bar(edgecolor='black', width=.9, figsize=(12, 7))\n",
    "# # flights.groupby(flights.index.weekday_name).delay.mean().plot.bar(edgecolor='black', width=.9, figsize=(12, 7))\n",
    "# plt.xticks(rotation=0)"
   ]
  },
  {
   "cell_type": "markdown",
   "metadata": {},
   "source": [
    "## III. Model"
   ]
  },
  {
   "cell_type": "code",
   "execution_count": null,
   "metadata": {},
   "outputs": [],
   "source": [
    "def evaluate(target_var, train = train, test = test, output=True):\n",
    "    mse = metrics.mean_squared_error(test[target_var], yhat[target_var])\n",
    "    rmse = math.sqrt(mse)\n",
    "\n",
    "    if output:\n",
    "        print('MSE:  {}'.format(mse))\n",
    "        print('RMSE: {}'.format(rmse))\n",
    "    else:\n",
    "        return mse, rmse\n",
    "\n",
    "def plot_and_eval(target_vars, train = train, test = test, metric_fmt = '{:.2f}', linewidth = 4):\n",
    "    if type(target_vars) is not list:\n",
    "        target_vars = [target_vars]\n",
    "\n",
    "    plt.figure(figsize=(16, 8))\n",
    "    plt.plot(train[target_vars],label='Train')\n",
    "    plt.plot(test[target_vars], label='Test')\n",
    "\n",
    "    for var in target_vars:\n",
    "        mse, rmse = evaluate(target_var = var, train = train, test = test, output=False)\n",
    "        plt.plot(yhat[var], linewidth=linewidth)\n",
    "        print(f'{var} -- MSE: {metric_fmt} RMSE: {metric_fmt}'.format(mse, rmse))\n",
    "\n",
    "    plt.show()"
   ]
  },
  {
   "cell_type": "code",
   "execution_count": null,
   "metadata": {},
   "outputs": [],
   "source": [
    "eval_df = pd.DataFrame(columns=['model_type', 'target_var', 'metric', 'value'])\n",
    "eval_df"
   ]
  },
  {
   "cell_type": "code",
   "execution_count": null,
   "metadata": {},
   "outputs": [],
   "source": [
    "# create df to store MSE & RMSE\n",
    "def append_eval_df(model_type, target_vars, train = train, test = test):\n",
    "    temp_eval_df = pd.concat([pd.DataFrame([[model_type, i, 'mse', evaluate(target_var = i, \n",
    "                                                                            train = train, \n",
    "                                                                            test = test, \n",
    "                                                                            output=False)[0]],\n",
    "                                            [model_type, i, 'rmse', evaluate(target_var = i, \n",
    "                                                                             train = train, \n",
    "                                                                             test = test, \n",
    "                                                                             output=False)[1]]],\n",
    "                                           columns=['model_type', 'target_var', 'metric', 'value']) \n",
    "                              for i in target_vars], ignore_index=True)\n",
    "    return eval_df.append(temp_eval_df, ignore_index=True)"
   ]
  },
  {
   "cell_type": "code",
   "execution_count": null,
   "metadata": {},
   "outputs": [],
   "source": [
    "periods = 30\n",
    "yhat['y'] = train.y.rolling(periods).mean().iloc[-1]\n",
    "\n",
    "# plot_and_eval(target_vars, train, test)\n",
    "# eval_df = append_eval_df(model_type='moving_average', target_vars=['y'], train = train, test = test)\n",
    "\n",
    "plt.figure(figsize=(16, 8))\n",
    "plt.plot(train[target_vars],label='Train')\n",
    "plt.plot(test[target_vars], label='Test')\n",
    "period_vals = [1, 4, 12, 26, 52, 104]\n",
    "for p in period_vals:\n",
    "    yhat['y'] = train.y.rolling(p).mean().iloc[-1]\n",
    "    plt.plot(yhat.y)\n",
    "    print('\\nrolling averge period:',p)\n",
    "    print('\\nitem sales\\n')\n",
    "    evaluate('y', train = train, test = test)"
   ]
  },
  {
   "cell_type": "code",
   "execution_count": null,
   "metadata": {},
   "outputs": [],
   "source": []
  }
 ],
 "metadata": {
  "kernelspec": {
   "display_name": "Python 3",
   "language": "python",
   "name": "python3"
  },
  "language_info": {
   "codemirror_mode": {
    "name": "ipython",
    "version": 3
   },
   "file_extension": ".py",
   "mimetype": "text/x-python",
   "name": "python",
   "nbconvert_exporter": "python",
   "pygments_lexer": "ipython3",
   "version": "3.7.3"
  },
  "toc": {
   "base_numbering": 1,
   "nav_menu": {},
   "number_sections": true,
   "sideBar": true,
   "skip_h1_title": false,
   "title_cell": "Table of Contents",
   "title_sidebar": "Contents",
   "toc_cell": false,
   "toc_position": {},
   "toc_section_display": true,
   "toc_window_display": false
  },
  "varInspector": {
   "cols": {
    "lenName": 16,
    "lenType": 16,
    "lenVar": 40
   },
   "kernels_config": {
    "python": {
     "delete_cmd_postfix": "",
     "delete_cmd_prefix": "del ",
     "library": "var_list.py",
     "varRefreshCmd": "print(var_dic_list())"
    },
    "r": {
     "delete_cmd_postfix": ") ",
     "delete_cmd_prefix": "rm(",
     "library": "var_list.r",
     "varRefreshCmd": "cat(var_dic_list()) "
    }
   },
   "types_to_exclude": [
    "module",
    "function",
    "builtin_function_or_method",
    "instance",
    "_Feature"
   ],
   "window_display": false
  }
 },
 "nbformat": 4,
 "nbformat_minor": 2
}
